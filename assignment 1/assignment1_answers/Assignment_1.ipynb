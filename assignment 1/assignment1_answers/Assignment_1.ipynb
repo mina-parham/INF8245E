{
  "nbformat": 4,
  "nbformat_minor": 5,
  "metadata": {
    "kernelspec": {
      "display_name": "Python 3",
      "language": "python",
      "name": "python3"
    },
    "language_info": {
      "codemirror_mode": {
        "name": "ipython",
        "version": 3
      },
      "file_extension": ".py",
      "mimetype": "text/x-python",
      "name": "python",
      "nbconvert_exporter": "python",
      "pygments_lexer": "ipython3",
      "version": "3.7.4"
    },
    "colab": {
      "name": "Assignment 1.ipynb",
      "provenance": []
    }
  },
  "cells": [
    {
      "cell_type": "markdown",
      "metadata": {
        "id": "0525e66c"
      },
      "source": [
        "# Zahra Parham 2122841"
      ],
      "id": "0525e66c"
    },
    {
      "cell_type": "markdown",
      "metadata": {
        "id": "28904874"
      },
      "source": [
        "## 1 Sampling"
      ],
      "id": "28904874"
    },
    {
      "cell_type": "markdown",
      "metadata": {
        "id": "105f3c12"
      },
      "source": [
        "### 1.1"
      ],
      "id": "105f3c12"
    },
    {
      "cell_type": "code",
      "metadata": {
        "id": "ffb9bcbe",
        "outputId": "64bc8b53-5452-42ab-8783-4ee0472e293f"
      },
      "source": [
        "import matplotlib.pyplot as plt\n",
        "import matplotlib.image as mpimg\n",
        "\n",
        "img=mpimg.imread('1.jpg')\n",
        "imgplot = plt.imshow(img)\n"
      ],
      "id": "ffb9bcbe",
      "execution_count": null,
      "outputs": [
        {
          "data": {
            "image/png": "[encoded data removed]",
            "text/plain": [
              "<Figure size 432x288 with 1 Axes>"
            ]
          },
          "metadata": {
            "needs_background": "light"
          },
          "output_type": "display_data"
        }
      ]
    },
    {
      "cell_type": "markdown",
      "metadata": {
        "id": "dff9a027"
      },
      "source": [
        "### 1.2"
      ],
      "id": "dff9a027"
    },
    {
      "cell_type": "code",
      "metadata": {
        "id": "57373f5e"
      },
      "source": [
        "import numpy as np\n",
        "test = np.zeros(4)\n",
        "test[0]= 4\n",
        "test\n",
        "\n",
        "def prob(n):\n",
        "    result = np.zeros(4)\n",
        "    for i in range(n):\n",
        "        random = np.random.uniform(0,1)\n",
        "        if random < 0.2:\n",
        "            result[0] = result[0] + 1\n",
        "        if random >= 0.2 and random< 0.6:\n",
        "            result[1] = result[1] + 1\n",
        "\n",
        "        if random >= 0.6 and random<0.7:\n",
        "            result[2] = result[2] + 1\n",
        "\n",
        "        if random>=0.7 and random <=1:\n",
        "            result[3] = result[3] + 1\n",
        "\n",
        "    return result / n\n",
        "    \n"
      ],
      "id": "57373f5e",
      "execution_count": null,
      "outputs": []
    },
    {
      "cell_type": "code",
      "metadata": {
        "id": "024c7005",
        "outputId": "1cea2336-c19f-4474-a60f-b2dde737edc9"
      },
      "source": [
        "result_100 = prob(100)\n",
        "print(f\"in 100 days - movie: {result_100[0]}, INF8245E:{result_100[1]}, playing:{result_100[2]}, studying:{result_100[3]} \")\n",
        "result_1000 = prob(1000)\n",
        "print(f\"in 1000 days - movie: {result_1000[0]}, INF8245E:{result_1000[1]}, playing:{result_1000[2]}, studying:{result_1000[3]} \")\n",
        "\n",
        "       "
      ],
      "id": "024c7005",
      "execution_count": null,
      "outputs": [
        {
          "name": "stdout",
          "output_type": "stream",
          "text": [
            "in 100 days - movie: 0.22, INF8245E:0.34, playing:0.07, studying:0.37 \n",
            "in 1000 days - movie: 0.198, INF8245E:0.391, playing:0.079, studying:0.332 \n"
          ]
        }
      ]
    },
    {
      "cell_type": "markdown",
      "metadata": {
        "id": "008e40fa"
      },
      "source": [
        "Based on comparing the fraction in 100 days and 1000 days, we can assume that by increasing the number of sampling, each activity will get closer to its probability"
      ],
      "id": "008e40fa"
    },
    {
      "cell_type": "markdown",
      "metadata": {
        "id": "39b5744b"
      },
      "source": [
        "### 2 Model Selection"
      ],
      "id": "39b5744b"
    },
    {
      "cell_type": "markdown",
      "metadata": {
        "id": "430fcd61"
      },
      "source": [
        "### 2.1"
      ],
      "id": "430fcd61"
    },
    {
      "cell_type": "code",
      "metadata": {
        "id": "e142ac22"
      },
      "source": [
        "# first I split train data, test data and validation data to x and y:\n",
        "import pandas as pd\n",
        "dataset_test = pd.read_csv(\"Datasets/Dataset_1_test.csv\", header = None)\n",
        "test_x = dataset_test[0]\n",
        "test_y = dataset_test[1]\n"
      ],
      "id": "e142ac22",
      "execution_count": null,
      "outputs": []
    },
    {
      "cell_type": "code",
      "metadata": {
        "id": "abe767e9"
      },
      "source": [
        "dataset_train = pd.read_csv(\"Datasets/Dataset_1_train.csv\", header = None)\n",
        "train_x = dataset_train[0]\n",
        "train_y = dataset_train[1]"
      ],
      "id": "abe767e9",
      "execution_count": null,
      "outputs": []
    },
    {
      "cell_type": "code",
      "metadata": {
        "id": "c4af9ac6"
      },
      "source": [
        "dataset_valid =pd.read_csv(\"Datasets/Dataset_1_valid.csv\", header = None)\n",
        "valid_x = dataset_valid[0]\n",
        "valid_y = dataset_valid[1]"
      ],
      "id": "c4af9ac6",
      "execution_count": null,
      "outputs": []
    },
    {
      "cell_type": "markdown",
      "metadata": {
        "id": "15f47783"
      },
      "source": [
        "### 1.a"
      ],
      "id": "15f47783"
    },
    {
      "cell_type": "code",
      "metadata": {
        "id": "8fbd951d",
        "outputId": "1d8b2b6c-7061-46d0-8440-4b8d6ca4b791"
      },
      "source": [
        "#cover x to a 50*20 matrix\n",
        "def final_x(x):\n",
        "    result = np.zeros((50,20))\n",
        "    for i in range(50):\n",
        "        for j in range(20):\n",
        "            result[i][j] = x[i] ** j\n",
        "    return result\n",
        "\n",
        "\n",
        "#compute RSME:\n",
        "def f_rmse(x, y, w):\n",
        "    y_hat = np.dot(x, w)\n",
        "    return np.sqrt(np.sum((y_hat - y) ** 2 )/ 50)\n",
        "\n",
        "final_x_train = final_x(train_x)\n",
        "final_x_valid = final_x(valid_x)\n",
        "\n",
        "#Compute W:\n",
        "def w(x , y):\n",
        "    x_t = np.transpose(x)\n",
        "    x_t_x = np.dot(x_t, x)\n",
        "    x_t_x_inv = np.linalg.inv(x_t_x)\n",
        "    x_t_y = np.dot(x_t, y)\n",
        "    w = np.dot(x_t_x_inv, x_t_y)\n",
        "    return w\n",
        "w = w(final_x_train, train_y)\n",
        "rmse_valid = f_rmse(final_x_valid, valid_y, w)\n",
        "rmse_train = f_rmse(final_x_train, train_y, w)\n",
        "\n",
        "\n",
        "print(f\"Train RMSE:{rmse_train}, Validation RMSE{rmse_valid}\")  \n",
        "    \n",
        "      "
      ],
      "id": "8fbd951d",
      "execution_count": null,
      "outputs": [
        {
          "name": "stdout",
          "output_type": "stream",
          "text": [
            "Train RMSE:2.6774364810380065, Validation RMSE18.352463341124924\n"
          ]
        }
      ]
    },
    {
      "cell_type": "markdown",
      "metadata": {
        "id": "4e5f20f3"
      },
      "source": [
        "### 1.b"
      ],
      "id": "4e5f20f3"
    },
    {
      "cell_type": "code",
      "metadata": {
        "id": "bf73d1ed",
        "outputId": "7c820e31-02ef-40fc-d57c-13f886b11719"
      },
      "source": [
        "import itertools\n",
        "new_x, new_y = zip(*sorted(zip(train_x, np.dot(final_x_train, w))))\n",
        "import matplotlib.pyplot as plt\n",
        "\n",
        "plt.plot(train_x, train_y, 'ro')\n",
        "plt.plot(new_x, new_y)\n",
        "\n",
        "plt.xlabel(\"x\")\n",
        "plt.ylabel(\"y\")\n",
        "\n",
        "plt.show()\n",
        "\n",
        "#plot all of them after"
      ],
      "id": "bf73d1ed",
      "execution_count": null,
      "outputs": [
        {
          "data": {
            "image/png": "[encoded data removed]",
            "text/plain": [
              "<Figure size 432x288 with 1 Axes>"
            ]
          },
          "metadata": {
            "needs_background": "light"
          },
          "output_type": "display_data"
        }
      ]
    },
    {
      "cell_type": "markdown",
      "metadata": {
        "id": "1596192a"
      },
      "source": [
        "### 1.c"
      ],
      "id": "1596192a"
    },
    {
      "cell_type": "markdown",
      "metadata": {
        "id": "34e2239b"
      },
      "source": [
        "The model is overfitting since, based on the plot, it is fit to the train data too closely, and also based on comparing the RMSE for train data and test data, we can assume that the model is overfitting."
      ],
      "id": "34e2239b"
    },
    {
      "cell_type": "markdown",
      "metadata": {
        "id": "9bfe624e"
      },
      "source": [
        "### 2"
      ],
      "id": "9bfe624e"
    },
    {
      "cell_type": "markdown",
      "metadata": {
        "id": "7c9b6671"
      },
      "source": [
        "### 2.a"
      ],
      "id": "7c9b6671"
    },
    {
      "cell_type": "code",
      "metadata": {
        "id": "7a386de4",
        "outputId": "3d347345-19d5-42fd-ad30-6faa213020a0"
      },
      "source": [
        "#cover x to a 50*20 matrix\n",
        "def final_x(x):\n",
        "    result = np.zeros((50,20))\n",
        "    for i in range(50):\n",
        "        for j in range(20):\n",
        "            result[i][j] = x[i] ** j\n",
        "    return result\n",
        "\n",
        "\n",
        "#compute RSME:\n",
        "def f_rmse(x, y, w):\n",
        "    y_hat = np.dot(x, w)\n",
        "    return np.sqrt(np.sum((y_hat - y) ** 2 )/ 50)\n",
        "\n",
        "final_x_train = final_x(train_x)\n",
        "final_x_valid = final_x(valid_x)\n",
        "\n",
        "#Compute W:\n",
        "def w_reg(x , y, landa):\n",
        "    I = np.identity(20)\n",
        "    x_t = np.transpose(x)\n",
        "    x_t_x = np.dot(x_t, x)\n",
        "    x_t_landa =x_t_x  + np.dot(landa, I)\n",
        "    x_t_x_inv = np.linalg.inv(x_t_landa)\n",
        "    x_t_y = np.dot(x_t, y)\n",
        "    w = np.dot(x_t_x_inv, x_t_y)\n",
        "    return w\n",
        "    \n",
        "      \n",
        "\n",
        "rmse_reg_valid = []\n",
        "rmse_reg_train = [] \n",
        "\n",
        "for landa in np.arange(0, 1, 0.01):\n",
        "    w = w_reg(final_x_train, train_y, landa)\n",
        "    rmse_reg_valid.append(f_rmse(final_x_valid, valid_y, w))\n",
        "    rmse_reg_train.append(f_rmse(final_x_train, train_y, w))\n",
        "\n",
        "\n",
        "    \n",
        "x= np.arange(0,1,0.01)    \n",
        "plt.plot(x, rmse_reg_valid, label = \"validation RMSE\")\n",
        "plt.plot(x, rmse_reg_train, label = \"train RMSE\")\n",
        "plt.xlabel(\"landa\")\n",
        "plt.ylabel(\"RMSE\")\n",
        "plt.ylim([2.6, 4])\n",
        "plt.legend()\n",
        "plt.show()\n",
        "\n"
      ],
      "id": "7a386de4",
      "execution_count": null,
      "outputs": [
        {
          "data": {
            "image/png": "[encoded data removed]",
            "text/plain": [
              "<Figure size 432x288 with 1 Axes>"
            ]
          },
          "metadata": {
            "needs_background": "light"
          },
          "output_type": "display_data"
        }
      ]
    },
    {
      "cell_type": "markdown",
      "metadata": {
        "id": "15aa7088"
      },
      "source": [
        "### 2.b"
      ],
      "id": "15aa7088"
    },
    {
      "cell_type": "markdown",
      "metadata": {
        "id": "996a1fc9"
      },
      "source": [
        "best landa based on the plot is 0.01"
      ],
      "id": "996a1fc9"
    },
    {
      "cell_type": "code",
      "metadata": {
        "id": "76288988",
        "outputId": "0a2cfe09-d4bb-432e-ce70-8e4c3dbfa3a9"
      },
      "source": [
        "best_w =w_reg(final_x_train, train_y, 0.01)\n",
        "\n",
        "rmse_reg_test = f_rmse(final_x(test_x), test_y, best_w)\n",
        "print(f\"RMSE for test data with the best landa = 0.01 is: {rmse_reg_test}\")"
      ],
      "id": "76288988",
      "execution_count": null,
      "outputs": [
        {
          "name": "stdout",
          "output_type": "stream",
          "text": [
            "RMSE for test data with the best landa = 0.01 is: 3.2925595397745555\n"
          ]
        }
      ]
    },
    {
      "cell_type": "markdown",
      "metadata": {
        "id": "b73503ea"
      },
      "source": [
        "### 2.c"
      ],
      "id": "b73503ea"
    },
    {
      "cell_type": "code",
      "metadata": {
        "id": "d014d4cb",
        "outputId": "25fa3f28-4cfb-423b-d375-04b5b4cb3741"
      },
      "source": [
        "import itertools\n",
        "new_x, new_y = zip(*sorted(zip(train_x, np.dot(final_x_train, best_w))))\n",
        "import matplotlib.pyplot as plt\n",
        "\n",
        "plt.plot(train_x, train_y, 'ro')\n",
        "plt.plot(new_x, new_y, label =\"landa = 0.01\")\n",
        "\n",
        "plt.xlabel(\"x\")\n",
        "plt.ylabel(\"y\")\n",
        "plt.legend()\n",
        "plt.show()\n",
        "\n"
      ],
      "id": "d014d4cb",
      "execution_count": null,
      "outputs": [
        {
          "data": {
            "image/png": "[encoded data removed]",
            "text/plain": [
              "<Figure size 432x288 with 1 Axes>"
            ]
          },
          "metadata": {
            "needs_background": "light"
          },
          "output_type": "display_data"
        }
      ]
    },
    {
      "cell_type": "markdown",
      "metadata": {
        "id": "e02b56fa"
      },
      "source": [
        "### 2.d"
      ],
      "id": "e02b56fa"
    },
    {
      "cell_type": "markdown",
      "metadata": {
        "id": "856b94fe"
      },
      "source": [
        "This is a good fit for the data because:\n",
        "\n",
        "1- based on the plot, it does not fit too closely or does not have enough flexibility in terms of line fitting( learning too much or too small)\n",
        "\n",
        "2- based on the RMSE on test and train data, we can assume that the model is not overfitting or underfitting since it has good RMSE(result) on both the train and test dataset"
      ],
      "id": "856b94fe"
    },
    {
      "cell_type": "markdown",
      "metadata": {
        "id": "c00fec5a"
      },
      "source": [
        "### 3"
      ],
      "id": "c00fec5a"
    },
    {
      "cell_type": "markdown",
      "metadata": {
        "id": "61256bad"
      },
      "source": [
        "it's hard to infer the exact degree from the last plot but from comparing the last plot with the other degree polynomial it can be a third-degree polynomial"
      ],
      "id": "61256bad"
    },
    {
      "cell_type": "markdown",
      "metadata": {
        "id": "8e22e721"
      },
      "source": [
        "### 3 Gradient Descent for Regression"
      ],
      "id": "8e22e721"
    },
    {
      "cell_type": "markdown",
      "metadata": {
        "id": "0f7d5b3a"
      },
      "source": [
        "### 3.1"
      ],
      "id": "0f7d5b3a"
    },
    {
      "cell_type": "code",
      "metadata": {
        "id": "d75a5ff0"
      },
      "source": [
        "import pandas as pd\n",
        "dataset_train = pd.read_csv(\"Datasets/Dataset_2_train.csv\", header = None)\n",
        "\n",
        "train_x = dataset_train[0]\n",
        "train_x = train_x.to_numpy()\n",
        "train_y = dataset_train[1]\n",
        "train_y= train_y.to_numpy()\n",
        "\n",
        "dataset_test = pd.read_csv(\"Datasets/Dataset_2_test.csv\", header = None)\n",
        "test_x = dataset_test[0]\n",
        "test_x = test_x.to_numpy()\n",
        "test_y = dataset_test[1]\n",
        "test_y = test_y.to_numpy()\n",
        "\n",
        "dataset_valid = pd.read_csv(\"Datasets/Dataset_2_valid.csv\", header = None)\n",
        "valid_x = dataset_valid[0]\n",
        "valid_x = valid_x.to_numpy()\n",
        "valid_y = dataset_valid[1]\n",
        "valid_y = valid_y.to_numpy()\n"
      ],
      "id": "d75a5ff0",
      "execution_count": null,
      "outputs": []
    },
    {
      "cell_type": "code",
      "metadata": {
        "id": "aff42985"
      },
      "source": [
        "def SGD(x, y, epochs, learning_rate):\n",
        "    theta = [0 for i in range(1)]\n",
        "    b = np.zeros(1)\n",
        "    result = []\n",
        "    theta_ = []\n",
        "    b_ = []\n",
        "    for e in range(epochs):\n",
        "        for i in range(len(x)):\n",
        "            random = np.random.randint(len(x))\n",
        "            rand_x = x[random:random+1]\n",
        "            rand_y = y[random:random+1]\n",
        "            \n",
        "            gradient = 2 * np.dot(np.transpose(rand_x),(np.dot(rand_x, theta) - rand_y))\n",
        "            gradient_b = 2 * (((np.dot(rand_x, theta)) + b) - rand_y)\n",
        "            theta = theta - learning_rate * gradient\n",
        "            b = b - learning_rate * gradient_b\n",
        "            \n",
        "        theta_.append(theta[0])\n",
        "        b_.append(b)\n",
        "        #result.append(RMSE(x, y, theta[0], b))\n",
        "            \n",
        "    return  theta_, b_\n",
        "\n",
        "def RMSE(x, y, theta, b):\n",
        "    \n",
        "    y_hat = np.dot(x, theta) + b\n",
        "    rmse = np.sum((y - y_hat) ** 2) / int(len(y))\n",
        "    return np.sqrt(rmse)\n",
        "\n"
      ],
      "id": "aff42985",
      "execution_count": null,
      "outputs": []
    },
    {
      "cell_type": "markdown",
      "metadata": {
        "id": "066ee21d"
      },
      "source": [
        "### 1.a"
      ],
      "id": "066ee21d"
    },
    {
      "cell_type": "code",
      "metadata": {
        "id": "7640507d"
      },
      "source": [
        "theta, b = SGD(train_x, train_y, 1000, 0.0001)\n",
        "\n",
        "rmse_train = []\n",
        "for i in range(len(theta)):\n",
        "    rmse_train.append(RMSE(train_x, train_y, theta[i], b[i]))\n",
        "    rmse_valid.append(RMSE(valid_x, valid_y, theta[i], b[i]))\n"
      ],
      "id": "7640507d",
      "execution_count": null,
      "outputs": []
    },
    {
      "cell_type": "code",
      "metadata": {
        "id": "8f8056ef",
        "outputId": "e5006402-8625-4e38-ad11-e4c89f7ef04c"
      },
      "source": [
        "plt.plot(rmse_train, label=\"RMSE train\")\n",
        "plt.plot(rmse_valid, label=\"RMSE valid\")\n",
        "plt.xlabel(\"epochs\")\n",
        "plt.ylabel(\"RMSE\")\n",
        "plt.ylim([0, 4])\n",
        "plt.xlim([-10, 1000])\n",
        "\n",
        "\n",
        "plt.legend()\n",
        "plt.show()\n"
      ],
      "id": "8f8056ef",
      "execution_count": null,
      "outputs": [
        {
          "data": {
            "image/png": "[encoded data removed]",
            "text/plain": [
              "<Figure size 432x288 with 1 Axes>"
            ]
          },
          "metadata": {
            "needs_background": "light"
          },
          "output_type": "display_data"
        }
      ]
    },
    {
      "cell_type": "markdown",
      "metadata": {
        "id": "fb331f5b"
      },
      "source": [
        "### 2"
      ],
      "id": "fb331f5b"
    },
    {
      "cell_type": "markdown",
      "metadata": {
        "id": "e2823a5b"
      },
      "source": [
        "### 2.a"
      ],
      "id": "e2823a5b"
    },
    {
      "cell_type": "code",
      "metadata": {
        "id": "c43df2c0"
      },
      "source": [
        "rmse_2 = []\n",
        "for alpha in [0.0001,0.001,0.01,0.1,0.5]:\n",
        "    theta, b = SGD(train_x, train_y, 1000, alpha)\n",
        "    rmse = RMSE(valid_x, valid_y, theta[-1], b[-1])\n",
        "    rmse_2.append(rmse)\n",
        "    "
      ],
      "id": "c43df2c0",
      "execution_count": null,
      "outputs": []
    },
    {
      "cell_type": "code",
      "metadata": {
        "id": "49030629",
        "outputId": "af167fda-ed86-47d0-e2bc-6a3f253501e5"
      },
      "source": [
        "final = np.array([[\"step size\", \"rmse\"],[0.0001, rmse_2[0]], [0.001, rmse_2[1]], [0.01, rmse_2[2]], [0.1, rmse_2[3]], [0.5, rmse_2[4]]])\n",
        "f = pd.DataFrame(final)\n",
        "f\n",
        "                "
      ],
      "id": "49030629",
      "execution_count": null,
      "outputs": [
        {
          "data": {
            "text/html": [
              "<div>\n",
              "<style scoped>\n",
              "    .dataframe tbody tr th:only-of-type {\n",
              "        vertical-align: middle;\n",
              "    }\n",
              "\n",
              "    .dataframe tbody tr th {\n",
              "        vertical-align: top;\n",
              "    }\n",
              "\n",
              "    .dataframe thead th {\n",
              "        text-align: right;\n",
              "    }\n",
              "</style>\n",
              "<table border=\"1\" class=\"dataframe\">\n",
              "  <thead>\n",
              "    <tr style=\"text-align: right;\">\n",
              "      <th></th>\n",
              "      <th>0</th>\n",
              "      <th>1</th>\n",
              "    </tr>\n",
              "  </thead>\n",
              "  <tbody>\n",
              "    <tr>\n",
              "      <td>0</td>\n",
              "      <td>step size</td>\n",
              "      <td>rmse</td>\n",
              "    </tr>\n",
              "    <tr>\n",
              "      <td>1</td>\n",
              "      <td>0.0001</td>\n",
              "      <td>1.63535537775918</td>\n",
              "    </tr>\n",
              "    <tr>\n",
              "      <td>2</td>\n",
              "      <td>0.001</td>\n",
              "      <td>1.62534367284661</td>\n",
              "    </tr>\n",
              "    <tr>\n",
              "      <td>3</td>\n",
              "      <td>0.01</td>\n",
              "      <td>1.685956558252589</td>\n",
              "    </tr>\n",
              "    <tr>\n",
              "      <td>4</td>\n",
              "      <td>0.1</td>\n",
              "      <td>1.7243225040018213</td>\n",
              "    </tr>\n",
              "    <tr>\n",
              "      <td>5</td>\n",
              "      <td>0.5</td>\n",
              "      <td>1.932250067612219</td>\n",
              "    </tr>\n",
              "  </tbody>\n",
              "</table>\n",
              "</div>"
            ],
            "text/plain": [
              "           0                   1\n",
              "0  step size                rmse\n",
              "1     0.0001    1.63535537775918\n",
              "2      0.001    1.62534367284661\n",
              "3       0.01   1.685956558252589\n",
              "4        0.1  1.7243225040018213\n",
              "5        0.5   1.932250067612219"
            ]
          },
          "execution_count": 1317,
          "metadata": {},
          "output_type": "execute_result"
        }
      ]
    },
    {
      "cell_type": "markdown",
      "metadata": {
        "id": "63edeb1a"
      },
      "source": [
        "The best step size is 0.001"
      ],
      "id": "63edeb1a"
    },
    {
      "cell_type": "markdown",
      "metadata": {
        "id": "a9c647f2"
      },
      "source": [
        "### 2.b"
      ],
      "id": "a9c647f2"
    },
    {
      "cell_type": "code",
      "metadata": {
        "id": "cb7fa972",
        "outputId": "60c9816d-c82f-4f96-ac82-736273e03c01"
      },
      "source": [
        "alpha_test = 0.001\n",
        "theta = np.zeros(1)\n",
        "b = np.zeros(1)\n",
        "theta, b= SGD(train_x, train_y, 1000, 0.001)\n",
        "rmse_test = RMSE(test_x, test_y, theta[-1], b[-1])\n",
        "\n",
        "rmse_test"
      ],
      "id": "cb7fa972",
      "execution_count": null,
      "outputs": [
        {
          "data": {
            "text/plain": [
              "1.6147289304723258"
            ]
          },
          "execution_count": 1318,
          "metadata": {},
          "output_type": "execute_result"
        }
      ]
    },
    {
      "cell_type": "markdown",
      "metadata": {
        "id": "f7b9473d"
      },
      "source": [
        "### 3"
      ],
      "id": "f7b9473d"
    },
    {
      "cell_type": "code",
      "metadata": {
        "id": "d55f48b2",
        "outputId": "48f1c640-b868-47a9-bc93-5de3d24dd5b4"
      },
      "source": [
        "rand = np.random.randint(0, high=1000, size=5)\n",
        "print(rand)\n",
        "new_x = []\n",
        "new_y = []\n",
        "\n",
        "rand = [0, 5, 50, 500, 900]\n",
        "for i in rand:\n",
        "    print(theta[i])\n",
        "    new_x_, new_y_ = zip(*sorted(zip(train_x, np.dot(train_x, theta[i]))))\n",
        "    new_x.append(new_x_)\n",
        "    new_y.append(new_y_)\n",
        "\n",
        "plt.plot(train_x, train_y, 'ro')\n",
        "for i in range(5):\n",
        "    plt.plot(new_x[i], new_y[i], label = f'echop = {rand[i]}')\n",
        "plt.xlabel(\"x\")\n",
        "plt.ylabel(\"y\")\n",
        "plt.legend()\n",
        "plt.show()\n",
        "\n"
      ],
      "id": "d55f48b2",
      "execution_count": null,
      "outputs": [
        {
          "name": "stdout",
          "output_type": "stream",
          "text": [
            "[355 984 939 900 152]\n",
            "2.794079206210347\n",
            "7.417099464382808\n",
            "7.934548518036762\n",
            "7.943282729765617\n",
            "7.967270346953026\n"
          ]
        },
        {
          "data": {
            "image/png": "[encoded data removed]",
            "text/plain": [
              "<Figure size 432x288 with 1 Axes>"
            ]
          },
          "metadata": {
            "needs_background": "light"
          },
          "output_type": "display_data"
        }
      ]
    },
    {
      "cell_type": "markdown",
      "metadata": {
        "id": "0bfd6a5b"
      },
      "source": [
        "### 4 "
      ],
      "id": "0bfd6a5b"
    },
    {
      "cell_type": "code",
      "metadata": {
        "id": "407f0ab4"
      },
      "source": [
        "def RMSE(x, y, theta, b):\n",
        "    x = x.reshape(len(x), 1)\n",
        "    \n",
        "    y_hat = np.dot(x, theta) + b\n",
        "    rmse = np.sum((y - y_hat) ** 2) / int(len(y))\n",
        "    return np.sqrt(rmse)\n",
        "def LinearRegression(x, y, learning_rate, iteration):\n",
        "    w_ = []\n",
        "    b_ = []\n",
        "    m = x.shape\n",
        "    x= x.reshape((m[0],1))\n",
        "    w = np.zeros(1)\n",
        "    b = 0\n",
        "    \n",
        "    for i in range(iteration):\n",
        "        y_hat = np.dot(x, w) + b\n",
        "        gradient_w = 2 * np.dot(np.transpose(x), (y_hat - y)) / m\n",
        "        gradient_b = 2 * np.sum((y_hat - y)) / m\n",
        "        \n",
        "        w = w - learning_rate * gradient_w\n",
        "        b = b - learning_rate * gradient_b\n",
        "        w_.append(w)\n",
        "        b_.append(b)\n",
        "    \n",
        "    return w_, b_"
      ],
      "id": "407f0ab4",
      "execution_count": null,
      "outputs": []
    },
    {
      "cell_type": "code",
      "metadata": {
        "id": "81aa70c0"
      },
      "source": [
        "w,b = LinearRegression(train_x, train_y, 0.001, 1000)\n",
        "\n",
        "rmse_train_full = []\n",
        "rmse_valid_full = []\n",
        "for i in range(len(w)):\n",
        "    rmse_train_full.append(RMSE(train_x, train_y, w[i], b[i]))\n",
        "    rmse_valid_full.append(RMSE(valid_x, valid_y, w[i], b[i]))\n",
        "\n"
      ],
      "id": "81aa70c0",
      "execution_count": null,
      "outputs": []
    },
    {
      "cell_type": "code",
      "metadata": {
        "id": "ad86b299",
        "outputId": "69f7b54c-4249-4a3f-91f1-7e94ebaa2d25"
      },
      "source": [
        "plt.plot(rmse_train_full, label=\"RMSE train\")\n",
        "plt.plot(rmse_valid_full, label=\"RMSE valid\")\n",
        "plt.xlabel(\"epochs\")\n",
        "plt.ylabel(\"RMSE\")\n",
        "#plt.ylim([0, 4])\n",
        "#plt.xlim([-10, 1000])\n",
        "\n",
        "\n",
        "plt.legend()\n",
        "plt.show()"
      ],
      "id": "ad86b299",
      "execution_count": null,
      "outputs": [
        {
          "data": {
            "image/png": "[encoded data removed]",
            "text/plain": [
              "<Figure size 432x288 with 1 Axes>"
            ]
          },
          "metadata": {
            "needs_background": "light"
          },
          "output_type": "display_data"
        }
      ]
    },
    {
      "cell_type": "markdown",
      "metadata": {
        "id": "2a0e4915"
      },
      "source": [
        "### 5"
      ],
      "id": "2a0e4915"
    },
    {
      "cell_type": "markdown",
      "metadata": {
        "id": "5a88ab25"
      },
      "source": [
        "1- on Full Gradient Descent we run the algorithm through all the data in your training set and do a single update for the parameters(w, b), on the other hand, in SGD we run the algorithm on just one sample or a subset of data in training data.\n",
        "\n",
        "2- gradient descent ( with a large number of data) can be too slow to converge but SGD is more faster since we update the parameter based on small number of samples\n",
        "\n",
        "3- The error function in SGD is not as minimum as GD"
      ],
      "id": "5a88ab25"
    },
    {
      "cell_type": "markdown",
      "metadata": {
        "id": "a0e8dbe6"
      },
      "source": [
        "### 4 Real life dataset"
      ],
      "id": "a0e8dbe6"
    },
    {
      "cell_type": "markdown",
      "metadata": {
        "id": "963093b1"
      },
      "source": [
        "### 1.a"
      ],
      "id": "963093b1"
    },
    {
      "cell_type": "code",
      "metadata": {
        "id": "d947f419"
      },
      "source": [
        "import numpy as np\n",
        "import pandas as pd\n",
        "\n",
        "data = pd.read_csv(\"communities.data\", header = None)\n",
        "\n",
        "data_x = data.iloc[: , :-1]\n",
        "data_y = data[:][127]\n",
        "\n",
        "\n",
        "data_np = data.to_numpy()"
      ],
      "id": "d947f419",
      "execution_count": 80,
      "outputs": []
    },
    {
      "cell_type": "code",
      "metadata": {
        "scrolled": true,
        "colab": {
          "base_uri": "https://localhost:8080/"
        },
        "id": "fc0e00b4",
        "outputId": "4c1405d2-470d-44f1-fc1d-2b636d01550b"
      },
      "source": [
        "# replace ? with NaN in the dataset\n",
        "\n",
        "for i in range(len(data)):\n",
        "    for j in range(128):\n",
        "        if(data_np[i,j] =='?'):\n",
        "            data_np[i,j] =np.NaN\n",
        "            \n",
        "\n",
        "data_np"
      ],
      "id": "fc0e00b4",
      "execution_count": 81,
      "outputs": [
        {
          "output_type": "execute_result",
          "data": {
            "text/plain": [
              "array([[8, nan, nan, ..., 0.32, '0.14', 0.2],\n",
              "       [53, nan, nan, ..., 0.0, nan, 0.67],\n",
              "       [24, nan, nan, ..., 0.0, nan, 0.43],\n",
              "       ...,\n",
              "       [9, '9', '80070', ..., 0.91, '0.28', 0.23],\n",
              "       [25, '17', '72600', ..., 0.22, '0.18', 0.19],\n",
              "       [6, nan, nan, ..., 1.0, '0.13', 0.48]], dtype=object)"
            ]
          },
          "metadata": {},
          "execution_count": 81
        }
      ]
    },
    {
      "cell_type": "code",
      "metadata": {
        "id": "af19090d"
      },
      "source": [
        "#compute mean for each column\n",
        "\n",
        "data_np_mean = np.delete(data_np, obj = 3, axis =1)\n",
        "data_np_mean = np.array(data_np_mean, dtype = 'float64')\n",
        "mean = np.nanmean(data_np_mean, axis = 0)\n",
        "mean_ = np.insert(mean, 3, 0)"
      ],
      "id": "af19090d",
      "execution_count": 82,
      "outputs": []
    },
    {
      "cell_type": "code",
      "metadata": {
        "colab": {
          "base_uri": "https://localhost:8080/",
          "height": 253
        },
        "id": "646f9ff3",
        "outputId": "509d97ea-650c-4231-cdca-21e47015093b"
      },
      "source": [
        "#replace the NaN with the mean in each column\n",
        "data_ = pd.DataFrame(data_np)\n",
        "for i in range(1994):\n",
        "    for j in range(128):\n",
        "        if j != 3:\n",
        "            if (pd.isna(data_.iloc[i,j])):\n",
        "                data_.iloc[i,j] = int(mean_[j])\n",
        "            \n",
        "\n",
        "data_.head()"
      ],
      "id": "646f9ff3",
      "execution_count": 83,
      "outputs": [
        {
          "output_type": "execute_result",
          "data": {
            "text/html": [
              "<div>\n",
              "<style scoped>\n",
              "    .dataframe tbody tr th:only-of-type {\n",
              "        vertical-align: middle;\n",
              "    }\n",
              "\n",
              "    .dataframe tbody tr th {\n",
              "        vertical-align: top;\n",
              "    }\n",
              "\n",
              "    .dataframe thead th {\n",
              "        text-align: right;\n",
              "    }\n",
              "</style>\n",
              "<table border=\"1\" class=\"dataframe\">\n",
              "  <thead>\n",
              "    <tr style=\"text-align: right;\">\n",
              "      <th></th>\n",
              "      <th>0</th>\n",
              "      <th>1</th>\n",
              "      <th>2</th>\n",
              "      <th>3</th>\n",
              "      <th>4</th>\n",
              "      <th>5</th>\n",
              "      <th>6</th>\n",
              "      <th>7</th>\n",
              "      <th>8</th>\n",
              "      <th>9</th>\n",
              "      <th>10</th>\n",
              "      <th>11</th>\n",
              "      <th>12</th>\n",
              "      <th>13</th>\n",
              "      <th>14</th>\n",
              "      <th>15</th>\n",
              "      <th>16</th>\n",
              "      <th>17</th>\n",
              "      <th>18</th>\n",
              "      <th>19</th>\n",
              "      <th>20</th>\n",
              "      <th>21</th>\n",
              "      <th>22</th>\n",
              "      <th>23</th>\n",
              "      <th>24</th>\n",
              "      <th>25</th>\n",
              "      <th>26</th>\n",
              "      <th>27</th>\n",
              "      <th>28</th>\n",
              "      <th>29</th>\n",
              "      <th>30</th>\n",
              "      <th>31</th>\n",
              "      <th>32</th>\n",
              "      <th>33</th>\n",
              "      <th>34</th>\n",
              "      <th>35</th>\n",
              "      <th>36</th>\n",
              "      <th>37</th>\n",
              "      <th>38</th>\n",
              "      <th>39</th>\n",
              "      <th>...</th>\n",
              "      <th>88</th>\n",
              "      <th>89</th>\n",
              "      <th>90</th>\n",
              "      <th>91</th>\n",
              "      <th>92</th>\n",
              "      <th>93</th>\n",
              "      <th>94</th>\n",
              "      <th>95</th>\n",
              "      <th>96</th>\n",
              "      <th>97</th>\n",
              "      <th>98</th>\n",
              "      <th>99</th>\n",
              "      <th>100</th>\n",
              "      <th>101</th>\n",
              "      <th>102</th>\n",
              "      <th>103</th>\n",
              "      <th>104</th>\n",
              "      <th>105</th>\n",
              "      <th>106</th>\n",
              "      <th>107</th>\n",
              "      <th>108</th>\n",
              "      <th>109</th>\n",
              "      <th>110</th>\n",
              "      <th>111</th>\n",
              "      <th>112</th>\n",
              "      <th>113</th>\n",
              "      <th>114</th>\n",
              "      <th>115</th>\n",
              "      <th>116</th>\n",
              "      <th>117</th>\n",
              "      <th>118</th>\n",
              "      <th>119</th>\n",
              "      <th>120</th>\n",
              "      <th>121</th>\n",
              "      <th>122</th>\n",
              "      <th>123</th>\n",
              "      <th>124</th>\n",
              "      <th>125</th>\n",
              "      <th>126</th>\n",
              "      <th>127</th>\n",
              "    </tr>\n",
              "  </thead>\n",
              "  <tbody>\n",
              "    <tr>\n",
              "      <th>0</th>\n",
              "      <td>8</td>\n",
              "      <td>58</td>\n",
              "      <td>46188</td>\n",
              "      <td>Lakewoodcity</td>\n",
              "      <td>1</td>\n",
              "      <td>0.19</td>\n",
              "      <td>0.33</td>\n",
              "      <td>0.02</td>\n",
              "      <td>0.9</td>\n",
              "      <td>0.12</td>\n",
              "      <td>0.17</td>\n",
              "      <td>0.34</td>\n",
              "      <td>0.47</td>\n",
              "      <td>0.29</td>\n",
              "      <td>0.32</td>\n",
              "      <td>0.2</td>\n",
              "      <td>1</td>\n",
              "      <td>0.37</td>\n",
              "      <td>0.72</td>\n",
              "      <td>0.34</td>\n",
              "      <td>0.6</td>\n",
              "      <td>0.29</td>\n",
              "      <td>0.15</td>\n",
              "      <td>0.43</td>\n",
              "      <td>0.39</td>\n",
              "      <td>0.4</td>\n",
              "      <td>0.39</td>\n",
              "      <td>0.32</td>\n",
              "      <td>0.27</td>\n",
              "      <td>0.27</td>\n",
              "      <td>0.36</td>\n",
              "      <td>0.41</td>\n",
              "      <td>0.08</td>\n",
              "      <td>0.19</td>\n",
              "      <td>0.1</td>\n",
              "      <td>0.18</td>\n",
              "      <td>0.48</td>\n",
              "      <td>0.27</td>\n",
              "      <td>0.68</td>\n",
              "      <td>0.23</td>\n",
              "      <td>...</td>\n",
              "      <td>0.35</td>\n",
              "      <td>0.38</td>\n",
              "      <td>0.34</td>\n",
              "      <td>0.38</td>\n",
              "      <td>0.46</td>\n",
              "      <td>0.25</td>\n",
              "      <td>0.04</td>\n",
              "      <td>0</td>\n",
              "      <td>0.12</td>\n",
              "      <td>0.42</td>\n",
              "      <td>0.5</td>\n",
              "      <td>0.51</td>\n",
              "      <td>0.64</td>\n",
              "      <td>0.03</td>\n",
              "      <td>0.13</td>\n",
              "      <td>0.96</td>\n",
              "      <td>0.17</td>\n",
              "      <td>0.06</td>\n",
              "      <td>0.18</td>\n",
              "      <td>0.44</td>\n",
              "      <td>0.13</td>\n",
              "      <td>0.94</td>\n",
              "      <td>0.93</td>\n",
              "      <td>0.03</td>\n",
              "      <td>0.07</td>\n",
              "      <td>0.1</td>\n",
              "      <td>0.07</td>\n",
              "      <td>0.02</td>\n",
              "      <td>0.57</td>\n",
              "      <td>0.29</td>\n",
              "      <td>0.12</td>\n",
              "      <td>0.26</td>\n",
              "      <td>0.2</td>\n",
              "      <td>0.06</td>\n",
              "      <td>0.04</td>\n",
              "      <td>0.9</td>\n",
              "      <td>0.5</td>\n",
              "      <td>0.32</td>\n",
              "      <td>0.14</td>\n",
              "      <td>0.2</td>\n",
              "    </tr>\n",
              "    <tr>\n",
              "      <th>1</th>\n",
              "      <td>53</td>\n",
              "      <td>58</td>\n",
              "      <td>46188</td>\n",
              "      <td>Tukwilacity</td>\n",
              "      <td>1</td>\n",
              "      <td>0</td>\n",
              "      <td>0.16</td>\n",
              "      <td>0.12</td>\n",
              "      <td>0.74</td>\n",
              "      <td>0.45</td>\n",
              "      <td>0.07</td>\n",
              "      <td>0.26</td>\n",
              "      <td>0.59</td>\n",
              "      <td>0.35</td>\n",
              "      <td>0.27</td>\n",
              "      <td>0.02</td>\n",
              "      <td>1</td>\n",
              "      <td>0.31</td>\n",
              "      <td>0.72</td>\n",
              "      <td>0.11</td>\n",
              "      <td>0.45</td>\n",
              "      <td>0.25</td>\n",
              "      <td>0.29</td>\n",
              "      <td>0.39</td>\n",
              "      <td>0.29</td>\n",
              "      <td>0.37</td>\n",
              "      <td>0.38</td>\n",
              "      <td>0.33</td>\n",
              "      <td>0.16</td>\n",
              "      <td>0.3</td>\n",
              "      <td>0.22</td>\n",
              "      <td>0.35</td>\n",
              "      <td>0.01</td>\n",
              "      <td>0.24</td>\n",
              "      <td>0.14</td>\n",
              "      <td>0.24</td>\n",
              "      <td>0.3</td>\n",
              "      <td>0.27</td>\n",
              "      <td>0.73</td>\n",
              "      <td>0.57</td>\n",
              "      <td>...</td>\n",
              "      <td>0.38</td>\n",
              "      <td>0.4</td>\n",
              "      <td>0.37</td>\n",
              "      <td>0.29</td>\n",
              "      <td>0.32</td>\n",
              "      <td>0.18</td>\n",
              "      <td>0</td>\n",
              "      <td>0</td>\n",
              "      <td>0.21</td>\n",
              "      <td>0.5</td>\n",
              "      <td>0.34</td>\n",
              "      <td>0.6</td>\n",
              "      <td>0.52</td>\n",
              "      <td>0</td>\n",
              "      <td>0</td>\n",
              "      <td>0</td>\n",
              "      <td>0</td>\n",
              "      <td>0</td>\n",
              "      <td>0</td>\n",
              "      <td>0</td>\n",
              "      <td>0</td>\n",
              "      <td>0</td>\n",
              "      <td>0</td>\n",
              "      <td>0</td>\n",
              "      <td>0</td>\n",
              "      <td>0</td>\n",
              "      <td>0</td>\n",
              "      <td>0</td>\n",
              "      <td>0</td>\n",
              "      <td>0</td>\n",
              "      <td>0.02</td>\n",
              "      <td>0.12</td>\n",
              "      <td>0.45</td>\n",
              "      <td>0</td>\n",
              "      <td>0</td>\n",
              "      <td>0</td>\n",
              "      <td>0</td>\n",
              "      <td>0</td>\n",
              "      <td>0</td>\n",
              "      <td>0.67</td>\n",
              "    </tr>\n",
              "    <tr>\n",
              "      <th>2</th>\n",
              "      <td>24</td>\n",
              "      <td>58</td>\n",
              "      <td>46188</td>\n",
              "      <td>Aberdeentown</td>\n",
              "      <td>1</td>\n",
              "      <td>0</td>\n",
              "      <td>0.42</td>\n",
              "      <td>0.49</td>\n",
              "      <td>0.56</td>\n",
              "      <td>0.17</td>\n",
              "      <td>0.04</td>\n",
              "      <td>0.39</td>\n",
              "      <td>0.47</td>\n",
              "      <td>0.28</td>\n",
              "      <td>0.32</td>\n",
              "      <td>0</td>\n",
              "      <td>0</td>\n",
              "      <td>0.3</td>\n",
              "      <td>0.58</td>\n",
              "      <td>0.19</td>\n",
              "      <td>0.39</td>\n",
              "      <td>0.38</td>\n",
              "      <td>0.4</td>\n",
              "      <td>0.84</td>\n",
              "      <td>0.28</td>\n",
              "      <td>0.27</td>\n",
              "      <td>0.29</td>\n",
              "      <td>0.27</td>\n",
              "      <td>0.07</td>\n",
              "      <td>0.29</td>\n",
              "      <td>0.28</td>\n",
              "      <td>0.39</td>\n",
              "      <td>0.01</td>\n",
              "      <td>0.27</td>\n",
              "      <td>0.27</td>\n",
              "      <td>0.43</td>\n",
              "      <td>0.19</td>\n",
              "      <td>0.36</td>\n",
              "      <td>0.58</td>\n",
              "      <td>0.32</td>\n",
              "      <td>...</td>\n",
              "      <td>0.29</td>\n",
              "      <td>0.27</td>\n",
              "      <td>0.31</td>\n",
              "      <td>0.48</td>\n",
              "      <td>0.39</td>\n",
              "      <td>0.28</td>\n",
              "      <td>0</td>\n",
              "      <td>0</td>\n",
              "      <td>0.14</td>\n",
              "      <td>0.49</td>\n",
              "      <td>0.54</td>\n",
              "      <td>0.67</td>\n",
              "      <td>0.56</td>\n",
              "      <td>0</td>\n",
              "      <td>0</td>\n",
              "      <td>0</td>\n",
              "      <td>0</td>\n",
              "      <td>0</td>\n",
              "      <td>0</td>\n",
              "      <td>0</td>\n",
              "      <td>0</td>\n",
              "      <td>0</td>\n",
              "      <td>0</td>\n",
              "      <td>0</td>\n",
              "      <td>0</td>\n",
              "      <td>0</td>\n",
              "      <td>0</td>\n",
              "      <td>0</td>\n",
              "      <td>0</td>\n",
              "      <td>0</td>\n",
              "      <td>0.01</td>\n",
              "      <td>0.21</td>\n",
              "      <td>0.02</td>\n",
              "      <td>0</td>\n",
              "      <td>0</td>\n",
              "      <td>0</td>\n",
              "      <td>0</td>\n",
              "      <td>0</td>\n",
              "      <td>0</td>\n",
              "      <td>0.43</td>\n",
              "    </tr>\n",
              "    <tr>\n",
              "      <th>3</th>\n",
              "      <td>34</td>\n",
              "      <td>5</td>\n",
              "      <td>81440</td>\n",
              "      <td>Willingborotownship</td>\n",
              "      <td>1</td>\n",
              "      <td>0.04</td>\n",
              "      <td>0.77</td>\n",
              "      <td>1</td>\n",
              "      <td>0.08</td>\n",
              "      <td>0.12</td>\n",
              "      <td>0.1</td>\n",
              "      <td>0.51</td>\n",
              "      <td>0.5</td>\n",
              "      <td>0.34</td>\n",
              "      <td>0.21</td>\n",
              "      <td>0.06</td>\n",
              "      <td>1</td>\n",
              "      <td>0.58</td>\n",
              "      <td>0.89</td>\n",
              "      <td>0.21</td>\n",
              "      <td>0.43</td>\n",
              "      <td>0.36</td>\n",
              "      <td>0.2</td>\n",
              "      <td>0.82</td>\n",
              "      <td>0.51</td>\n",
              "      <td>0.36</td>\n",
              "      <td>0.4</td>\n",
              "      <td>0.39</td>\n",
              "      <td>0.16</td>\n",
              "      <td>0.25</td>\n",
              "      <td>0.36</td>\n",
              "      <td>0.44</td>\n",
              "      <td>0.01</td>\n",
              "      <td>0.1</td>\n",
              "      <td>0.09</td>\n",
              "      <td>0.25</td>\n",
              "      <td>0.31</td>\n",
              "      <td>0.33</td>\n",
              "      <td>0.71</td>\n",
              "      <td>0.36</td>\n",
              "      <td>...</td>\n",
              "      <td>0.7</td>\n",
              "      <td>0.77</td>\n",
              "      <td>0.89</td>\n",
              "      <td>0.63</td>\n",
              "      <td>0.51</td>\n",
              "      <td>0.47</td>\n",
              "      <td>0</td>\n",
              "      <td>0</td>\n",
              "      <td>0.19</td>\n",
              "      <td>0.3</td>\n",
              "      <td>0.73</td>\n",
              "      <td>0.64</td>\n",
              "      <td>0.65</td>\n",
              "      <td>0</td>\n",
              "      <td>0</td>\n",
              "      <td>0</td>\n",
              "      <td>0</td>\n",
              "      <td>0</td>\n",
              "      <td>0</td>\n",
              "      <td>0</td>\n",
              "      <td>0</td>\n",
              "      <td>0</td>\n",
              "      <td>0</td>\n",
              "      <td>0</td>\n",
              "      <td>0</td>\n",
              "      <td>0</td>\n",
              "      <td>0</td>\n",
              "      <td>0</td>\n",
              "      <td>0</td>\n",
              "      <td>0</td>\n",
              "      <td>0.02</td>\n",
              "      <td>0.39</td>\n",
              "      <td>0.28</td>\n",
              "      <td>0</td>\n",
              "      <td>0</td>\n",
              "      <td>0</td>\n",
              "      <td>0</td>\n",
              "      <td>0</td>\n",
              "      <td>0</td>\n",
              "      <td>0.12</td>\n",
              "    </tr>\n",
              "    <tr>\n",
              "      <th>4</th>\n",
              "      <td>42</td>\n",
              "      <td>95</td>\n",
              "      <td>6096</td>\n",
              "      <td>Bethlehemtownship</td>\n",
              "      <td>1</td>\n",
              "      <td>0.01</td>\n",
              "      <td>0.55</td>\n",
              "      <td>0.02</td>\n",
              "      <td>0.95</td>\n",
              "      <td>0.09</td>\n",
              "      <td>0.05</td>\n",
              "      <td>0.38</td>\n",
              "      <td>0.38</td>\n",
              "      <td>0.23</td>\n",
              "      <td>0.36</td>\n",
              "      <td>0.02</td>\n",
              "      <td>0.9</td>\n",
              "      <td>0.5</td>\n",
              "      <td>0.72</td>\n",
              "      <td>0.16</td>\n",
              "      <td>0.68</td>\n",
              "      <td>0.44</td>\n",
              "      <td>0.11</td>\n",
              "      <td>0.71</td>\n",
              "      <td>0.46</td>\n",
              "      <td>0.43</td>\n",
              "      <td>0.41</td>\n",
              "      <td>0.28</td>\n",
              "      <td>0</td>\n",
              "      <td>0.74</td>\n",
              "      <td>0.51</td>\n",
              "      <td>0.48</td>\n",
              "      <td>0</td>\n",
              "      <td>0.06</td>\n",
              "      <td>0.25</td>\n",
              "      <td>0.3</td>\n",
              "      <td>0.33</td>\n",
              "      <td>0.12</td>\n",
              "      <td>0.65</td>\n",
              "      <td>0.67</td>\n",
              "      <td>...</td>\n",
              "      <td>0.36</td>\n",
              "      <td>0.38</td>\n",
              "      <td>0.38</td>\n",
              "      <td>0.22</td>\n",
              "      <td>0.51</td>\n",
              "      <td>0.21</td>\n",
              "      <td>0</td>\n",
              "      <td>0</td>\n",
              "      <td>0.11</td>\n",
              "      <td>0.72</td>\n",
              "      <td>0.64</td>\n",
              "      <td>0.61</td>\n",
              "      <td>0.53</td>\n",
              "      <td>0</td>\n",
              "      <td>0</td>\n",
              "      <td>0</td>\n",
              "      <td>0</td>\n",
              "      <td>0</td>\n",
              "      <td>0</td>\n",
              "      <td>0</td>\n",
              "      <td>0</td>\n",
              "      <td>0</td>\n",
              "      <td>0</td>\n",
              "      <td>0</td>\n",
              "      <td>0</td>\n",
              "      <td>0</td>\n",
              "      <td>0</td>\n",
              "      <td>0</td>\n",
              "      <td>0</td>\n",
              "      <td>0</td>\n",
              "      <td>0.04</td>\n",
              "      <td>0.09</td>\n",
              "      <td>0.02</td>\n",
              "      <td>0</td>\n",
              "      <td>0</td>\n",
              "      <td>0</td>\n",
              "      <td>0</td>\n",
              "      <td>0</td>\n",
              "      <td>0</td>\n",
              "      <td>0.03</td>\n",
              "    </tr>\n",
              "  </tbody>\n",
              "</table>\n",
              "<p>5 rows × 128 columns</p>\n",
              "</div>"
            ],
            "text/plain": [
              "  0   1      2                    3   4    ...  123  124   125   126   127\n",
              "0   8  58  46188         Lakewoodcity   1  ...  0.9  0.5  0.32  0.14   0.2\n",
              "1  53  58  46188          Tukwilacity   1  ...    0    0     0     0  0.67\n",
              "2  24  58  46188         Aberdeentown   1  ...    0    0     0     0  0.43\n",
              "3  34   5  81440  Willingborotownship   1  ...    0    0     0     0  0.12\n",
              "4  42  95   6096    Bethlehemtownship   1  ...    0    0     0     0  0.03\n",
              "\n",
              "[5 rows x 128 columns]"
            ]
          },
          "metadata": {},
          "execution_count": 83
        }
      ]
    },
    {
      "cell_type": "markdown",
      "metadata": {
        "id": "f280b97a"
      },
      "source": [
        "filling the missing data with the mean of each column maybe not be a good choice especially in skewed data and it can also reduce the variance of the data which it can produce bias in our model."
      ],
      "id": "f280b97a"
    },
    {
      "cell_type": "markdown",
      "metadata": {
        "id": "d0464377"
      },
      "source": [
        "### 1.b"
      ],
      "id": "d0464377"
    },
    {
      "cell_type": "markdown",
      "metadata": {
        "id": "99369cfe"
      },
      "source": [
        "1- ignore the data that is missing which is not a good way since you might lose some valuable \n",
        "information(Dropping rows with null values, Dropping features with high nullity)\n",
        "\n",
        "2-imputation using mean/median \n",
        "\n",
        "3- imputation using the most frequent item\n",
        "\n",
        "4-imputation using zero or constant\n",
        "\n",
        "5-imputing using k-nn algorithm\n",
        "\n",
        "6- linear/stochastic regression imputation\n",
        "\n"
      ],
      "id": "99369cfe"
    },
    {
      "cell_type": "markdown",
      "metadata": {
        "id": "f8c262ab"
      },
      "source": [
        "### 1.c"
      ],
      "id": "f8c262ab"
    },
    {
      "cell_type": "markdown",
      "metadata": {
        "id": "ccb6788e"
      },
      "source": [
        "in regression imputation, we fill the missing data by predicting it by using the regression model. we will predict the missing data with the information of other variables.\n",
        "\n",
        "In the first step, we fill the missing data with some trivial method like filling with mean of each column, and then the regression model is estimated in the information of other data and using the regression weights to predict the missing data."
      ],
      "id": "ccb6788e"
    },
    {
      "cell_type": "markdown",
      "metadata": {
        "id": "093a7bd4"
      },
      "source": [
        "### 1.d"
      ],
      "id": "093a7bd4"
    },
    {
      "cell_type": "code",
      "metadata": {
        "id": "1cdadd2a"
      },
      "source": [
        "# drop the column= 3 since it's not numerical and also it does'nt have null value!\n",
        "# this dataset is filled it's missing value with mean\n",
        "data_missing = data_.drop(3, 1)\n",
        "data_missing = pd.DataFrame(data_missing, dtype='float64')\n",
        "data_missing_x = data_missing.iloc[:,0:126]\n",
        "data_missing_y = data_missing.iloc[:,126]\n"
      ],
      "id": "1cdadd2a",
      "execution_count": 84,
      "outputs": []
    },
    {
      "cell_type": "code",
      "metadata": {
        "id": "ba1e2388"
      },
      "source": [
        "def rmse(y, x, w, b):\n",
        "    y_hat = x.dot(w) + b\n",
        "    error = 0\n",
        "    for i in range(len(y)):\n",
        "        error = error + (y_hat[i] - y[i]) ** 2 / int(len(y))\n",
        "    return np.sqrt(error)\n",
        "\n",
        "def LinearRegression_(x, y, learning_rate, iteration):\n",
        "    m, n = x.shape\n",
        "    w = np.zeros(n)\n",
        "    b = 0\n",
        "    \n",
        "    for i in range(iteration):\n",
        "        y_hat = x.dot(w) + b\n",
        "        gradient_w = 2 * x.T.dot(y_hat - y) / m\n",
        "        gradient_b = 2 * np.sum(y_hat - y) / m\n",
        "        \n",
        "        w = w - learning_rate * gradient_w\n",
        "        b = b - learning_rate * gradient_b\n",
        "    \n",
        "    return w, b"
      ],
      "id": "ba1e2388",
      "execution_count": 85,
      "outputs": []
    },
    {
      "cell_type": "code",
      "metadata": {
        "colab": {
          "base_uri": "https://localhost:8080/"
        },
        "id": "VAQxFFdKV8a1",
        "outputId": "5117aabd-7cfd-4b04-d189-051d34e4899e"
      },
      "source": [
        "import numpy as np\n",
        "from sklearn.linear_model import LinearRegression\n",
        "reg = LinearRegression().fit(data_missing_x, data_missing_y)\n",
        "print(reg.coef_, reg.intercept_)\n"
      ],
      "id": "VAQxFFdKV8a1",
      "execution_count": 86,
      "outputs": [
        {
          "output_type": "stream",
          "name": "stdout",
          "text": [
            "[-5.81977810e-04 -1.54405177e-04 -1.79304298e-07 -1.53695737e-03\n",
            "  2.94448220e-01 -1.19297032e-02  1.69653968e-01 -7.10430619e-02\n",
            " -2.99702134e-02  5.66919652e-02  1.32843690e-01 -2.47822371e-01\n",
            " -1.59427354e-01  2.57871586e-02 -3.66317624e-01  5.23098908e-02\n",
            " -1.98329937e-01 -1.91265748e-01  4.20903831e-02 -1.72333341e-01\n",
            "  9.31914924e-02 -3.01743673e-03 -9.20090292e-02  3.01334928e-01\n",
            "  1.43529236e-01 -3.89958880e-01 -3.58785844e-02 -3.20765021e-02\n",
            "  1.94026257e-02  4.53519511e-02  3.33077478e-02  7.02750645e-02\n",
            " -1.80409134e-01 -7.85461693e-02  4.01752144e-02  4.15890018e-02\n",
            " -6.46675641e-03  2.53116570e-01 -6.18505867e-02 -1.14657419e-02\n",
            "  7.09742450e-02  1.15030897e-01  4.56208926e-01  2.28338301e-01\n",
            "  1.09652235e-01 -5.33832041e-01 -1.79604611e-01  1.36458465e-02\n",
            " -3.33735421e-01 -2.73818067e-02  1.62978006e-03  5.15593699e-02\n",
            " -1.84623491e-01 -1.42710303e-01  1.20733392e-01 -2.24767158e-01\n",
            "  2.32318291e-02  1.89032948e-02 -7.34842093e-02  4.50460251e-02\n",
            " -3.98726710e-02 -1.79029822e-01  3.86926841e-01 -1.56573471e-01\n",
            " -1.87248212e-02 -1.64474515e-01  6.74401372e-03 -1.20676946e-01\n",
            "  6.36339497e-01 -1.14047536e-01 -2.37083013e-01 -6.44240606e-01\n",
            "  1.81560577e-01  8.11500277e-02  3.13990007e-02  1.26762762e-01\n",
            " -4.73122550e-02  4.87391690e-01  5.26036037e-02 -7.59392155e-02\n",
            " -1.60035315e-02  2.91125074e-02 -1.10211187e-02 -3.73363579e-01\n",
            "  2.44436033e-01  2.77142124e-02 -2.04525380e-01 -2.91155671e-02\n",
            " -5.18427770e-02  3.31989436e-01  4.13472185e-02 -4.37191788e-02\n",
            " -8.07973136e-02  9.91326164e-02  1.55416833e-01  1.46309399e-01\n",
            "  2.45742623e-02  2.16698230e-03 -4.74148186e-03  1.91601820e-02\n",
            " -1.81366556e-01 -2.08944278e+01  9.67481695e-02  5.01472906e-01\n",
            " -1.64109637e-01 -7.43403744e-02  2.03679171e-01  2.07048382e+01\n",
            " -9.28892440e-02 -3.88822921e-02  1.73578079e-02  5.92345004e-02\n",
            "  7.77352485e-02 -4.67989838e-02 -9.15497856e-04 -2.08935083e-02\n",
            " -2.46552604e-02  2.79930383e-02 -2.61931330e-03 -4.01581919e-02\n",
            "  1.21790756e-01  4.36672188e-01 -5.31849554e-02  3.50910471e-02\n",
            " -4.80297606e-02 -2.42434238e-01] 0.6792274604295954\n"
          ]
        }
      ]
    },
    {
      "cell_type": "code",
      "metadata": {
        "colab": {
          "base_uri": "https://localhost:8080/"
        },
        "id": "69256223",
        "outputId": "26949d18-9f91-4c08-ae43-7549811e63b8"
      },
      "source": [
        "w, b = LinearRegression_(data_missing_x, data_missing_y, 0.01, 100)\n",
        "rmse = rmse(data_missing_y, data_missing_x, w, b)\n",
        "\n",
        "data_n = pd.DataFrame(data_np)\n"
      ],
      "id": "69256223",
      "execution_count": 88,
      "outputs": [
        {
          "output_type": "stream",
          "name": "stderr",
          "text": [
            "/usr/local/lib/python3.7/dist-packages/ipykernel_launcher.py:19: RuntimeWarning: invalid value encountered in double_scalars\n"
          ]
        }
      ]
    },
    {
      "cell_type": "code",
      "metadata": {
        "colab": {
          "base_uri": "https://localhost:8080/",
          "height": 253
        },
        "id": "2c1e9bbb",
        "outputId": "3b45c151-214b-4e61-84af-88524eaa5328"
      },
      "source": [
        "data_n = data_n.drop(3,1)\n",
        "pred = reg.predict(data_missing_x)\n",
        "pred = pred.round(1)\n",
        "\n",
        "for i in range(1994):\n",
        "    for j in range(127):\n",
        "        if j != 3:\n",
        "            if (pd.isna(data_n.iloc[i,j])):\n",
        "                data_n.iloc[i,j] =  (pred[i])\n",
        "                \n",
        "data_n.head()\n",
        "#data_n is the entire data base which is filled it's missing data with regression imputation\n",
        "#I used scikit learn to just get the w and b because my laptop and google colab could not handle this matrix     "
      ],
      "id": "2c1e9bbb",
      "execution_count": 89,
      "outputs": [
        {
          "output_type": "execute_result",
          "data": {
            "text/html": [
              "<div>\n",
              "<style scoped>\n",
              "    .dataframe tbody tr th:only-of-type {\n",
              "        vertical-align: middle;\n",
              "    }\n",
              "\n",
              "    .dataframe tbody tr th {\n",
              "        vertical-align: top;\n",
              "    }\n",
              "\n",
              "    .dataframe thead th {\n",
              "        text-align: right;\n",
              "    }\n",
              "</style>\n",
              "<table border=\"1\" class=\"dataframe\">\n",
              "  <thead>\n",
              "    <tr style=\"text-align: right;\">\n",
              "      <th></th>\n",
              "      <th>0</th>\n",
              "      <th>1</th>\n",
              "      <th>2</th>\n",
              "      <th>4</th>\n",
              "      <th>5</th>\n",
              "      <th>6</th>\n",
              "      <th>7</th>\n",
              "      <th>8</th>\n",
              "      <th>9</th>\n",
              "      <th>10</th>\n",
              "      <th>11</th>\n",
              "      <th>12</th>\n",
              "      <th>13</th>\n",
              "      <th>14</th>\n",
              "      <th>15</th>\n",
              "      <th>16</th>\n",
              "      <th>17</th>\n",
              "      <th>18</th>\n",
              "      <th>19</th>\n",
              "      <th>20</th>\n",
              "      <th>21</th>\n",
              "      <th>22</th>\n",
              "      <th>23</th>\n",
              "      <th>24</th>\n",
              "      <th>25</th>\n",
              "      <th>26</th>\n",
              "      <th>27</th>\n",
              "      <th>28</th>\n",
              "      <th>29</th>\n",
              "      <th>30</th>\n",
              "      <th>31</th>\n",
              "      <th>32</th>\n",
              "      <th>33</th>\n",
              "      <th>34</th>\n",
              "      <th>35</th>\n",
              "      <th>36</th>\n",
              "      <th>37</th>\n",
              "      <th>38</th>\n",
              "      <th>39</th>\n",
              "      <th>40</th>\n",
              "      <th>...</th>\n",
              "      <th>88</th>\n",
              "      <th>89</th>\n",
              "      <th>90</th>\n",
              "      <th>91</th>\n",
              "      <th>92</th>\n",
              "      <th>93</th>\n",
              "      <th>94</th>\n",
              "      <th>95</th>\n",
              "      <th>96</th>\n",
              "      <th>97</th>\n",
              "      <th>98</th>\n",
              "      <th>99</th>\n",
              "      <th>100</th>\n",
              "      <th>101</th>\n",
              "      <th>102</th>\n",
              "      <th>103</th>\n",
              "      <th>104</th>\n",
              "      <th>105</th>\n",
              "      <th>106</th>\n",
              "      <th>107</th>\n",
              "      <th>108</th>\n",
              "      <th>109</th>\n",
              "      <th>110</th>\n",
              "      <th>111</th>\n",
              "      <th>112</th>\n",
              "      <th>113</th>\n",
              "      <th>114</th>\n",
              "      <th>115</th>\n",
              "      <th>116</th>\n",
              "      <th>117</th>\n",
              "      <th>118</th>\n",
              "      <th>119</th>\n",
              "      <th>120</th>\n",
              "      <th>121</th>\n",
              "      <th>122</th>\n",
              "      <th>123</th>\n",
              "      <th>124</th>\n",
              "      <th>125</th>\n",
              "      <th>126</th>\n",
              "      <th>127</th>\n",
              "    </tr>\n",
              "  </thead>\n",
              "  <tbody>\n",
              "    <tr>\n",
              "      <th>0</th>\n",
              "      <td>8</td>\n",
              "      <td>0.2</td>\n",
              "      <td>0.2</td>\n",
              "      <td>1</td>\n",
              "      <td>0.19</td>\n",
              "      <td>0.33</td>\n",
              "      <td>0.02</td>\n",
              "      <td>0.9</td>\n",
              "      <td>0.12</td>\n",
              "      <td>0.17</td>\n",
              "      <td>0.34</td>\n",
              "      <td>0.47</td>\n",
              "      <td>0.29</td>\n",
              "      <td>0.32</td>\n",
              "      <td>0.2</td>\n",
              "      <td>1</td>\n",
              "      <td>0.37</td>\n",
              "      <td>0.72</td>\n",
              "      <td>0.34</td>\n",
              "      <td>0.6</td>\n",
              "      <td>0.29</td>\n",
              "      <td>0.15</td>\n",
              "      <td>0.43</td>\n",
              "      <td>0.39</td>\n",
              "      <td>0.4</td>\n",
              "      <td>0.39</td>\n",
              "      <td>0.32</td>\n",
              "      <td>0.27</td>\n",
              "      <td>0.27</td>\n",
              "      <td>0.36</td>\n",
              "      <td>0.41</td>\n",
              "      <td>0.08</td>\n",
              "      <td>0.19</td>\n",
              "      <td>0.1</td>\n",
              "      <td>0.18</td>\n",
              "      <td>0.48</td>\n",
              "      <td>0.27</td>\n",
              "      <td>0.68</td>\n",
              "      <td>0.23</td>\n",
              "      <td>0.41</td>\n",
              "      <td>...</td>\n",
              "      <td>0.35</td>\n",
              "      <td>0.38</td>\n",
              "      <td>0.34</td>\n",
              "      <td>0.38</td>\n",
              "      <td>0.46</td>\n",
              "      <td>0.25</td>\n",
              "      <td>0.04</td>\n",
              "      <td>0</td>\n",
              "      <td>0.12</td>\n",
              "      <td>0.42</td>\n",
              "      <td>0.5</td>\n",
              "      <td>0.51</td>\n",
              "      <td>0.64</td>\n",
              "      <td>0.03</td>\n",
              "      <td>0.13</td>\n",
              "      <td>0.96</td>\n",
              "      <td>0.17</td>\n",
              "      <td>0.06</td>\n",
              "      <td>0.18</td>\n",
              "      <td>0.44</td>\n",
              "      <td>0.13</td>\n",
              "      <td>0.94</td>\n",
              "      <td>0.93</td>\n",
              "      <td>0.03</td>\n",
              "      <td>0.07</td>\n",
              "      <td>0.1</td>\n",
              "      <td>0.07</td>\n",
              "      <td>0.02</td>\n",
              "      <td>0.57</td>\n",
              "      <td>0.29</td>\n",
              "      <td>0.12</td>\n",
              "      <td>0.26</td>\n",
              "      <td>0.2</td>\n",
              "      <td>0.06</td>\n",
              "      <td>0.04</td>\n",
              "      <td>0.9</td>\n",
              "      <td>0.5</td>\n",
              "      <td>0.32</td>\n",
              "      <td>0.14</td>\n",
              "      <td>0.2</td>\n",
              "    </tr>\n",
              "    <tr>\n",
              "      <th>1</th>\n",
              "      <td>53</td>\n",
              "      <td>0.3</td>\n",
              "      <td>0.3</td>\n",
              "      <td>1</td>\n",
              "      <td>0</td>\n",
              "      <td>0.16</td>\n",
              "      <td>0.12</td>\n",
              "      <td>0.74</td>\n",
              "      <td>0.45</td>\n",
              "      <td>0.07</td>\n",
              "      <td>0.26</td>\n",
              "      <td>0.59</td>\n",
              "      <td>0.35</td>\n",
              "      <td>0.27</td>\n",
              "      <td>0.02</td>\n",
              "      <td>1</td>\n",
              "      <td>0.31</td>\n",
              "      <td>0.72</td>\n",
              "      <td>0.11</td>\n",
              "      <td>0.45</td>\n",
              "      <td>0.25</td>\n",
              "      <td>0.29</td>\n",
              "      <td>0.39</td>\n",
              "      <td>0.29</td>\n",
              "      <td>0.37</td>\n",
              "      <td>0.38</td>\n",
              "      <td>0.33</td>\n",
              "      <td>0.16</td>\n",
              "      <td>0.3</td>\n",
              "      <td>0.22</td>\n",
              "      <td>0.35</td>\n",
              "      <td>0.01</td>\n",
              "      <td>0.24</td>\n",
              "      <td>0.14</td>\n",
              "      <td>0.24</td>\n",
              "      <td>0.3</td>\n",
              "      <td>0.27</td>\n",
              "      <td>0.73</td>\n",
              "      <td>0.57</td>\n",
              "      <td>0.15</td>\n",
              "      <td>...</td>\n",
              "      <td>0.38</td>\n",
              "      <td>0.4</td>\n",
              "      <td>0.37</td>\n",
              "      <td>0.29</td>\n",
              "      <td>0.32</td>\n",
              "      <td>0.18</td>\n",
              "      <td>0</td>\n",
              "      <td>0</td>\n",
              "      <td>0.21</td>\n",
              "      <td>0.5</td>\n",
              "      <td>0.34</td>\n",
              "      <td>0.6</td>\n",
              "      <td>0.52</td>\n",
              "      <td>0.3</td>\n",
              "      <td>0.3</td>\n",
              "      <td>0.3</td>\n",
              "      <td>0.3</td>\n",
              "      <td>0.3</td>\n",
              "      <td>0.3</td>\n",
              "      <td>0.3</td>\n",
              "      <td>0.3</td>\n",
              "      <td>0.3</td>\n",
              "      <td>0.3</td>\n",
              "      <td>0.3</td>\n",
              "      <td>0.3</td>\n",
              "      <td>0.3</td>\n",
              "      <td>0.3</td>\n",
              "      <td>0.3</td>\n",
              "      <td>0.3</td>\n",
              "      <td>0.3</td>\n",
              "      <td>0.02</td>\n",
              "      <td>0.12</td>\n",
              "      <td>0.45</td>\n",
              "      <td>0.3</td>\n",
              "      <td>0.3</td>\n",
              "      <td>0.3</td>\n",
              "      <td>0.3</td>\n",
              "      <td>0</td>\n",
              "      <td>0.3</td>\n",
              "      <td>0.67</td>\n",
              "    </tr>\n",
              "    <tr>\n",
              "      <th>2</th>\n",
              "      <td>24</td>\n",
              "      <td>0.4</td>\n",
              "      <td>0.4</td>\n",
              "      <td>1</td>\n",
              "      <td>0</td>\n",
              "      <td>0.42</td>\n",
              "      <td>0.49</td>\n",
              "      <td>0.56</td>\n",
              "      <td>0.17</td>\n",
              "      <td>0.04</td>\n",
              "      <td>0.39</td>\n",
              "      <td>0.47</td>\n",
              "      <td>0.28</td>\n",
              "      <td>0.32</td>\n",
              "      <td>0</td>\n",
              "      <td>0</td>\n",
              "      <td>0.3</td>\n",
              "      <td>0.58</td>\n",
              "      <td>0.19</td>\n",
              "      <td>0.39</td>\n",
              "      <td>0.38</td>\n",
              "      <td>0.4</td>\n",
              "      <td>0.84</td>\n",
              "      <td>0.28</td>\n",
              "      <td>0.27</td>\n",
              "      <td>0.29</td>\n",
              "      <td>0.27</td>\n",
              "      <td>0.07</td>\n",
              "      <td>0.29</td>\n",
              "      <td>0.28</td>\n",
              "      <td>0.39</td>\n",
              "      <td>0.01</td>\n",
              "      <td>0.27</td>\n",
              "      <td>0.27</td>\n",
              "      <td>0.43</td>\n",
              "      <td>0.19</td>\n",
              "      <td>0.36</td>\n",
              "      <td>0.58</td>\n",
              "      <td>0.32</td>\n",
              "      <td>0.29</td>\n",
              "      <td>...</td>\n",
              "      <td>0.29</td>\n",
              "      <td>0.27</td>\n",
              "      <td>0.31</td>\n",
              "      <td>0.48</td>\n",
              "      <td>0.39</td>\n",
              "      <td>0.28</td>\n",
              "      <td>0</td>\n",
              "      <td>0</td>\n",
              "      <td>0.14</td>\n",
              "      <td>0.49</td>\n",
              "      <td>0.54</td>\n",
              "      <td>0.67</td>\n",
              "      <td>0.56</td>\n",
              "      <td>0.4</td>\n",
              "      <td>0.4</td>\n",
              "      <td>0.4</td>\n",
              "      <td>0.4</td>\n",
              "      <td>0.4</td>\n",
              "      <td>0.4</td>\n",
              "      <td>0.4</td>\n",
              "      <td>0.4</td>\n",
              "      <td>0.4</td>\n",
              "      <td>0.4</td>\n",
              "      <td>0.4</td>\n",
              "      <td>0.4</td>\n",
              "      <td>0.4</td>\n",
              "      <td>0.4</td>\n",
              "      <td>0.4</td>\n",
              "      <td>0.4</td>\n",
              "      <td>0.4</td>\n",
              "      <td>0.01</td>\n",
              "      <td>0.21</td>\n",
              "      <td>0.02</td>\n",
              "      <td>0.4</td>\n",
              "      <td>0.4</td>\n",
              "      <td>0.4</td>\n",
              "      <td>0.4</td>\n",
              "      <td>0</td>\n",
              "      <td>0.4</td>\n",
              "      <td>0.43</td>\n",
              "    </tr>\n",
              "    <tr>\n",
              "      <th>3</th>\n",
              "      <td>34</td>\n",
              "      <td>5</td>\n",
              "      <td>81440</td>\n",
              "      <td>1</td>\n",
              "      <td>0.04</td>\n",
              "      <td>0.77</td>\n",
              "      <td>1</td>\n",
              "      <td>0.08</td>\n",
              "      <td>0.12</td>\n",
              "      <td>0.1</td>\n",
              "      <td>0.51</td>\n",
              "      <td>0.5</td>\n",
              "      <td>0.34</td>\n",
              "      <td>0.21</td>\n",
              "      <td>0.06</td>\n",
              "      <td>1</td>\n",
              "      <td>0.58</td>\n",
              "      <td>0.89</td>\n",
              "      <td>0.21</td>\n",
              "      <td>0.43</td>\n",
              "      <td>0.36</td>\n",
              "      <td>0.2</td>\n",
              "      <td>0.82</td>\n",
              "      <td>0.51</td>\n",
              "      <td>0.36</td>\n",
              "      <td>0.4</td>\n",
              "      <td>0.39</td>\n",
              "      <td>0.16</td>\n",
              "      <td>0.25</td>\n",
              "      <td>0.36</td>\n",
              "      <td>0.44</td>\n",
              "      <td>0.01</td>\n",
              "      <td>0.1</td>\n",
              "      <td>0.09</td>\n",
              "      <td>0.25</td>\n",
              "      <td>0.31</td>\n",
              "      <td>0.33</td>\n",
              "      <td>0.71</td>\n",
              "      <td>0.36</td>\n",
              "      <td>0.45</td>\n",
              "      <td>...</td>\n",
              "      <td>0.7</td>\n",
              "      <td>0.77</td>\n",
              "      <td>0.89</td>\n",
              "      <td>0.63</td>\n",
              "      <td>0.51</td>\n",
              "      <td>0.47</td>\n",
              "      <td>0</td>\n",
              "      <td>0</td>\n",
              "      <td>0.19</td>\n",
              "      <td>0.3</td>\n",
              "      <td>0.73</td>\n",
              "      <td>0.64</td>\n",
              "      <td>0.65</td>\n",
              "      <td>0.3</td>\n",
              "      <td>0.3</td>\n",
              "      <td>0.3</td>\n",
              "      <td>0.3</td>\n",
              "      <td>0.3</td>\n",
              "      <td>0.3</td>\n",
              "      <td>0.3</td>\n",
              "      <td>0.3</td>\n",
              "      <td>0.3</td>\n",
              "      <td>0.3</td>\n",
              "      <td>0.3</td>\n",
              "      <td>0.3</td>\n",
              "      <td>0.3</td>\n",
              "      <td>0.3</td>\n",
              "      <td>0.3</td>\n",
              "      <td>0.3</td>\n",
              "      <td>0.3</td>\n",
              "      <td>0.02</td>\n",
              "      <td>0.39</td>\n",
              "      <td>0.28</td>\n",
              "      <td>0.3</td>\n",
              "      <td>0.3</td>\n",
              "      <td>0.3</td>\n",
              "      <td>0.3</td>\n",
              "      <td>0</td>\n",
              "      <td>0.3</td>\n",
              "      <td>0.12</td>\n",
              "    </tr>\n",
              "    <tr>\n",
              "      <th>4</th>\n",
              "      <td>42</td>\n",
              "      <td>95</td>\n",
              "      <td>6096</td>\n",
              "      <td>1</td>\n",
              "      <td>0.01</td>\n",
              "      <td>0.55</td>\n",
              "      <td>0.02</td>\n",
              "      <td>0.95</td>\n",
              "      <td>0.09</td>\n",
              "      <td>0.05</td>\n",
              "      <td>0.38</td>\n",
              "      <td>0.38</td>\n",
              "      <td>0.23</td>\n",
              "      <td>0.36</td>\n",
              "      <td>0.02</td>\n",
              "      <td>0.9</td>\n",
              "      <td>0.5</td>\n",
              "      <td>0.72</td>\n",
              "      <td>0.16</td>\n",
              "      <td>0.68</td>\n",
              "      <td>0.44</td>\n",
              "      <td>0.11</td>\n",
              "      <td>0.71</td>\n",
              "      <td>0.46</td>\n",
              "      <td>0.43</td>\n",
              "      <td>0.41</td>\n",
              "      <td>0.28</td>\n",
              "      <td>0</td>\n",
              "      <td>0.74</td>\n",
              "      <td>0.51</td>\n",
              "      <td>0.48</td>\n",
              "      <td>0</td>\n",
              "      <td>0.06</td>\n",
              "      <td>0.25</td>\n",
              "      <td>0.3</td>\n",
              "      <td>0.33</td>\n",
              "      <td>0.12</td>\n",
              "      <td>0.65</td>\n",
              "      <td>0.67</td>\n",
              "      <td>0.38</td>\n",
              "      <td>...</td>\n",
              "      <td>0.36</td>\n",
              "      <td>0.38</td>\n",
              "      <td>0.38</td>\n",
              "      <td>0.22</td>\n",
              "      <td>0.51</td>\n",
              "      <td>0.21</td>\n",
              "      <td>0</td>\n",
              "      <td>0</td>\n",
              "      <td>0.11</td>\n",
              "      <td>0.72</td>\n",
              "      <td>0.64</td>\n",
              "      <td>0.61</td>\n",
              "      <td>0.53</td>\n",
              "      <td>-0</td>\n",
              "      <td>-0</td>\n",
              "      <td>-0</td>\n",
              "      <td>-0</td>\n",
              "      <td>-0</td>\n",
              "      <td>-0</td>\n",
              "      <td>-0</td>\n",
              "      <td>-0</td>\n",
              "      <td>-0</td>\n",
              "      <td>-0</td>\n",
              "      <td>-0</td>\n",
              "      <td>-0</td>\n",
              "      <td>-0</td>\n",
              "      <td>-0</td>\n",
              "      <td>-0</td>\n",
              "      <td>-0</td>\n",
              "      <td>-0</td>\n",
              "      <td>0.04</td>\n",
              "      <td>0.09</td>\n",
              "      <td>0.02</td>\n",
              "      <td>-0</td>\n",
              "      <td>-0</td>\n",
              "      <td>-0</td>\n",
              "      <td>-0</td>\n",
              "      <td>0</td>\n",
              "      <td>-0</td>\n",
              "      <td>0.03</td>\n",
              "    </tr>\n",
              "  </tbody>\n",
              "</table>\n",
              "<p>5 rows × 127 columns</p>\n",
              "</div>"
            ],
            "text/plain": [
              "  0    1      2   4     5     6     7    ...   121   122  123  124   125   126   127\n",
              "0   8  0.2    0.2   1  0.19  0.33  0.02  ...  0.06  0.04  0.9  0.5  0.32  0.14   0.2\n",
              "1  53  0.3    0.3   1     0  0.16  0.12  ...   0.3   0.3  0.3  0.3     0   0.3  0.67\n",
              "2  24  0.4    0.4   1     0  0.42  0.49  ...   0.4   0.4  0.4  0.4     0   0.4  0.43\n",
              "3  34    5  81440   1  0.04  0.77     1  ...   0.3   0.3  0.3  0.3     0   0.3  0.12\n",
              "4  42   95   6096   1  0.01  0.55  0.02  ...    -0    -0   -0   -0     0    -0  0.03\n",
              "\n",
              "[5 rows x 127 columns]"
            ]
          },
          "metadata": {},
          "execution_count": 89
        }
      ]
    },
    {
      "cell_type": "markdown",
      "metadata": {
        "id": "2ced60f4"
      },
      "source": [
        "### 2"
      ],
      "id": "2ced60f4"
    },
    {
      "cell_type": "code",
      "metadata": {
        "colab": {
          "base_uri": "https://localhost:8080/"
        },
        "id": "612fb8bf",
        "outputId": "659f2e8e-ca86-444e-d099-a2e12506d28d"
      },
      "source": [
        "#data_ = data_.drop(3,1)\n",
        "test_size = int(data.shape[0] * 0.2)\n",
        "test_data = data_n.iloc[:test_size, : ]\n",
        "test_data_x = test_data.iloc[:,0:126]\n",
        "test_data_y = test_data.iloc[:, 126]\n",
        "\n",
        "\n",
        "test_data.shape"
      ],
      "id": "612fb8bf",
      "execution_count": 90,
      "outputs": [
        {
          "output_type": "execute_result",
          "data": {
            "text/plain": [
              "(398, 127)"
            ]
          },
          "metadata": {},
          "execution_count": 90
        }
      ]
    },
    {
      "cell_type": "code",
      "metadata": {
        "colab": {
          "base_uri": "https://localhost:8080/",
          "height": 562
        },
        "id": "KkbxpoqFSgKq",
        "outputId": "e6477d7d-6831-423b-bcdb-1e8e487d624f"
      },
      "source": [
        "from google.colab import drive\n",
        "drive.mount('/content/drive')"
      ],
      "id": "KkbxpoqFSgKq",
      "execution_count": 12,
      "outputs": [
        {
          "output_type": "error",
          "ename": "KeyboardInterrupt",
          "evalue": "ignored",
          "traceback": [
            "\u001b[0;31m---------------------------------------------------------------------------\u001b[0m",
            "\u001b[0;31mKeyboardInterrupt\u001b[0m                         Traceback (most recent call last)",
            "\u001b[0;32m/usr/local/lib/python3.7/dist-packages/ipykernel/kernelbase.py\u001b[0m in \u001b[0;36m_input_request\u001b[0;34m(self, prompt, ident, parent, password)\u001b[0m\n\u001b[1;32m    728\u001b[0m             \u001b[0;32mtry\u001b[0m\u001b[0;34m:\u001b[0m\u001b[0;34m\u001b[0m\u001b[0;34m\u001b[0m\u001b[0m\n\u001b[0;32m--> 729\u001b[0;31m                 \u001b[0mident\u001b[0m\u001b[0;34m,\u001b[0m \u001b[0mreply\u001b[0m \u001b[0;34m=\u001b[0m \u001b[0mself\u001b[0m\u001b[0;34m.\u001b[0m\u001b[0msession\u001b[0m\u001b[0;34m.\u001b[0m\u001b[0mrecv\u001b[0m\u001b[0;34m(\u001b[0m\u001b[0mself\u001b[0m\u001b[0;34m.\u001b[0m\u001b[0mstdin_socket\u001b[0m\u001b[0;34m,\u001b[0m \u001b[0;36m0\u001b[0m\u001b[0;34m)\u001b[0m\u001b[0;34m\u001b[0m\u001b[0;34m\u001b[0m\u001b[0m\n\u001b[0m\u001b[1;32m    730\u001b[0m             \u001b[0;32mexcept\u001b[0m \u001b[0mException\u001b[0m\u001b[0;34m:\u001b[0m\u001b[0;34m\u001b[0m\u001b[0;34m\u001b[0m\u001b[0m\n",
            "\u001b[0;32m/usr/local/lib/python3.7/dist-packages/jupyter_client/session.py\u001b[0m in \u001b[0;36mrecv\u001b[0;34m(self, socket, mode, content, copy)\u001b[0m\n\u001b[1;32m    802\u001b[0m         \u001b[0;32mtry\u001b[0m\u001b[0;34m:\u001b[0m\u001b[0;34m\u001b[0m\u001b[0;34m\u001b[0m\u001b[0m\n\u001b[0;32m--> 803\u001b[0;31m             \u001b[0mmsg_list\u001b[0m \u001b[0;34m=\u001b[0m \u001b[0msocket\u001b[0m\u001b[0;34m.\u001b[0m\u001b[0mrecv_multipart\u001b[0m\u001b[0;34m(\u001b[0m\u001b[0mmode\u001b[0m\u001b[0;34m,\u001b[0m \u001b[0mcopy\u001b[0m\u001b[0;34m=\u001b[0m\u001b[0mcopy\u001b[0m\u001b[0;34m)\u001b[0m\u001b[0;34m\u001b[0m\u001b[0;34m\u001b[0m\u001b[0m\n\u001b[0m\u001b[1;32m    804\u001b[0m         \u001b[0;32mexcept\u001b[0m \u001b[0mzmq\u001b[0m\u001b[0;34m.\u001b[0m\u001b[0mZMQError\u001b[0m \u001b[0;32mas\u001b[0m \u001b[0me\u001b[0m\u001b[0;34m:\u001b[0m\u001b[0;34m\u001b[0m\u001b[0;34m\u001b[0m\u001b[0m\n",
            "\u001b[0;32m/usr/local/lib/python3.7/dist-packages/zmq/sugar/socket.py\u001b[0m in \u001b[0;36mrecv_multipart\u001b[0;34m(self, flags, copy, track)\u001b[0m\n\u001b[1;32m    624\u001b[0m         \"\"\"\n\u001b[0;32m--> 625\u001b[0;31m         \u001b[0mparts\u001b[0m \u001b[0;34m=\u001b[0m \u001b[0;34m[\u001b[0m\u001b[0mself\u001b[0m\u001b[0;34m.\u001b[0m\u001b[0mrecv\u001b[0m\u001b[0;34m(\u001b[0m\u001b[0mflags\u001b[0m\u001b[0;34m,\u001b[0m \u001b[0mcopy\u001b[0m\u001b[0;34m=\u001b[0m\u001b[0mcopy\u001b[0m\u001b[0;34m,\u001b[0m \u001b[0mtrack\u001b[0m\u001b[0;34m=\u001b[0m\u001b[0mtrack\u001b[0m\u001b[0;34m)\u001b[0m\u001b[0;34m]\u001b[0m\u001b[0;34m\u001b[0m\u001b[0;34m\u001b[0m\u001b[0m\n\u001b[0m\u001b[1;32m    626\u001b[0m         \u001b[0;31m# have first part already, only loop while more to receive\u001b[0m\u001b[0;34m\u001b[0m\u001b[0;34m\u001b[0m\u001b[0;34m\u001b[0m\u001b[0m\n",
            "\u001b[0;32mzmq/backend/cython/socket.pyx\u001b[0m in \u001b[0;36mzmq.backend.cython.socket.Socket.recv\u001b[0;34m()\u001b[0m\n",
            "\u001b[0;32mzmq/backend/cython/socket.pyx\u001b[0m in \u001b[0;36mzmq.backend.cython.socket.Socket.recv\u001b[0;34m()\u001b[0m\n",
            "\u001b[0;32mzmq/backend/cython/socket.pyx\u001b[0m in \u001b[0;36mzmq.backend.cython.socket._recv_copy\u001b[0;34m()\u001b[0m\n",
            "\u001b[0;32m/usr/local/lib/python3.7/dist-packages/zmq/backend/cython/checkrc.pxd\u001b[0m in \u001b[0;36mzmq.backend.cython.checkrc._check_rc\u001b[0;34m()\u001b[0m\n",
            "\u001b[0;31mKeyboardInterrupt\u001b[0m: ",
            "\nDuring handling of the above exception, another exception occurred:\n",
            "\u001b[0;31mKeyboardInterrupt\u001b[0m                         Traceback (most recent call last)",
            "\u001b[0;32m<ipython-input-12-d5df0069828e>\u001b[0m in \u001b[0;36m<module>\u001b[0;34m()\u001b[0m\n\u001b[1;32m      1\u001b[0m \u001b[0;32mfrom\u001b[0m \u001b[0mgoogle\u001b[0m\u001b[0;34m.\u001b[0m\u001b[0mcolab\u001b[0m \u001b[0;32mimport\u001b[0m \u001b[0mdrive\u001b[0m\u001b[0;34m\u001b[0m\u001b[0;34m\u001b[0m\u001b[0m\n\u001b[0;32m----> 2\u001b[0;31m \u001b[0mdrive\u001b[0m\u001b[0;34m.\u001b[0m\u001b[0mmount\u001b[0m\u001b[0;34m(\u001b[0m\u001b[0;34m'/content/drive'\u001b[0m\u001b[0;34m)\u001b[0m\u001b[0;34m\u001b[0m\u001b[0;34m\u001b[0m\u001b[0m\n\u001b[0m",
            "\u001b[0;32m/usr/local/lib/python3.7/dist-packages/google/colab/drive.py\u001b[0m in \u001b[0;36mmount\u001b[0;34m(mountpoint, force_remount, timeout_ms, use_metadata_server)\u001b[0m\n\u001b[1;32m    111\u001b[0m       \u001b[0mtimeout_ms\u001b[0m\u001b[0;34m=\u001b[0m\u001b[0mtimeout_ms\u001b[0m\u001b[0;34m,\u001b[0m\u001b[0;34m\u001b[0m\u001b[0;34m\u001b[0m\u001b[0m\n\u001b[1;32m    112\u001b[0m       \u001b[0muse_metadata_server\u001b[0m\u001b[0;34m=\u001b[0m\u001b[0muse_metadata_server\u001b[0m\u001b[0;34m,\u001b[0m\u001b[0;34m\u001b[0m\u001b[0;34m\u001b[0m\u001b[0m\n\u001b[0;32m--> 113\u001b[0;31m       ephemeral=ephemeral)\n\u001b[0m\u001b[1;32m    114\u001b[0m \u001b[0;34m\u001b[0m\u001b[0m\n\u001b[1;32m    115\u001b[0m \u001b[0;34m\u001b[0m\u001b[0m\n",
            "\u001b[0;32m/usr/local/lib/python3.7/dist-packages/google/colab/drive.py\u001b[0m in \u001b[0;36m_mount\u001b[0;34m(mountpoint, force_remount, timeout_ms, use_metadata_server, ephemeral)\u001b[0m\n\u001b[1;32m    290\u001b[0m       \u001b[0;32mwith\u001b[0m \u001b[0m_output\u001b[0m\u001b[0;34m.\u001b[0m\u001b[0muse_tags\u001b[0m\u001b[0;34m(\u001b[0m\u001b[0;34m'dfs-auth-dance'\u001b[0m\u001b[0;34m)\u001b[0m\u001b[0;34m:\u001b[0m\u001b[0;34m\u001b[0m\u001b[0;34m\u001b[0m\u001b[0m\n\u001b[1;32m    291\u001b[0m         \u001b[0;32mwith\u001b[0m \u001b[0mopen\u001b[0m\u001b[0;34m(\u001b[0m\u001b[0mfifo\u001b[0m\u001b[0;34m,\u001b[0m \u001b[0;34m'w'\u001b[0m\u001b[0;34m)\u001b[0m \u001b[0;32mas\u001b[0m \u001b[0mfifo_file\u001b[0m\u001b[0;34m:\u001b[0m\u001b[0;34m\u001b[0m\u001b[0;34m\u001b[0m\u001b[0m\n\u001b[0;32m--> 292\u001b[0;31m           \u001b[0mfifo_file\u001b[0m\u001b[0;34m.\u001b[0m\u001b[0mwrite\u001b[0m\u001b[0;34m(\u001b[0m\u001b[0mget_code\u001b[0m\u001b[0;34m(\u001b[0m\u001b[0mauth_prompt\u001b[0m\u001b[0;34m)\u001b[0m \u001b[0;34m+\u001b[0m \u001b[0;34m'\\n'\u001b[0m\u001b[0;34m)\u001b[0m\u001b[0;34m\u001b[0m\u001b[0;34m\u001b[0m\u001b[0m\n\u001b[0m\u001b[1;32m    293\u001b[0m       \u001b[0mwrote_to_fifo\u001b[0m \u001b[0;34m=\u001b[0m \u001b[0;32mTrue\u001b[0m\u001b[0;34m\u001b[0m\u001b[0;34m\u001b[0m\u001b[0m\n\u001b[1;32m    294\u001b[0m     \u001b[0;32melif\u001b[0m \u001b[0mcase\u001b[0m \u001b[0;34m==\u001b[0m \u001b[0;36m5\u001b[0m\u001b[0;34m:\u001b[0m\u001b[0;34m\u001b[0m\u001b[0;34m\u001b[0m\u001b[0m\n",
            "\u001b[0;32m/usr/local/lib/python3.7/dist-packages/ipykernel/kernelbase.py\u001b[0m in \u001b[0;36mraw_input\u001b[0;34m(self, prompt)\u001b[0m\n\u001b[1;32m    702\u001b[0m             \u001b[0mself\u001b[0m\u001b[0;34m.\u001b[0m\u001b[0m_parent_ident\u001b[0m\u001b[0;34m,\u001b[0m\u001b[0;34m\u001b[0m\u001b[0;34m\u001b[0m\u001b[0m\n\u001b[1;32m    703\u001b[0m             \u001b[0mself\u001b[0m\u001b[0;34m.\u001b[0m\u001b[0m_parent_header\u001b[0m\u001b[0;34m,\u001b[0m\u001b[0;34m\u001b[0m\u001b[0;34m\u001b[0m\u001b[0m\n\u001b[0;32m--> 704\u001b[0;31m             \u001b[0mpassword\u001b[0m\u001b[0;34m=\u001b[0m\u001b[0;32mFalse\u001b[0m\u001b[0;34m,\u001b[0m\u001b[0;34m\u001b[0m\u001b[0;34m\u001b[0m\u001b[0m\n\u001b[0m\u001b[1;32m    705\u001b[0m         )\n\u001b[1;32m    706\u001b[0m \u001b[0;34m\u001b[0m\u001b[0m\n",
            "\u001b[0;32m/usr/local/lib/python3.7/dist-packages/ipykernel/kernelbase.py\u001b[0m in \u001b[0;36m_input_request\u001b[0;34m(self, prompt, ident, parent, password)\u001b[0m\n\u001b[1;32m    732\u001b[0m             \u001b[0;32mexcept\u001b[0m \u001b[0mKeyboardInterrupt\u001b[0m\u001b[0;34m:\u001b[0m\u001b[0;34m\u001b[0m\u001b[0;34m\u001b[0m\u001b[0m\n\u001b[1;32m    733\u001b[0m                 \u001b[0;31m# re-raise KeyboardInterrupt, to truncate traceback\u001b[0m\u001b[0;34m\u001b[0m\u001b[0;34m\u001b[0m\u001b[0;34m\u001b[0m\u001b[0m\n\u001b[0;32m--> 734\u001b[0;31m                 \u001b[0;32mraise\u001b[0m \u001b[0mKeyboardInterrupt\u001b[0m\u001b[0;34m\u001b[0m\u001b[0;34m\u001b[0m\u001b[0m\n\u001b[0m\u001b[1;32m    735\u001b[0m             \u001b[0;32melse\u001b[0m\u001b[0;34m:\u001b[0m\u001b[0;34m\u001b[0m\u001b[0;34m\u001b[0m\u001b[0m\n\u001b[1;32m    736\u001b[0m                 \u001b[0;32mbreak\u001b[0m\u001b[0;34m\u001b[0m\u001b[0;34m\u001b[0m\u001b[0m\n",
            "\u001b[0;31mKeyboardInterrupt\u001b[0m: "
          ]
        }
      ]
    },
    {
      "cell_type": "code",
      "metadata": {
        "colab": {
          "base_uri": "https://localhost:8080/",
          "height": 253
        },
        "id": "6dc5c367",
        "outputId": "cc8e2259-2d60-48fd-f333-bee766a9aa06"
      },
      "source": [
        "remaining = data.shape[0] - test_size\n",
        "train_size = int(remaining * 0.8)\n",
        "data_n = pd.DataFrame(data_n, dtype='float64')\n",
        "train_data = data_n.iloc[test_size : test_size + train_size, :]\n",
        "train_data.shape\n",
        "train_data_x = train_data.iloc[:,0:126]\n",
        "train_data_y = train_data.iloc[:, 126]\n",
        "\n",
        "train_data.head()\n",
        "\n"
      ],
      "id": "6dc5c367",
      "execution_count": 91,
      "outputs": [
        {
          "output_type": "execute_result",
          "data": {
            "text/html": [
              "<div>\n",
              "<style scoped>\n",
              "    .dataframe tbody tr th:only-of-type {\n",
              "        vertical-align: middle;\n",
              "    }\n",
              "\n",
              "    .dataframe tbody tr th {\n",
              "        vertical-align: top;\n",
              "    }\n",
              "\n",
              "    .dataframe thead th {\n",
              "        text-align: right;\n",
              "    }\n",
              "</style>\n",
              "<table border=\"1\" class=\"dataframe\">\n",
              "  <thead>\n",
              "    <tr style=\"text-align: right;\">\n",
              "      <th></th>\n",
              "      <th>0</th>\n",
              "      <th>1</th>\n",
              "      <th>2</th>\n",
              "      <th>4</th>\n",
              "      <th>5</th>\n",
              "      <th>6</th>\n",
              "      <th>7</th>\n",
              "      <th>8</th>\n",
              "      <th>9</th>\n",
              "      <th>10</th>\n",
              "      <th>11</th>\n",
              "      <th>12</th>\n",
              "      <th>13</th>\n",
              "      <th>14</th>\n",
              "      <th>15</th>\n",
              "      <th>16</th>\n",
              "      <th>17</th>\n",
              "      <th>18</th>\n",
              "      <th>19</th>\n",
              "      <th>20</th>\n",
              "      <th>21</th>\n",
              "      <th>22</th>\n",
              "      <th>23</th>\n",
              "      <th>24</th>\n",
              "      <th>25</th>\n",
              "      <th>26</th>\n",
              "      <th>27</th>\n",
              "      <th>28</th>\n",
              "      <th>29</th>\n",
              "      <th>30</th>\n",
              "      <th>31</th>\n",
              "      <th>32</th>\n",
              "      <th>33</th>\n",
              "      <th>34</th>\n",
              "      <th>35</th>\n",
              "      <th>36</th>\n",
              "      <th>37</th>\n",
              "      <th>38</th>\n",
              "      <th>39</th>\n",
              "      <th>40</th>\n",
              "      <th>...</th>\n",
              "      <th>88</th>\n",
              "      <th>89</th>\n",
              "      <th>90</th>\n",
              "      <th>91</th>\n",
              "      <th>92</th>\n",
              "      <th>93</th>\n",
              "      <th>94</th>\n",
              "      <th>95</th>\n",
              "      <th>96</th>\n",
              "      <th>97</th>\n",
              "      <th>98</th>\n",
              "      <th>99</th>\n",
              "      <th>100</th>\n",
              "      <th>101</th>\n",
              "      <th>102</th>\n",
              "      <th>103</th>\n",
              "      <th>104</th>\n",
              "      <th>105</th>\n",
              "      <th>106</th>\n",
              "      <th>107</th>\n",
              "      <th>108</th>\n",
              "      <th>109</th>\n",
              "      <th>110</th>\n",
              "      <th>111</th>\n",
              "      <th>112</th>\n",
              "      <th>113</th>\n",
              "      <th>114</th>\n",
              "      <th>115</th>\n",
              "      <th>116</th>\n",
              "      <th>117</th>\n",
              "      <th>118</th>\n",
              "      <th>119</th>\n",
              "      <th>120</th>\n",
              "      <th>121</th>\n",
              "      <th>122</th>\n",
              "      <th>123</th>\n",
              "      <th>124</th>\n",
              "      <th>125</th>\n",
              "      <th>126</th>\n",
              "      <th>127</th>\n",
              "    </tr>\n",
              "  </thead>\n",
              "  <tbody>\n",
              "    <tr>\n",
              "      <th>398</th>\n",
              "      <td>51.0</td>\n",
              "      <td>630.0</td>\n",
              "      <td>29744.0</td>\n",
              "      <td>2.0</td>\n",
              "      <td>0.01</td>\n",
              "      <td>0.39</td>\n",
              "      <td>0.42</td>\n",
              "      <td>0.64</td>\n",
              "      <td>0.06</td>\n",
              "      <td>0.04</td>\n",
              "      <td>0.72</td>\n",
              "      <td>0.81</td>\n",
              "      <td>0.76</td>\n",
              "      <td>0.43</td>\n",
              "      <td>0.03</td>\n",
              "      <td>1.0</td>\n",
              "      <td>0.25</td>\n",
              "      <td>0.56</td>\n",
              "      <td>0.16</td>\n",
              "      <td>0.41</td>\n",
              "      <td>0.51</td>\n",
              "      <td>0.26</td>\n",
              "      <td>0.44</td>\n",
              "      <td>0.29</td>\n",
              "      <td>0.30</td>\n",
              "      <td>0.34</td>\n",
              "      <td>0.24</td>\n",
              "      <td>0.17</td>\n",
              "      <td>0.16</td>\n",
              "      <td>0.22</td>\n",
              "      <td>0.35</td>\n",
              "      <td>0.02</td>\n",
              "      <td>0.32</td>\n",
              "      <td>0.39</td>\n",
              "      <td>0.45</td>\n",
              "      <td>0.42</td>\n",
              "      <td>0.16</td>\n",
              "      <td>0.49</td>\n",
              "      <td>0.13</td>\n",
              "      <td>0.50</td>\n",
              "      <td>...</td>\n",
              "      <td>0.41</td>\n",
              "      <td>0.42</td>\n",
              "      <td>0.42</td>\n",
              "      <td>0.54</td>\n",
              "      <td>0.41</td>\n",
              "      <td>0.32</td>\n",
              "      <td>0.01</td>\n",
              "      <td>0.14</td>\n",
              "      <td>0.08</td>\n",
              "      <td>0.58</td>\n",
              "      <td>0.36</td>\n",
              "      <td>0.17</td>\n",
              "      <td>0.50</td>\n",
              "      <td>0.40</td>\n",
              "      <td>0.40</td>\n",
              "      <td>0.40</td>\n",
              "      <td>0.40</td>\n",
              "      <td>0.40</td>\n",
              "      <td>0.4</td>\n",
              "      <td>0.4</td>\n",
              "      <td>0.40</td>\n",
              "      <td>0.40</td>\n",
              "      <td>0.40</td>\n",
              "      <td>0.4</td>\n",
              "      <td>0.40</td>\n",
              "      <td>0.4</td>\n",
              "      <td>0.40</td>\n",
              "      <td>0.40</td>\n",
              "      <td>0.40</td>\n",
              "      <td>0.40</td>\n",
              "      <td>0.03</td>\n",
              "      <td>0.15</td>\n",
              "      <td>0.12</td>\n",
              "      <td>0.40</td>\n",
              "      <td>0.40</td>\n",
              "      <td>0.40</td>\n",
              "      <td>0.4</td>\n",
              "      <td>0.00</td>\n",
              "      <td>0.40</td>\n",
              "      <td>0.18</td>\n",
              "    </tr>\n",
              "    <tr>\n",
              "      <th>399</th>\n",
              "      <td>12.0</td>\n",
              "      <td>0.7</td>\n",
              "      <td>0.7</td>\n",
              "      <td>2.0</td>\n",
              "      <td>0.03</td>\n",
              "      <td>0.00</td>\n",
              "      <td>0.28</td>\n",
              "      <td>0.76</td>\n",
              "      <td>0.03</td>\n",
              "      <td>0.16</td>\n",
              "      <td>0.04</td>\n",
              "      <td>0.09</td>\n",
              "      <td>0.05</td>\n",
              "      <td>1.00</td>\n",
              "      <td>0.05</td>\n",
              "      <td>1.0</td>\n",
              "      <td>0.15</td>\n",
              "      <td>0.00</td>\n",
              "      <td>0.12</td>\n",
              "      <td>0.58</td>\n",
              "      <td>1.00</td>\n",
              "      <td>0.20</td>\n",
              "      <td>0.47</td>\n",
              "      <td>0.19</td>\n",
              "      <td>0.40</td>\n",
              "      <td>0.45</td>\n",
              "      <td>0.17</td>\n",
              "      <td>0.42</td>\n",
              "      <td>0.48</td>\n",
              "      <td>0.27</td>\n",
              "      <td>0.41</td>\n",
              "      <td>0.04</td>\n",
              "      <td>0.42</td>\n",
              "      <td>0.38</td>\n",
              "      <td>0.56</td>\n",
              "      <td>0.21</td>\n",
              "      <td>0.47</td>\n",
              "      <td>0.00</td>\n",
              "      <td>0.17</td>\n",
              "      <td>0.25</td>\n",
              "      <td>...</td>\n",
              "      <td>0.38</td>\n",
              "      <td>0.47</td>\n",
              "      <td>0.40</td>\n",
              "      <td>0.99</td>\n",
              "      <td>0.69</td>\n",
              "      <td>0.40</td>\n",
              "      <td>0.00</td>\n",
              "      <td>0.00</td>\n",
              "      <td>0.74</td>\n",
              "      <td>0.06</td>\n",
              "      <td>0.62</td>\n",
              "      <td>0.58</td>\n",
              "      <td>0.51</td>\n",
              "      <td>0.70</td>\n",
              "      <td>0.70</td>\n",
              "      <td>0.70</td>\n",
              "      <td>0.70</td>\n",
              "      <td>0.70</td>\n",
              "      <td>0.7</td>\n",
              "      <td>0.7</td>\n",
              "      <td>0.70</td>\n",
              "      <td>0.70</td>\n",
              "      <td>0.70</td>\n",
              "      <td>0.7</td>\n",
              "      <td>0.70</td>\n",
              "      <td>0.7</td>\n",
              "      <td>0.70</td>\n",
              "      <td>0.70</td>\n",
              "      <td>0.70</td>\n",
              "      <td>0.70</td>\n",
              "      <td>0.01</td>\n",
              "      <td>0.62</td>\n",
              "      <td>0.21</td>\n",
              "      <td>0.70</td>\n",
              "      <td>0.70</td>\n",
              "      <td>0.70</td>\n",
              "      <td>0.7</td>\n",
              "      <td>0.00</td>\n",
              "      <td>0.70</td>\n",
              "      <td>0.80</td>\n",
              "    </tr>\n",
              "    <tr>\n",
              "      <th>400</th>\n",
              "      <td>39.0</td>\n",
              "      <td>139.0</td>\n",
              "      <td>47138.0</td>\n",
              "      <td>3.0</td>\n",
              "      <td>0.07</td>\n",
              "      <td>0.36</td>\n",
              "      <td>0.35</td>\n",
              "      <td>0.71</td>\n",
              "      <td>0.04</td>\n",
              "      <td>0.02</td>\n",
              "      <td>0.40</td>\n",
              "      <td>0.50</td>\n",
              "      <td>0.34</td>\n",
              "      <td>0.49</td>\n",
              "      <td>0.08</td>\n",
              "      <td>1.0</td>\n",
              "      <td>0.18</td>\n",
              "      <td>0.41</td>\n",
              "      <td>0.10</td>\n",
              "      <td>0.40</td>\n",
              "      <td>0.54</td>\n",
              "      <td>0.56</td>\n",
              "      <td>0.57</td>\n",
              "      <td>0.22</td>\n",
              "      <td>0.23</td>\n",
              "      <td>0.24</td>\n",
              "      <td>0.20</td>\n",
              "      <td>0.16</td>\n",
              "      <td>0.88</td>\n",
              "      <td>0.09</td>\n",
              "      <td>0.21</td>\n",
              "      <td>0.08</td>\n",
              "      <td>0.47</td>\n",
              "      <td>0.38</td>\n",
              "      <td>0.53</td>\n",
              "      <td>0.19</td>\n",
              "      <td>0.58</td>\n",
              "      <td>0.28</td>\n",
              "      <td>0.67</td>\n",
              "      <td>0.35</td>\n",
              "      <td>...</td>\n",
              "      <td>0.17</td>\n",
              "      <td>0.16</td>\n",
              "      <td>0.18</td>\n",
              "      <td>0.43</td>\n",
              "      <td>0.18</td>\n",
              "      <td>0.39</td>\n",
              "      <td>0.02</td>\n",
              "      <td>0.00</td>\n",
              "      <td>0.08</td>\n",
              "      <td>0.78</td>\n",
              "      <td>0.55</td>\n",
              "      <td>0.76</td>\n",
              "      <td>0.84</td>\n",
              "      <td>0.30</td>\n",
              "      <td>0.30</td>\n",
              "      <td>0.30</td>\n",
              "      <td>0.30</td>\n",
              "      <td>0.30</td>\n",
              "      <td>0.3</td>\n",
              "      <td>0.3</td>\n",
              "      <td>0.30</td>\n",
              "      <td>0.30</td>\n",
              "      <td>0.30</td>\n",
              "      <td>0.3</td>\n",
              "      <td>0.30</td>\n",
              "      <td>0.3</td>\n",
              "      <td>0.30</td>\n",
              "      <td>0.30</td>\n",
              "      <td>0.30</td>\n",
              "      <td>0.30</td>\n",
              "      <td>0.08</td>\n",
              "      <td>0.15</td>\n",
              "      <td>0.07</td>\n",
              "      <td>0.30</td>\n",
              "      <td>0.30</td>\n",
              "      <td>0.30</td>\n",
              "      <td>0.3</td>\n",
              "      <td>0.00</td>\n",
              "      <td>0.30</td>\n",
              "      <td>1.00</td>\n",
              "    </tr>\n",
              "    <tr>\n",
              "      <th>401</th>\n",
              "      <td>55.0</td>\n",
              "      <td>79.0</td>\n",
              "      <td>53000.0</td>\n",
              "      <td>3.0</td>\n",
              "      <td>0.99</td>\n",
              "      <td>0.42</td>\n",
              "      <td>0.59</td>\n",
              "      <td>0.44</td>\n",
              "      <td>0.11</td>\n",
              "      <td>0.11</td>\n",
              "      <td>0.44</td>\n",
              "      <td>0.56</td>\n",
              "      <td>0.37</td>\n",
              "      <td>0.39</td>\n",
              "      <td>0.99</td>\n",
              "      <td>1.0</td>\n",
              "      <td>0.20</td>\n",
              "      <td>0.45</td>\n",
              "      <td>0.11</td>\n",
              "      <td>0.44</td>\n",
              "      <td>0.48</td>\n",
              "      <td>0.75</td>\n",
              "      <td>0.47</td>\n",
              "      <td>0.21</td>\n",
              "      <td>0.20</td>\n",
              "      <td>0.28</td>\n",
              "      <td>0.18</td>\n",
              "      <td>0.13</td>\n",
              "      <td>0.15</td>\n",
              "      <td>0.18</td>\n",
              "      <td>0.22</td>\n",
              "      <td>1.00</td>\n",
              "      <td>0.59</td>\n",
              "      <td>0.33</td>\n",
              "      <td>0.49</td>\n",
              "      <td>0.22</td>\n",
              "      <td>0.59</td>\n",
              "      <td>0.42</td>\n",
              "      <td>0.51</td>\n",
              "      <td>0.45</td>\n",
              "      <td>...</td>\n",
              "      <td>0.27</td>\n",
              "      <td>0.30</td>\n",
              "      <td>0.28</td>\n",
              "      <td>0.59</td>\n",
              "      <td>0.41</td>\n",
              "      <td>0.57</td>\n",
              "      <td>0.30</td>\n",
              "      <td>0.12</td>\n",
              "      <td>0.14</td>\n",
              "      <td>0.71</td>\n",
              "      <td>0.52</td>\n",
              "      <td>0.79</td>\n",
              "      <td>0.75</td>\n",
              "      <td>0.41</td>\n",
              "      <td>0.29</td>\n",
              "      <td>0.63</td>\n",
              "      <td>0.32</td>\n",
              "      <td>0.16</td>\n",
              "      <td>0.1</td>\n",
              "      <td>0.1</td>\n",
              "      <td>0.29</td>\n",
              "      <td>0.56</td>\n",
              "      <td>0.72</td>\n",
              "      <td>0.3</td>\n",
              "      <td>0.12</td>\n",
              "      <td>0.0</td>\n",
              "      <td>0.28</td>\n",
              "      <td>0.16</td>\n",
              "      <td>0.79</td>\n",
              "      <td>0.57</td>\n",
              "      <td>0.28</td>\n",
              "      <td>0.55</td>\n",
              "      <td>0.62</td>\n",
              "      <td>0.37</td>\n",
              "      <td>0.38</td>\n",
              "      <td>0.57</td>\n",
              "      <td>0.5</td>\n",
              "      <td>0.24</td>\n",
              "      <td>0.25</td>\n",
              "      <td>0.40</td>\n",
              "    </tr>\n",
              "    <tr>\n",
              "      <th>402</th>\n",
              "      <td>22.0</td>\n",
              "      <td>0.3</td>\n",
              "      <td>0.3</td>\n",
              "      <td>3.0</td>\n",
              "      <td>0.00</td>\n",
              "      <td>0.45</td>\n",
              "      <td>0.41</td>\n",
              "      <td>0.65</td>\n",
              "      <td>0.09</td>\n",
              "      <td>0.02</td>\n",
              "      <td>0.56</td>\n",
              "      <td>0.60</td>\n",
              "      <td>0.46</td>\n",
              "      <td>0.45</td>\n",
              "      <td>0.02</td>\n",
              "      <td>1.0</td>\n",
              "      <td>0.14</td>\n",
              "      <td>0.48</td>\n",
              "      <td>0.16</td>\n",
              "      <td>0.35</td>\n",
              "      <td>0.49</td>\n",
              "      <td>0.42</td>\n",
              "      <td>0.56</td>\n",
              "      <td>0.16</td>\n",
              "      <td>0.16</td>\n",
              "      <td>0.20</td>\n",
              "      <td>0.15</td>\n",
              "      <td>0.19</td>\n",
              "      <td>0.04</td>\n",
              "      <td>0.36</td>\n",
              "      <td>0.17</td>\n",
              "      <td>0.02</td>\n",
              "      <td>0.55</td>\n",
              "      <td>0.43</td>\n",
              "      <td>0.48</td>\n",
              "      <td>0.30</td>\n",
              "      <td>0.51</td>\n",
              "      <td>0.34</td>\n",
              "      <td>0.15</td>\n",
              "      <td>0.79</td>\n",
              "      <td>...</td>\n",
              "      <td>0.15</td>\n",
              "      <td>0.14</td>\n",
              "      <td>0.17</td>\n",
              "      <td>0.34</td>\n",
              "      <td>0.20</td>\n",
              "      <td>0.60</td>\n",
              "      <td>0.00</td>\n",
              "      <td>0.00</td>\n",
              "      <td>0.06</td>\n",
              "      <td>0.78</td>\n",
              "      <td>0.50</td>\n",
              "      <td>0.66</td>\n",
              "      <td>0.80</td>\n",
              "      <td>0.30</td>\n",
              "      <td>0.30</td>\n",
              "      <td>0.30</td>\n",
              "      <td>0.30</td>\n",
              "      <td>0.30</td>\n",
              "      <td>0.3</td>\n",
              "      <td>0.3</td>\n",
              "      <td>0.30</td>\n",
              "      <td>0.30</td>\n",
              "      <td>0.30</td>\n",
              "      <td>0.3</td>\n",
              "      <td>0.30</td>\n",
              "      <td>0.3</td>\n",
              "      <td>0.30</td>\n",
              "      <td>0.30</td>\n",
              "      <td>0.30</td>\n",
              "      <td>0.30</td>\n",
              "      <td>0.02</td>\n",
              "      <td>0.15</td>\n",
              "      <td>0.06</td>\n",
              "      <td>0.30</td>\n",
              "      <td>0.30</td>\n",
              "      <td>0.30</td>\n",
              "      <td>0.3</td>\n",
              "      <td>0.00</td>\n",
              "      <td>0.30</td>\n",
              "      <td>0.05</td>\n",
              "    </tr>\n",
              "  </tbody>\n",
              "</table>\n",
              "<p>5 rows × 127 columns</p>\n",
              "</div>"
            ],
            "text/plain": [
              "      0      1        2    4     5     6    ...   122   123  124   125   126   127\n",
              "398  51.0  630.0  29744.0  2.0  0.01  0.39  ...  0.40  0.40  0.4  0.00  0.40  0.18\n",
              "399  12.0    0.7      0.7  2.0  0.03  0.00  ...  0.70  0.70  0.7  0.00  0.70  0.80\n",
              "400  39.0  139.0  47138.0  3.0  0.07  0.36  ...  0.30  0.30  0.3  0.00  0.30  1.00\n",
              "401  55.0   79.0  53000.0  3.0  0.99  0.42  ...  0.38  0.57  0.5  0.24  0.25  0.40\n",
              "402  22.0    0.3      0.3  3.0  0.00  0.45  ...  0.30  0.30  0.3  0.00  0.30  0.05\n",
              "\n",
              "[5 rows x 127 columns]"
            ]
          },
          "metadata": {},
          "execution_count": 91
        }
      ]
    },
    {
      "cell_type": "code",
      "metadata": {
        "colab": {
          "base_uri": "https://localhost:8080/"
        },
        "id": "01d27b04",
        "outputId": "08715ba6-6609-45a0-9851-e998c57c446f"
      },
      "source": [
        "remaining_valid = data.shape[0] - test_size - train_size\n",
        "valid_data = data_n.iloc[test_size+ train_size  :, :]\n",
        "valid_data.shape"
      ],
      "id": "01d27b04",
      "execution_count": 92,
      "outputs": [
        {
          "output_type": "execute_result",
          "data": {
            "text/plain": [
              "(320, 127)"
            ]
          },
          "metadata": {},
          "execution_count": 92
        }
      ]
    },
    {
      "cell_type": "markdown",
      "metadata": {
        "id": "2f644c7d"
      },
      "source": [
        "### 2.a"
      ],
      "id": "2f644c7d"
    },
    {
      "cell_type": "code",
      "metadata": {
        "colab": {
          "base_uri": "https://localhost:8080/"
        },
        "id": "56774037",
        "outputId": "79d1d336-0661-47c8-9ea4-3a4866dd92be"
      },
      "source": [
        "w, b = LinearRegression_(train_data_x, train_data_y, 0.01, 2)\n",
        "print(w, b)"
      ],
      "id": "56774037",
      "execution_count": 93,
      "outputs": [
        {
          "output_type": "stream",
          "name": "stdout",
          "text": [
            "0     -7.460795e+05\n",
            "1     -1.232640e+06\n",
            "2     -1.310525e+09\n",
            "4     -1.231994e+05\n",
            "5     -1.058334e+03\n",
            "           ...     \n",
            "122   -2.288254e+03\n",
            "123   -4.295925e+03\n",
            "124   -2.941331e+03\n",
            "125   -1.686733e+03\n",
            "126   -2.662016e+03\n",
            "Length: 126, dtype: float64 -21638.017965280207\n"
          ]
        }
      ]
    },
    {
      "cell_type": "code",
      "metadata": {
        "colab": {
          "base_uri": "https://localhost:8080/"
        },
        "id": "ea5e5c8a",
        "outputId": "4cb2f45d-f05f-4912-f714-a0cd7b8b813d"
      },
      "source": [
        "# here I ran regression with sklearn since my laptop is not strong enough to run my regression on it but I implement it as well\n",
        "import numpy as np\n",
        "from sklearn.linear_model import LinearRegression\n",
        "reg = LinearRegression().fit(train_data_x, train_data_y)\n",
        "print(reg.coef_, reg.intercept_)\n",
        "\n"
      ],
      "id": "ea5e5c8a",
      "execution_count": 94,
      "outputs": [
        {
          "output_type": "stream",
          "name": "stdout",
          "text": [
            "[-4.88459384e-04 -1.01316758e-04 -3.95169334e-07 -1.70598373e-03\n",
            "  6.42890822e-02 -5.94103134e-03  2.65511413e-01 -6.84958353e-03\n",
            " -5.33527327e-02  2.66285906e-02  1.74222422e-01 -3.02003879e-01\n",
            " -2.16012727e-01 -5.22323133e-02 -4.62932289e-01  6.48483983e-02\n",
            " -2.89986828e-01 -1.80919125e-01  1.34050797e-02 -1.74549218e-01\n",
            "  2.15087021e-01  6.44209402e-02 -1.16368403e-01  3.11404951e-01\n",
            " -2.18784129e-03 -3.03580698e-01 -2.91557936e-02 -4.62209880e-02\n",
            "  3.89972078e-02  3.99431714e-02  2.72645496e-02  2.89080712e-01\n",
            " -2.62850572e-01 -6.53259402e-02  3.66004975e-02  1.85071886e-01\n",
            "  5.57641041e-02  3.41594743e-01 -8.36664117e-02 -5.40558523e-02\n",
            "  1.15391211e-01  9.56910642e-02  4.81549731e-01  2.60415851e-01\n",
            " -4.51782579e-02 -4.59523052e-01 -4.11631538e-01 -5.20290525e-02\n",
            " -2.85458797e-01  2.73102787e-02  1.57932849e-02  4.51551548e-02\n",
            " -1.91378981e-01 -2.06380679e-01  1.49248114e-01 -7.90682889e-02\n",
            "  5.59584142e-02 -2.23227449e-02  6.40755601e-02 -8.53342135e-02\n",
            " -1.62733717e-02 -6.67689185e-02 -2.60590928e-01  3.68705237e-01\n",
            " -1.67556450e-01 -2.85406968e-01  2.79111026e-01 -3.74910463e-01\n",
            "  8.24898134e-01 -7.37712981e-02 -2.88962157e-01 -8.41471225e-01\n",
            "  2.34676303e-01  8.74450051e-02  5.29880045e-02  2.23245277e-01\n",
            " -3.75056593e-02  6.48468238e-01  7.72399263e-02 -8.05476419e-02\n",
            " -2.69679146e-02  2.80837451e-02 -4.52972541e-02 -5.09006924e-01\n",
            "  4.87209540e-01 -4.81100920e-02 -1.07513039e-01 -2.00342422e-01\n",
            " -1.89840696e-02  3.67640148e-01  6.58225188e-02 -5.68951079e-02\n",
            " -7.51682977e-02  1.42669825e-01  1.82159198e-01  1.11276934e-01\n",
            "  2.14912815e-02 -5.39521740e-02  3.13392117e-02  3.99312837e-02\n",
            "  1.70533479e-02 -2.30624767e+01  1.35027418e-01  6.33969356e-01\n",
            " -2.54437427e-01 -2.07761937e-01  2.40177628e-01  2.26492464e+01\n",
            " -2.54395214e-02 -1.31899601e-01 -3.42586793e-01 -2.92825402e-01\n",
            "  9.68289577e-02  2.01959255e-01 -6.34545792e-03 -2.02217852e-02\n",
            " -2.51151032e-02  4.70571120e-02 -1.38738471e-02 -2.78264838e-02\n",
            "  1.23164121e-01  2.72001891e-01 -7.12029217e-02  1.55913222e-02\n",
            " -4.61172392e-02 -3.84260048e-02] 0.7202570773031803\n"
          ]
        }
      ]
    },
    {
      "cell_type": "code",
      "metadata": {
        "id": "693bd489"
      },
      "source": [
        "from random import randrange\n",
        "\n",
        "def cross_validation(x, n):\n",
        "    k_fold = []\n",
        "    fold_size = int(x.shape[0] / n)\n",
        "    for i in range(n):\n",
        "        fold = []\n",
        "        while len(fold) < fold_size:\n",
        "            index = randrange(x.shape[0])\n",
        "            fold.append(x.iloc[index,:])\n",
        "        k_fold.append(fold)\n",
        "    return k_fold\n"
      ],
      "id": "693bd489",
      "execution_count": 95,
      "outputs": []
    },
    {
      "cell_type": "code",
      "metadata": {
        "colab": {
          "base_uri": "https://localhost:8080/"
        },
        "id": "d9c1c0bb",
        "outputId": "2473fbdf-ab53-4275-f164-c77154e1bd65"
      },
      "source": [
        "def rmse(y, x, w, b):\n",
        "    #w = w.values.reshape((126,1))\n",
        "    y_hat = x.dot(w) + b\n",
        "    error = 0\n",
        "    for i in range(len(y)):\n",
        "        error = error + (y_hat[i] - y[i]) ** 2 / int(len(y))\n",
        "    return np.sqrt(error)\n",
        "\n",
        "\n",
        "k_fold = cross_validation(valid_data, 5)\n",
        "fold_rmse= []\n",
        "for d in (k_fold):\n",
        "    d = pd.DataFrame(d)\n",
        "    data_x = d.iloc[:,:126]\n",
        "    data_y = d.iloc[:,-1]\n",
        "    y_hat = data_x.dot(reg.coef_) + reg.intercept_\n",
        "    error_rmse = np.sum((y_hat - data_y)**2) / 1994\n",
        "    fold_rmse.append(error_rmse)\n",
        "    \n",
        "print(f\"5-fold cross-validation average RMSE is :{np.average(fold_rmse)} \")"
      ],
      "id": "d9c1c0bb",
      "execution_count": 96,
      "outputs": [
        {
          "output_type": "stream",
          "name": "stdout",
          "text": [
            "5-fold cross-validation average RMSE is :0.0005378357434981447 \n"
          ]
        }
      ]
    },
    {
      "cell_type": "markdown",
      "metadata": {
        "id": "5bfd38c7"
      },
      "source": [
        "### 2.b"
      ],
      "id": "5bfd38c7"
    },
    {
      "cell_type": "code",
      "metadata": {
        "colab": {
          "base_uri": "https://localhost:8080/"
        },
        "id": "ef8aa548",
        "outputId": "ed47cada-f0bc-4eb1-a98d-06e5f4037d40"
      },
      "source": [
        "#print(test_data_x.head())\n",
        "test_x =test_data_x.to_numpy(dtype = 'float64')\n",
        "y_hat = np.dot(test_x, reg.coef_) + reg.intercept_\n",
        "#y_hat = test_x.dot(reg.coef_) + reg.intercept_\n",
        "error_rmse = np.sum((y_hat - test_data_y)**2) / 1994\n",
        "print(f\"test RMSE is :{error_rmse} \")"
      ],
      "id": "ef8aa548",
      "execution_count": 97,
      "outputs": [
        {
          "output_type": "stream",
          "name": "stdout",
          "text": [
            "test RMSE is :0.003976107921357373 \n"
          ]
        }
      ]
    },
    {
      "cell_type": "markdown",
      "metadata": {
        "id": "22b1fc00"
      },
      "source": [
        "### 3"
      ],
      "id": "22b1fc00"
    },
    {
      "cell_type": "code",
      "metadata": {
        "id": "43ce2688"
      },
      "source": [
        "def rigid(x, y, learning_rate, landa, iteration):\n",
        "    w_ = []\n",
        "    b_ = []\n",
        "    m, n = x.shape\n",
        "    w = np.zeros(n)\n",
        "    b = 0\n",
        "    \n",
        "    for i in range(iteration):\n",
        "        y_hat = np.dot(x, w) + b\n",
        "        gradient_w = 2 *( np.dot(np.transpose(x), (y_hat - y))) + ( 2 * landa * w )   / m\n",
        "        gradient_b = 2 * np.sum((y_hat - y)) / m\n",
        "        \n",
        "        w = w - learning_rate * gradient_w\n",
        "        b = b - learning_rate * gradient_b\n",
        "        w_.append(w)\n",
        "        b_.append(b)\n",
        "    \n",
        "    return w, b"
      ],
      "id": "43ce2688",
      "execution_count": 98,
      "outputs": []
    },
    {
      "cell_type": "markdown",
      "metadata": {
        "id": "2db45236"
      },
      "source": [
        "### 3.a"
      ],
      "id": "2db45236"
    },
    {
      "cell_type": "code",
      "metadata": {
        "colab": {
          "base_uri": "https://localhost:8080/"
        },
        "id": "1c32da26",
        "outputId": "345d03c1-76ea-4829-91b6-5724df3bb891"
      },
      "source": [
        "from sklearn import linear_model\n",
        "\n",
        "landa = [ 0,0.1, 0.01, 0.001, 0.0001]\n",
        "ave = []\n",
        "for l in landa:\n",
        "    \n",
        "    kfold = cross_validation(valid_data, 5)\n",
        "    fold_rmse= []\n",
        "    for d in (k_fold):\n",
        "        d = pd.DataFrame(d)\n",
        "        data_x = d.iloc[:,:126]\n",
        "        data_y = d.iloc[:,-1]\n",
        "        reg = linear_model.Ridge(alpha=l)\n",
        "        reg.fit(data_x, data_y)\n",
        "        #w, b =rigid(data_x, data_y, 0.5, l, 10)\n",
        "        y_hat = data_x.dot(reg.coef_) + reg.intercept_\n",
        "        error_rmse = np.sum((y_hat - data_y)**2) / 1994\n",
        "        fold_rmse.append(error_rmse)\n",
        "    ave.append(np.average(fold_rmse))\n",
        "    \n",
        "    \n",
        "#print(f\"5-fold cross-validation average RMSE is :{np.average(fold_rmse)} \")"
      ],
      "id": "1c32da26",
      "execution_count": 110,
      "outputs": [
        {
          "output_type": "stream",
          "name": "stderr",
          "text": [
            "/usr/local/lib/python3.7/dist-packages/sklearn/linear_model/_ridge.py:190: UserWarning: Singular matrix in solving dual problem. Using least-squares solution instead.\n",
            "  warnings.warn(\"Singular matrix in solving dual problem. Using \"\n",
            "/usr/local/lib/python3.7/dist-packages/sklearn/linear_model/_ridge.py:190: UserWarning: Singular matrix in solving dual problem. Using least-squares solution instead.\n",
            "  warnings.warn(\"Singular matrix in solving dual problem. Using \"\n",
            "/usr/local/lib/python3.7/dist-packages/sklearn/linear_model/_ridge.py:190: UserWarning: Singular matrix in solving dual problem. Using least-squares solution instead.\n",
            "  warnings.warn(\"Singular matrix in solving dual problem. Using \"\n",
            "/usr/local/lib/python3.7/dist-packages/sklearn/linear_model/_ridge.py:190: UserWarning: Singular matrix in solving dual problem. Using least-squares solution instead.\n",
            "  warnings.warn(\"Singular matrix in solving dual problem. Using \"\n",
            "/usr/local/lib/python3.7/dist-packages/sklearn/linear_model/_ridge.py:190: UserWarning: Singular matrix in solving dual problem. Using least-squares solution instead.\n",
            "  warnings.warn(\"Singular matrix in solving dual problem. Using \"\n"
          ]
        }
      ]
    },
    {
      "cell_type": "code",
      "metadata": {
        "colab": {
          "base_uri": "https://localhost:8080/",
          "height": 327
        },
        "id": "fd3d0809",
        "outputId": "f2c145bc-aca3-41c1-943d-0951e1886e87"
      },
      "source": [
        "import matplotlib.pyplot as plt\n",
        "\n",
        "print(ave)\n",
        "plt.plot(landa, ave)\n",
        "plt.xlabel(\"lambda\")\n",
        "plt.ylabel(\"RMSE\")\n",
        "plt.show()"
      ],
      "id": "fd3d0809",
      "execution_count": 111,
      "outputs": [
        {
          "output_type": "stream",
          "name": "stdout",
          "text": [
            "[1.5139859888902382e-12, 3.640739382861271e-05, 2.591611817328552e-06, 4.413862662326075e-08, 4.766207503574767e-10]\n"
          ]
        },
        {
          "output_type": "display_data",
          "data": {
            "image/png": "[encoded data removed]",
            "text/plain": [
              "<Figure size 432x288 with 1 Axes>"
            ]
          },
          "metadata": {
            "needs_background": "light"
          }
        }
      ]
    },
    {
      "cell_type": "markdown",
      "metadata": {
        "id": "uWRU930tbRa6"
      },
      "source": [
        "3.b"
      ],
      "id": "uWRU930tbRa6"
    },
    {
      "cell_type": "markdown",
      "metadata": {
        "id": "hhJAMr-IZ5y7"
      },
      "source": [
        "\n",
        "lambda = 0.1 is the best fit"
      ],
      "id": "hhJAMr-IZ5y7"
    },
    {
      "cell_type": "markdown",
      "metadata": {
        "id": "yzP4Y4cgbOTx"
      },
      "source": [
        "3.c"
      ],
      "id": "yzP4Y4cgbOTx"
    },
    {
      "cell_type": "code",
      "metadata": {
        "colab": {
          "base_uri": "https://localhost:8080/"
        },
        "id": "2d255f0e",
        "outputId": "ed2523cb-c2f7-4156-d80b-c0ee4aa268ac"
      },
      "source": [
        "test_data_x = test_data_x.to_numpy(dtype = 'float64')\n",
        "\n",
        "y_hat = test_data_x.dot(reg.coef_) + reg.intercept_\n",
        "error_rmse = np.sum((y_hat - test_data_y)**2) / 1994\n",
        "print(f\"test RMSE is :{error_rmse} \")"
      ],
      "id": "2d255f0e",
      "execution_count": 115,
      "outputs": [
        {
          "output_type": "stream",
          "name": "stdout",
          "text": [
            "test RMSE is :0.022755918237488515 \n"
          ]
        }
      ]
    },
    {
      "cell_type": "markdown",
      "metadata": {
        "id": "bBsZaAeybW1f"
      },
      "source": [
        "3.d\n"
      ],
      "id": "bBsZaAeybW1f"
    },
    {
      "cell_type": "markdown",
      "metadata": {
        "id": "UIpbNorwbdlg"
      },
      "source": [
        "yes we can use the information for feature selecting. we can omit(delete) the features where w=0.\n",
        "\n",
        "\n",
        "\n",
        "\n"
      ],
      "id": "UIpbNorwbdlg"
    },
    {
      "cell_type": "markdown",
      "metadata": {
        "id": "7pIg_telcYTa"
      },
      "source": [
        "3.e"
      ],
      "id": "7pIg_telcYTa"
    },
    {
      "cell_type": "code",
      "metadata": {
        "colab": {
          "base_uri": "https://localhost:8080/"
        },
        "id": "v7XQ2mvQcbHJ",
        "outputId": "7059f00c-1fe1-4531-ceda-9033aaaedb8d"
      },
      "source": [
        "print(reg.coef_)"
      ],
      "id": "v7XQ2mvQcbHJ",
      "execution_count": 116,
      "outputs": [
        {
          "output_type": "stream",
          "name": "stdout",
          "text": [
            "[ 5.65865967e-04 -2.82236753e-04 -6.98564691e-07  2.61420397e-02\n",
            "  7.05586721e-02  1.03353318e-02  3.41345646e-01 -2.53442805e-01\n",
            "  6.29959156e-02  1.25647709e-01  2.54962851e-01  1.80872925e-01\n",
            "  7.50500570e-02 -1.85418966e-01  3.38351145e-02  3.63273049e-02\n",
            "  4.21032481e-02  6.90213501e-03  9.16223299e-02 -3.99559656e-02\n",
            "  4.02172356e-01 -1.16249431e-01 -2.06618629e-01  2.50030026e-02\n",
            "  2.33358211e-02  7.72969120e-02 -1.26431757e-01  5.56742378e-02\n",
            "  1.33892714e-02  4.50354255e-02  9.08033054e-02  1.16338869e-01\n",
            " -3.45404684e-02 -6.43565860e-03  3.87357918e-02 -6.93751850e-02\n",
            "  6.11844671e-02 -2.78609007e-01  2.18493896e-02  2.32389364e-01\n",
            "  1.12448219e-01  5.84045004e-01  9.55573575e-02 -4.88761618e-01\n",
            " -3.14016175e-02  2.57903056e-02  9.35259096e-02 -2.18632663e-01\n",
            " -1.60892065e-01 -3.23276434e-02  2.82965648e-01  1.74794321e-01\n",
            " -1.32623889e-01  1.11693320e-01  4.18695050e-01  1.05047910e-02\n",
            "  1.44188769e-02  5.61661133e-02 -2.23463469e-01 -2.06509971e-01\n",
            " -9.89959325e-03  2.62407426e-02 -6.92048720e-02  3.69316464e-02\n",
            " -1.92374273e-01  3.71754530e-02 -2.85232653e-01 -2.25211889e-01\n",
            " -4.82725714e-02 -5.60886949e-02  1.84487431e-01  5.31771233e-02\n",
            "  3.01929352e-02  1.38008809e-03 -1.94369824e-01  1.34835633e-01\n",
            "  4.77443112e-02  5.53680607e-02  2.05534977e-02 -9.68574094e-02\n",
            " -2.41955772e-01 -1.66507710e-01  8.05435979e-02 -2.55349562e-01\n",
            " -1.23043286e-01  1.66877340e-01  1.89956565e-01  2.23676884e-01\n",
            " -1.03269471e-01 -9.35228197e-02 -8.11473760e-02  2.42905163e-01\n",
            "  1.84042693e-02  1.69810211e-02 -8.38490284e-02  6.92382873e-02\n",
            "  1.53280847e-01 -2.60667278e-01  2.14490692e-01 -1.70788000e-01\n",
            " -1.23655532e-02  1.79428940e-03 -6.82360587e-02  2.06187162e-03\n",
            " -6.57058025e-03  2.39539779e-02  2.35932409e-02  1.79428940e-03\n",
            " -3.92044374e-02 -5.03204106e-02  5.90991993e-02 -3.06119339e-02\n",
            " -4.79184218e-02  1.31430281e-02 -2.23638946e-02 -5.61375074e-02\n",
            " -1.23367350e-01 -4.07860322e-02 -1.38968806e-01 -7.55864917e-02\n",
            " -6.53453154e-02 -4.12127657e-02 -4.12680869e-02  1.53890176e-01\n",
            "  7.63216162e-04 -4.25833873e-02]\n"
          ]
        }
      ]
    },
    {
      "cell_type": "markdown",
      "metadata": {
        "id": "MsXjOcNEdCKS"
      },
      "source": [
        "3.f"
      ],
      "id": "MsXjOcNEdCKS"
    },
    {
      "cell_type": "markdown",
      "metadata": {
        "id": "l6a_ek0adFn7"
      },
      "source": [
        "by reducing the feature we will reduce the computational complexity of the model and just consider the feature that is most important for our prediction. so it will decrease the RMSE error as well."
      ],
      "id": "l6a_ek0adFn7"
    }
  ]
}