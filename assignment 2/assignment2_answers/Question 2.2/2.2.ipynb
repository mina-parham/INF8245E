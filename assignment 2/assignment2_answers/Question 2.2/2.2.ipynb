{
 "cells": [
  {
   "cell_type": "code",
   "execution_count": 1,
   "id": "2d2b7503",
   "metadata": {
    "colab": {
     "base_uri": "https://localhost:8080/"
    },
    "id": "e0cdd10b",
    "outputId": "fa416cf7-bdf2-41d3-937a-e5289ce11bea"
   },
   "outputs": [
    {
     "name": "stdout",
     "output_type": "stream",
     "text": [
      "Downloading data from https://storage.googleapis.com/tensorflow/tf-keras-datasets/mnist.npz\n",
      "11493376/11490434 [==============================] - 0s 0us/step\n",
      "11501568/11490434 [==============================] - 0s 0us/step\n"
     ]
    }
   ],
   "source": [
    "import numpy as np\n",
    "#Import Keras\n",
    "from tensorflow import keras\n",
    "# Loading the MNIST dataset\n",
    "(x_train, y_train), (x_test, y_test) = keras.datasets.mnist.load_data()\n",
    "\n"
   ]
  },
  {
   "cell_type": "code",
   "execution_count": 2,
   "id": "a2553d4a",
   "metadata": {
    "id": "8da082f6"
   },
   "outputs": [],
   "source": [
    "x_train, y_train, x_valid, y_valid = x_train[:50000], y_train[:50000], x_train[50000:], y_train[50000:]"
   ]
  },
  {
   "cell_type": "code",
   "execution_count": 3,
   "id": "16faabc4",
   "metadata": {
    "id": "af2f8fe4"
   },
   "outputs": [],
   "source": [
    "def flatten(arr):\n",
    "    arr_flat = np.zeros((arr.shape[0], 784))\n",
    "    for i in range(len(arr)):\n",
    "        arr_flat[i] = arr[i].flatten()/255\n",
    "    return arr_flat"
   ]
  },
  {
   "cell_type": "code",
   "execution_count": 4,
   "id": "6c0a8300",
   "metadata": {
    "id": "b5d2e084"
   },
   "outputs": [],
   "source": [
    "x_train_flat = flatten(x_train)\n",
    "x_test_flat = flatten(x_test)\n",
    "x_valid_flat = flatten(x_valid)"
   ]
  },
  {
   "cell_type": "code",
   "execution_count": 5,
   "id": "a8ed2abd",
   "metadata": {
    "id": "d8de1ce6"
   },
   "outputs": [],
   "source": [
    "from statistics import mode\n",
    "from scipy import stats\n",
    "\n",
    "\n",
    "\n",
    "def knn(k, x_valid_flat, x_train_flat):\n",
    "    \n",
    "    y_hat = np.zeros(len(x_valid_flat))\n",
    "\n",
    "    for i in range(len(x_valid_flat)):\n",
    "        #print(i)\n",
    "        x_distance = (x_train_flat - x_valid_flat[i]) **2\n",
    "        #print(x_valid_flat[0])\n",
    "        x_distance_sqrt = np.sqrt(np.sum(x_distance, axis=1 ))\n",
    "        nearest = np.argsort(x_distance_sqrt)[0:k]\n",
    "        k_nearest_y = (y_train[nearest])\n",
    "        y_hat[i] = stats.mode(k_nearest_y).mode[0]\n",
    "    return y_hat\n",
    "\n",
    "\n",
    "def accuracy_df(y, y_hat):\n",
    "    error = 0\n",
    "    for i in range(len(y)):\n",
    "        if y[i] != y_hat[i]:\n",
    "            error +=1\n",
    "    return (1 - error/len(y)) * 100\n",
    "\n",
    "\n",
    "\n"
   ]
  },
  {
   "cell_type": "code",
   "execution_count": null,
   "id": "a72bb564",
   "metadata": {
    "id": "b8fd2423",
    "outputId": "6691e7e6-a0e7-4f90-f277-a263b4fdd7b3"
   },
   "outputs": [
    {
     "name": "stdout",
     "output_type": "stream",
     "text": [
      "k value = 1 ======> accuracy = 97.11999999999999\n",
      "k value = 3 ======> accuracy = 97.2\n",
      "k value = 5 ======> accuracy = 97.18\n",
      "k value = 7 ======> accuracy = 97.08\n",
      "k value = 9 ======> accuracy = 97.05\n",
      "k value = 11 ======> accuracy = 96.92\n",
      "k value = 13 ======> accuracy = 96.78\n",
      "k value = 15 ======> accuracy = 96.64\n",
      "the best k is : 3 and the best accuracy is : 97.2\n"
     ]
    }
   ],
   "source": [
    "best_accuracy = -100\n",
    "k=0\n",
    "for i in range(1,  16 , 2):\n",
    "    y_hat = knn(i, x_valid_flat, x_train_flat)\n",
    "    accuracy = accuracy_df(y_valid, y_hat)\n",
    "    print(f'k value = {i} ======> accuracy = {accuracy}')\n",
    "    \n",
    "    if (accuracy > best_accuracy):\n",
    "        best_accuracy = accuracy\n",
    "        k = i\n",
    "\n",
    "print(f'the best k is : {k} and the best accuracy is : {best_accuracy}')"
   ]
  },
  {
   "cell_type": "code",
   "execution_count": 6,
   "id": "8c7145ad",
   "metadata": {
    "id": "57d9f421"
   },
   "outputs": [],
   "source": [
    "y_hat = knn(3, x_test_flat, x_train_flat)\n",
    "accuracy = accuracy_df(y_test, y_hat)"
   ]
  },
  {
   "cell_type": "code",
   "execution_count": 9,
   "id": "0aae81ad",
   "metadata": {
    "colab": {
     "base_uri": "https://localhost:8080/"
    },
    "id": "aea8c379",
    "outputId": "0d678ada-ab26-4e88-9b98-0d7bc434ed1c"
   },
   "outputs": [
    {
     "name": "stdout",
     "output_type": "stream",
     "text": [
      "the best k is : 3 and the best accuracy for test data is : 96.81\n"
     ]
    }
   ],
   "source": [
    "print(f'the best k is : 3 and the best accuracy for test data is : {accuracy}')"
   ]
  },
  {
   "cell_type": "code",
   "execution_count": null,
   "id": "b6eb490e",
   "metadata": {
    "id": "szfEL-MsAPul"
   },
   "outputs": [],
   "source": [
    "np.savetxt(\"Assignment2_2122841_2.2.b_accuracy.txt\", [accuracy], newline='\\n', delimiter=',')"
   ]
  }
 ],
 "metadata": {
  "colab": {
   "collapsed_sections": [],
   "name": "2.2.ipynb",
   "provenance": []
  },
  "kernelspec": {
   "display_name": "Python 3",
   "language": "python",
   "name": "python3"
  },
  "language_info": {
   "codemirror_mode": {
    "name": "ipython",
    "version": 3
   },
   "file_extension": ".py",
   "mimetype": "text/x-python",
   "name": "python",
   "nbconvert_exporter": "python",
   "pygments_lexer": "ipython3",
   "version": "3.7.4"
  }
 },
 "nbformat": 4,
 "nbformat_minor": 5
}
