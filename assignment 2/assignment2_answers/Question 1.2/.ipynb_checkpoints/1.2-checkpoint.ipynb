{
 "cells": [
  {
   "cell_type": "code",
   "execution_count": 1,
   "id": "4d38bcb4",
   "metadata": {},
   "outputs": [],
   "source": [
    "import matplotlib.pyplot as plt\n",
    "import numpy as np\n",
    "import pandas as pd"
   ]
  },
  {
   "cell_type": "markdown",
   "id": "38129cfc",
   "metadata": {},
   "source": [
    "import the data that we generated from 1.1"
   ]
  },
  {
   "cell_type": "code",
   "execution_count": 47,
   "id": "b4c4303f",
   "metadata": {},
   "outputs": [],
   "source": [
    "data_train = pd.read_csv('DS1_train.csv', header=None)\n",
    "data_test = pd.read_csv('DS1_test.csv', header=None)\n",
    "data_valid = pd.read_csv('DS1_valid.csv', header=None)"
   ]
  },
  {
   "cell_type": "markdown",
   "id": "0fb8835a",
   "metadata": {},
   "source": [
    "convert data from pandas to numpy:"
   ]
  },
  {
   "cell_type": "code",
   "execution_count": 48,
   "id": "4ce40a1e",
   "metadata": {},
   "outputs": [],
   "source": [
    "data_train = data_train.to_numpy()\n",
    "data_test = data_test.to_numpy()\n",
    "data_valid = data_valid.to_numpy()"
   ]
  },
  {
   "cell_type": "markdown",
   "id": "4ae7ad71",
   "metadata": {},
   "source": [
    "GDA function:"
   ]
  },
  {
   "cell_type": "code",
   "execution_count": 51,
   "id": "f57fd287",
   "metadata": {},
   "outputs": [],
   "source": [
    "#calculate the mean for each classes\n",
    "def mean_calculator(data):\n",
    "    \n",
    "    m_p = np.where(data[:,20] == 1) \n",
    "    m_n = np.where(data[:,20] == 0)\n",
    "    mean_positive = np.mean(data[m_p], axis = 0)[:20]\n",
    "    mean_negative = np.mean(data[m_n], axis = 0)[:20]\n",
    "    return mean_positive, mean_negative\n",
    "    \n",
    "#calculate sigma for each classes\n",
    "def sigma_df(data, mean_p, mean_n):\n",
    "    r = np.zeros((len(data), 20))\n",
    "    for i in range(len(data)):\n",
    "        if data[i, 20] == 1:\n",
    "            r[i] = data[i,:20] - mean_p\n",
    "        elif data[i,20] == 0:\n",
    "            r[i] = data[i,:20] - mean_n\n",
    "    return (1/len(data)) * (np.dot(np.transpose(r), r))\n",
    "\n",
    "def coefficient(sigma, mean_positive, mean_negative, pi):\n",
    "    \n",
    "    sigma_inv = np.linalg.inv(sigma)\n",
    "    w = np.dot(sigma_inv, (mean_positive - mean_negative))\n",
    "    w0 = (-1/2) * np.dot(np.dot(np.transpose(mean_positive), sigma_inv), mean_positive) + (1/2) * np.dot(np.dot(np.transpose(mean_negative), sigma_inv), mean_negative) + np.log(pi/ (1-pi))\n",
    "    return w, w0\n",
    "\n",
    "# def sigmoid(a):\n",
    "#     return 1 / (1 + np.exp(-a))\n",
    "\n",
    "def predict(x, w, w0):\n",
    "    \n",
    "    dot_product = np.dot(x,w) + w0\n",
    "    sigmoid = 1/ (1+ np.exp( - dot_product))\n",
    "    y_hat =[1 if i> 0.5 else 0 for i in sigmoid]\n",
    "    return y_hat\n",
    "\n",
    "def accuracy_df(data, y_hat):\n",
    "    beta = np.sum(abs(data[:,20] - y_hat))/ len(data) * 100\n",
    "    return 100 - beta\n"
   ]
  },
  {
   "cell_type": "code",
   "execution_count": 53,
   "id": "5e408056",
   "metadata": {},
   "outputs": [
    {
     "data": {
      "text/plain": [
       "95.5"
      ]
     },
     "execution_count": 53,
     "metadata": {},
     "output_type": "execute_result"
    }
   ],
   "source": [
    "mean_positive, mean_negative = mean_calculator(data_train)\n",
    "sigma = sigma_df(data_train, mean_positive, mean_negative)\n",
    "pi = len(np.where(data_train[:,20] == 1)[0]) / len(data_train)\n",
    "w, w0 = coefficient(sigma, mean_positive, mean_negative, pi)\n",
    "y_hat = predict(data_test[:,0:20], w, w0)\n",
    "accuracy = accuracy_df(data_test, y_hat)"
   ]
  },
  {
   "cell_type": "markdown",
   "id": "6f4913be",
   "metadata": {},
   "source": [
    "### 2.a"
   ]
  },
  {
   "cell_type": "code",
   "execution_count": 57,
   "id": "96e2c7f6",
   "metadata": {},
   "outputs": [
    {
     "name": "stdout",
     "output_type": "stream",
     "text": [
      "the best accuracy which is obtained from test data : 95.5 %\n"
     ]
    }
   ],
   "source": [
    "print(f'the best accuracy which is obtained from test data : {accuracy} %')"
   ]
  },
  {
   "cell_type": "markdown",
   "id": "dcaabd43",
   "metadata": {},
   "source": [
    "### 2.b"
   ]
  },
  {
   "cell_type": "code",
   "execution_count": 63,
   "id": "ce3b1d39",
   "metadata": {},
   "outputs": [
    {
     "name": "stdout",
     "output_type": "stream",
     "text": [
      "the coefficients: \n",
      " \n",
      " W: \n",
      " \n",
      " [-14.52871582   8.6679611    5.47148688   2.64368349   9.49078082\n",
      "   4.31224404 -16.07282748  24.25975005  28.88107278  -9.53380856\n",
      "  13.28764016  11.78327262 -15.16782655 -12.33807653   5.53784804\n",
      " -13.17590736 -28.97928019   6.88347419  -0.18497918   5.25040029] \n",
      "  \n",
      " W0 : -27.174500816893772 \n"
     ]
    }
   ],
   "source": [
    "print(f'the coefficients: \\n \\n W: \\n \\n {w} \\n  \\n W0 : {w0} ')"
   ]
  },
  {
   "cell_type": "markdown",
   "id": "948b0ec2",
   "metadata": {},
   "source": [
    "save the parameter in text file"
   ]
  },
  {
   "cell_type": "code",
   "execution_count": 73,
   "id": "771e5530",
   "metadata": {},
   "outputs": [],
   "source": [
    "np.savetxt('Assignment2_2122841_2a_Accuracy.txt', [accuracy], newline='\\n', delimiter=',')\n",
    "np.savetxt('Assignment2_2122841_2b_coefficients.txt', w , newline='\\n', delimiter=',')\n",
    "np.savetxt('Assignment2_2122841_2b_coefficients0.txt', [w0], newline='\\n', delimiter=',')"
   ]
  }
 ],
 "metadata": {
  "kernelspec": {
   "display_name": "Python 3",
   "language": "python",
   "name": "python3"
  },
  "language_info": {
   "codemirror_mode": {
    "name": "ipython",
    "version": 3
   },
   "file_extension": ".py",
   "mimetype": "text/x-python",
   "name": "python",
   "nbconvert_exporter": "python",
   "pygments_lexer": "ipython3",
   "version": "3.7.4"
  }
 },
 "nbformat": 4,
 "nbformat_minor": 5
}
