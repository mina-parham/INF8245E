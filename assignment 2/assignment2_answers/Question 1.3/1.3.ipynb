{
 "cells": [
  {
   "cell_type": "code",
   "execution_count": 1,
   "id": "2a43f633",
   "metadata": {},
   "outputs": [],
   "source": [
    "import matplotlib.pyplot as plt\n",
    "import numpy as np\n",
    "import pandas as pd\n",
    "from statistics import mode"
   ]
  },
  {
   "cell_type": "markdown",
   "id": "f31fff4f",
   "metadata": {},
   "source": [
    "import the data that we generated from 1.1"
   ]
  },
  {
   "cell_type": "code",
   "execution_count": 2,
   "id": "2621dcc3",
   "metadata": {},
   "outputs": [],
   "source": [
    "data_train = pd.read_csv('DS1_train.csv', header=None)\n",
    "data_test = pd.read_csv('DS1_test.csv', header=None)\n",
    "data_valid = pd.read_csv('DS1_valid.csv', header=None)"
   ]
  },
  {
   "cell_type": "markdown",
   "id": "c70302bf",
   "metadata": {},
   "source": [
    "convert data from pandas to numpy:"
   ]
  },
  {
   "cell_type": "code",
   "execution_count": 3,
   "id": "0d204b09",
   "metadata": {},
   "outputs": [],
   "source": [
    "data_train = data_train.to_numpy()\n",
    "data_test = data_test.to_numpy()\n",
    "data_valid = data_valid.to_numpy()"
   ]
  },
  {
   "cell_type": "markdown",
   "id": "903f5b7b",
   "metadata": {},
   "source": [
    "Knn function"
   ]
  },
  {
   "cell_type": "code",
   "execution_count": 5,
   "id": "ae71b842",
   "metadata": {},
   "outputs": [],
   "source": [
    "def euclidean_distance(row1, row2):\n",
    "    distance = 0.0\n",
    "    for i in range(len(row1)):\n",
    "        distance += (row1[i] - row2[i])**2\n",
    "    return np.sqrt(distance)\n",
    "\n",
    "def calculate_distance(data_1, data_train):\n",
    "    distance = np.zeros((len(data_1), len(data_train)))\n",
    "    for i in range(len(data_1)):\n",
    "        for j in range(len(data_train)):\n",
    "            euclidean = euclidean_distance(data_1[i,0:20], data_train[j,0:20])\n",
    "            distance[i, j] =euclidean\n",
    "    return distance\n",
    "\n",
    "def knn(distance, k, data_train):\n",
    "    \n",
    "    k_nearest_y = []\n",
    "    final = np.zeros(len(distance))\n",
    "    final_distance = np.argsort(distance)   \n",
    "    distance_k = final_distance[:,0:k]\n",
    "    for i in range(len(distance)):\n",
    "        knn_index = distance_k[i]\n",
    "        k_nearest_y = (data_train[knn_index,20])\n",
    "        final[i] = mode(k_nearest_y)\n",
    "    return final\n",
    "    \n",
    "def accuracy_df(data, y_hat):\n",
    "    beta = np.sum(abs(data[:,20] - y_hat))/ len(data) * 100\n",
    "    return 100 - beta\n",
    "    "
   ]
  },
  {
   "cell_type": "code",
   "execution_count": 6,
   "id": "6013dd86",
   "metadata": {},
   "outputs": [],
   "source": [
    "distance = calculate_distance(data_valid, data_train)"
   ]
  },
  {
   "cell_type": "markdown",
   "metadata": {},
   "source": [
    "### 3.(a)"
   ]
  },
  {
   "cell_type": "code",
   "execution_count": 7,
   "id": "1ae9739a",
   "metadata": {},
   "outputs": [
    {
     "name": "stdout",
     "output_type": "stream",
     "text": [
      "k value = 1 ======> accuracy = 50.5\n",
      "k value = 3 ======> accuracy = 52.375\n",
      "k value = 5 ======> accuracy = 52.125\n",
      "k value = 7 ======> accuracy = 52.625\n",
      "k value = 9 ======> accuracy = 53.5\n",
      "k value = 11 ======> accuracy = 54.0\n",
      "k value = 13 ======> accuracy = 53.5\n",
      "k value = 15 ======> accuracy = 51.375\n",
      "k value = 17 ======> accuracy = 53.25\n",
      "k value = 19 ======> accuracy = 54.875\n",
      "k value = 21 ======> accuracy = 55.375\n",
      "k value = 23 ======> accuracy = 56.5\n",
      "k value = 25 ======> accuracy = 57.5\n",
      "k value = 27 ======> accuracy = 57.125\n",
      "k value = 29 ======> accuracy = 56.875\n",
      "k value = 31 ======> accuracy = 57.0\n",
      "k value = 33 ======> accuracy = 56.75\n",
      "k value = 35 ======> accuracy = 56.75\n",
      "k value = 37 ======> accuracy = 57.75\n",
      "k value = 39 ======> accuracy = 55.875\n",
      "k value = 41 ======> accuracy = 56.75\n",
      "k value = 43 ======> accuracy = 56.875\n",
      "k value = 45 ======> accuracy = 56.0\n",
      "k value = 47 ======> accuracy = 56.625\n",
      "k value = 49 ======> accuracy = 57.125\n",
      "k value = 51 ======> accuracy = 56.75\n",
      "k value = 53 ======> accuracy = 56.0\n",
      "k value = 55 ======> accuracy = 55.125\n",
      "k value = 57 ======> accuracy = 55.375\n",
      "k value = 59 ======> accuracy = 55.25\n",
      "k value = 61 ======> accuracy = 55.625\n",
      "k value = 63 ======> accuracy = 56.125\n",
      "k value = 65 ======> accuracy = 55.875\n",
      "k value = 67 ======> accuracy = 55.125\n",
      "k value = 69 ======> accuracy = 55.25\n",
      "k value = 71 ======> accuracy = 55.5\n",
      "k value = 73 ======> accuracy = 55.5\n",
      "k value = 75 ======> accuracy = 55.125\n",
      "k value = 77 ======> accuracy = 55.375\n",
      "k value = 79 ======> accuracy = 55.5\n",
      "k value = 81 ======> accuracy = 55.625\n",
      "k value = 83 ======> accuracy = 55.75\n",
      "k value = 85 ======> accuracy = 55.375\n",
      "k value = 87 ======> accuracy = 56.375\n",
      "k value = 89 ======> accuracy = 55.25\n",
      "k value = 91 ======> accuracy = 55.5\n",
      "k value = 93 ======> accuracy = 55.75\n",
      "k value = 95 ======> accuracy = 55.625\n",
      "k value = 97 ======> accuracy = 55.875\n",
      "k value = 99 ======> accuracy = 55.375\n",
      "k value = 101 ======> accuracy = 55.375\n",
      "k value = 103 ======> accuracy = 55.625\n",
      "k value = 105 ======> accuracy = 54.375\n",
      "k value = 107 ======> accuracy = 54.375\n",
      "k value = 109 ======> accuracy = 55.0\n",
      "k value = 111 ======> accuracy = 54.625\n",
      "k value = 113 ======> accuracy = 54.375\n",
      "k value = 115 ======> accuracy = 54.625\n",
      "k value = 117 ======> accuracy = 54.375\n",
      "k value = 119 ======> accuracy = 54.875\n",
      "k value = 121 ======> accuracy = 55.375\n",
      "k value = 123 ======> accuracy = 54.5\n",
      "k value = 125 ======> accuracy = 54.875\n",
      "k value = 127 ======> accuracy = 54.5\n",
      "k value = 129 ======> accuracy = 54.625\n",
      "k value = 131 ======> accuracy = 55.125\n",
      "k value = 133 ======> accuracy = 54.75\n",
      "k value = 135 ======> accuracy = 54.625\n",
      "k value = 137 ======> accuracy = 54.625\n",
      "k value = 139 ======> accuracy = 54.625\n",
      "k value = 141 ======> accuracy = 54.5\n",
      "k value = 143 ======> accuracy = 54.75\n",
      "k value = 145 ======> accuracy = 54.875\n",
      "k value = 147 ======> accuracy = 55.0\n",
      "k value = 149 ======> accuracy = 55.125\n",
      "k value = 151 ======> accuracy = 55.0\n",
      "k value = 153 ======> accuracy = 55.0\n",
      "k value = 155 ======> accuracy = 54.625\n",
      "k value = 157 ======> accuracy = 54.625\n",
      "k value = 159 ======> accuracy = 55.0\n",
      "the best k is : 37 and the best accuracy is : 57.75\n"
     ]
    }
   ],
   "source": [
    "best_accuracy = -100\n",
    "k=0\n",
    "for i in range(1,  160 , 2):\n",
    "    y_hat = knn(distance, i, data_train)\n",
    "    accuracy = accuracy_df(data_valid, y_hat)\n",
    "    print(f'k value = {i} ======> accuracy = {accuracy}')\n",
    "    \n",
    "    if (accuracy > best_accuracy):\n",
    "        best_accuracy = accuracy\n",
    "        k = i\n",
    "\n",
    "print(f'the best k is : {k} and the best accuracy is : {best_accuracy}')"
   ]
  },
  {
   "cell_type": "markdown",
   "id": "49f166e7",
   "metadata": {},
   "source": [
    "This classifier performs worse than the GDA.\n",
    "\n",
    "for k = 37 it performe better than the other K"
   ]
  },
  {
   "cell_type": "markdown",
   "metadata": {},
   "source": [
    "### 3.(b)"
   ]
  },
  {
   "cell_type": "code",
   "execution_count": 13,
   "metadata": {},
   "outputs": [
    {
     "name": "stdout",
     "output_type": "stream",
     "text": [
      "for the best k which is : 37 the accuracy is : 54.5\n"
     ]
    }
   ],
   "source": [
    "distance_test = calculate_distance(data_test, data_train)\n",
    "y_hat = knn(distance_test, 37, data_train)\n",
    "accuracy = accuracy_df(data_test, y_hat)\n",
    "\n",
    "print(f'for the best k which is : 37 the accuracy is : {accuracy}')\n"
   ]
  },
  {
   "cell_type": "code",
   "execution_count": 12,
   "id": "7f1847ea",
   "metadata": {},
   "outputs": [
    {
     "name": "stdout",
     "output_type": "stream",
     "text": [
      "k value = 1 ======> accuracy = 49.125\n",
      "k value = 3 ======> accuracy = 49.625\n",
      "k value = 5 ======> accuracy = 51.125\n",
      "k value = 7 ======> accuracy = 53.25\n",
      "k value = 9 ======> accuracy = 54.0\n",
      "k value = 11 ======> accuracy = 52.625\n",
      "k value = 13 ======> accuracy = 53.25\n",
      "k value = 15 ======> accuracy = 54.125\n",
      "k value = 17 ======> accuracy = 55.25\n",
      "k value = 19 ======> accuracy = 54.125\n",
      "k value = 21 ======> accuracy = 56.375\n",
      "k value = 23 ======> accuracy = 54.25\n",
      "k value = 25 ======> accuracy = 54.125\n",
      "k value = 27 ======> accuracy = 54.25\n",
      "k value = 29 ======> accuracy = 53.5\n",
      "k value = 31 ======> accuracy = 53.875\n",
      "k value = 33 ======> accuracy = 54.25\n",
      "k value = 35 ======> accuracy = 54.875\n",
      "k value = 37 ======> accuracy = 54.5\n",
      "k value = 39 ======> accuracy = 55.5\n",
      "k value = 41 ======> accuracy = 56.5\n",
      "k value = 43 ======> accuracy = 56.875\n",
      "k value = 45 ======> accuracy = 56.375\n",
      "k value = 47 ======> accuracy = 57.25\n",
      "k value = 49 ======> accuracy = 57.125\n",
      "k value = 51 ======> accuracy = 56.5\n",
      "k value = 53 ======> accuracy = 56.625\n",
      "k value = 55 ======> accuracy = 56.25\n",
      "k value = 57 ======> accuracy = 56.875\n",
      "k value = 59 ======> accuracy = 57.125\n",
      "k value = 61 ======> accuracy = 57.125\n",
      "k value = 63 ======> accuracy = 56.875\n",
      "k value = 65 ======> accuracy = 56.25\n",
      "k value = 67 ======> accuracy = 56.25\n",
      "k value = 69 ======> accuracy = 57.125\n",
      "k value = 71 ======> accuracy = 57.0\n",
      "k value = 73 ======> accuracy = 56.25\n",
      "k value = 75 ======> accuracy = 56.0\n",
      "k value = 77 ======> accuracy = 56.25\n",
      "k value = 79 ======> accuracy = 56.25\n",
      "k value = 81 ======> accuracy = 56.375\n",
      "k value = 83 ======> accuracy = 56.5\n",
      "k value = 85 ======> accuracy = 56.5\n",
      "k value = 87 ======> accuracy = 56.875\n",
      "k value = 89 ======> accuracy = 57.375\n",
      "k value = 91 ======> accuracy = 58.125\n",
      "k value = 93 ======> accuracy = 58.5\n",
      "k value = 95 ======> accuracy = 57.75\n",
      "k value = 97 ======> accuracy = 58.0\n",
      "k value = 99 ======> accuracy = 57.75\n",
      "k value = 101 ======> accuracy = 57.25\n",
      "k value = 103 ======> accuracy = 57.125\n",
      "k value = 105 ======> accuracy = 57.625\n",
      "k value = 107 ======> accuracy = 57.5\n",
      "k value = 109 ======> accuracy = 57.625\n",
      "k value = 111 ======> accuracy = 57.25\n",
      "k value = 113 ======> accuracy = 57.5\n",
      "k value = 115 ======> accuracy = 57.125\n",
      "k value = 117 ======> accuracy = 57.625\n",
      "k value = 119 ======> accuracy = 58.25\n",
      "k value = 121 ======> accuracy = 58.375\n",
      "k value = 123 ======> accuracy = 57.875\n",
      "k value = 125 ======> accuracy = 57.625\n",
      "k value = 127 ======> accuracy = 57.25\n",
      "k value = 129 ======> accuracy = 56.875\n",
      "k value = 131 ======> accuracy = 56.75\n",
      "k value = 133 ======> accuracy = 56.875\n",
      "k value = 135 ======> accuracy = 56.25\n",
      "k value = 137 ======> accuracy = 56.625\n",
      "k value = 139 ======> accuracy = 56.75\n",
      "k value = 141 ======> accuracy = 56.75\n",
      "k value = 143 ======> accuracy = 56.875\n",
      "k value = 145 ======> accuracy = 56.0\n",
      "k value = 147 ======> accuracy = 56.375\n",
      "k value = 149 ======> accuracy = 56.375\n",
      "k value = 151 ======> accuracy = 56.25\n",
      "k value = 153 ======> accuracy = 56.125\n",
      "k value = 155 ======> accuracy = 56.5\n",
      "k value = 157 ======> accuracy = 56.125\n",
      "k value = 159 ======> accuracy = 55.625\n",
      "the best k is : 93 and the best accuracy is : 58.5\n"
     ]
    }
   ],
   "source": [
    "distance_test = calculate_distance(data_test, data_train)\n",
    "best_accuracy = -100\n",
    "k=0\n",
    "for i in range(1,  160 , 2):\n",
    "    y_hat = knn(distance_test, i, data_train)\n",
    "    accuracy = accuracy_df(data_test, y_hat)\n",
    "    print(f'k value = {i} ======> accuracy = {accuracy}')\n",
    "    \n",
    "    if (accuracy > best_accuracy):\n",
    "        best_accuracy = accuracy\n",
    "        k = i\n",
    "\n",
    "print(f'the best k is : {k} and the best accuracy is : {best_accuracy}')"
   ]
  },
  {
   "cell_type": "code",
   "execution_count": 11,
   "id": "f14d3b01",
   "metadata": {},
   "outputs": [],
   "source": [
    "np.savetxt(\"Assignment2_2122841_3b_Bestaccuracy.txt\", [accuracy], newline='\\n', delimiter=',')"
   ]
  }
 ],
 "metadata": {
  "interpreter": {
   "hash": "aee8b7b246df8f9039afb4144a1f6fd8d2ca17a180786b69acc140d282b71a49"
  },
  "kernelspec": {
   "display_name": "Python 3.9.6 64-bit",
   "name": "python3"
  },
  "language_info": {
   "codemirror_mode": {
    "name": "ipython",
    "version": 3
   },
   "file_extension": ".py",
   "mimetype": "text/x-python",
   "name": "python",
   "nbconvert_exporter": "python",
   "pygments_lexer": "ipython3",
   "version": "3.9.6"
  }
 },
 "nbformat": 4,
 "nbformat_minor": 5
}
