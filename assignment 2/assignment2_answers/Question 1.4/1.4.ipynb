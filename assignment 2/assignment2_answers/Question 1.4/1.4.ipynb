{
 "cells": [
  {
   "cell_type": "code",
   "execution_count": 1,
   "id": "597bd1fc",
   "metadata": {},
   "outputs": [],
   "source": [
    "import matplotlib.pyplot as plt\n",
    "import numpy as np\n",
    "import pandas as pd"
   ]
  },
  {
   "cell_type": "markdown",
   "id": "11a4d853",
   "metadata": {},
   "source": [
    "read the data from dataset"
   ]
  },
  {
   "cell_type": "code",
   "execution_count": 19,
   "id": "c887b93d",
   "metadata": {},
   "outputs": [],
   "source": [
    "covariance_class1 = pd.read_csv('hwk2_datasets/DS2_Cov1.txt', header=None).drop([20], axis=1)\n",
    "covariance_class2 = pd.read_csv('hwk2_datasets/DS2_Cov2.txt', header=None).drop([20], axis=1)\n",
    "covariance_class3 = pd.read_csv('hwk2_datasets/DS2_Cov3.txt', header=None).drop([20], axis=1)\n",
    "\n",
    "mean1_class1 = pd.read_csv('hwk2_datasets/DS2_c1_m1.txt', header=None).drop([20], axis=1)\n",
    "mean2_class1 = pd.read_csv('hwk2_datasets/DS2_c1_m2.txt', header=None).drop([20], axis=1)\n",
    "mean3_class1 = pd.read_csv('hwk2_datasets/DS2_c1_m3.txt', header=None).drop([20], axis=1)\n",
    "\n",
    "mean1_class2 = pd.read_csv('hwk2_datasets/DS2_c2_m1.txt', header=None).drop([20], axis=1)\n",
    "mean2_class2 = pd.read_csv('hwk2_datasets/DS2_c2_m2.txt', header=None).drop([20], axis=1)\n",
    "mean3_class2= pd.read_csv('hwk2_datasets/DS2_c2_m3.txt', header=None).drop([20], axis=1)"
   ]
  },
  {
   "cell_type": "markdown",
   "id": "c583a093",
   "metadata": {},
   "source": [
    "generate data for each classes"
   ]
  },
  {
   "cell_type": "code",
   "execution_count": 25,
   "id": "792ba347",
   "metadata": {},
   "outputs": [
    {
     "data": {
      "text/plain": [
       "(2000, 20)"
      ]
     },
     "execution_count": 25,
     "metadata": {},
     "output_type": "execute_result"
    }
   ],
   "source": [
    "positivedata_1 = np.random.multivariate_normal(np.squeeze(mean1_class1), covariance_class1, 2000)\n",
    "negativedata_1 = np.random.multivariate_normal(np.squeeze(mean1_class2), covariance_class1, 2000)\n",
    "positivedata_2 = np.random.multivariate_normal(np.squeeze(mean2_class1), covariance_class2, 2000)\n",
    "negativedata_2 = np.random.multivariate_normal(np.squeeze(mean2_class2), covariance_class2, 2000)\n",
    "positivedata_3 = np.random.multivariate_normal(np.squeeze(mean3_class1), covariance_class3, 2000)\n",
    "negativedata_3 = np.random.multivariate_normal(np.squeeze(mean3_class2), covariance_class3, 2000)"
   ]
  },
  {
   "cell_type": "markdown",
   "id": "f7026c0d",
   "metadata": {},
   "source": [
    "sample the data from each distribution based on the probability is given"
   ]
  },
  {
   "cell_type": "code",
   "execution_count": 32,
   "id": "7356bf07",
   "metadata": {},
   "outputs": [],
   "source": [
    "positive_data = np.zeros((2000, 20))\n",
    "negative_data = np.zeros((2000, 20))\n",
    "\n",
    "positive_classes = [positivedata_1, positivedata_2, positivedata_3]\n",
    "index = np.random.choice([0, 1, 2], 2000, p=[.1, .42, .48])\n",
    "for i, class_i in enumerate(index):\n",
    "    positive_data[i] = positive_classes[class_i][i]\n",
    "\n",
    "negative_classes = [negativedata_1, negativedata_2, negativedata_3]\n",
    "index_n = np.random.choice([0, 1, 2], 2000, p=[.1, .42, .48])\n",
    "for i, class_i in enumerate(index_n):\n",
    "    negative_data[i] = negative_classes[class_i][i]\n",
    "\n"
   ]
  },
  {
   "cell_type": "markdown",
   "id": "fc176bb3",
   "metadata": {},
   "source": [
    "label the positive and negative data"
   ]
  },
  {
   "cell_type": "code",
   "execution_count": 37,
   "id": "399debb9",
   "metadata": {},
   "outputs": [],
   "source": [
    "ones = 1 * np.ones((2000,1))\n",
    "zeros = 0 * np.ones((2000,1))\n",
    "\n",
    "positive_data = np.append(positive_data, ones, axis=1) \n",
    "negative_data = np.append(negative_data, zeros, axis=1) \n",
    "\n",
    "\n"
   ]
  },
  {
   "cell_type": "markdown",
   "id": "65225411",
   "metadata": {},
   "source": [
    "pick the train and test and validation data based on the percent in assignment and also pick the data randomly without replacement( by shuffling the data at the first step)"
   ]
  },
  {
   "cell_type": "code",
   "execution_count": 39,
   "id": "48b50963",
   "metadata": {},
   "outputs": [],
   "source": [
    "np.random.shuffle(positive_data)\n",
    "data_positive_train = positive_data[0:1200]\n",
    "data_positive_test = positive_data[1200:1600]\n",
    "data_positive_valid = positive_data[1600:2000]"
   ]
  },
  {
   "cell_type": "code",
   "execution_count": 40,
   "id": "d61a35d1",
   "metadata": {},
   "outputs": [],
   "source": [
    "np.random.shuffle(negative_data)\n",
    "data_negative_train = negative_data[0:1200]\n",
    "data_negative_test = negative_data[1200:1600]\n",
    "data_negative_valid = negative_data[1600:2000]"
   ]
  },
  {
   "cell_type": "code",
   "execution_count": 41,
   "id": "34827d0a",
   "metadata": {},
   "outputs": [],
   "source": [
    "data_test = np.concatenate((data_positive_test, data_negative_test))\n",
    "data_train = np.concatenate((data_positive_train, data_negative_train))\n",
    "data_valid = np.concatenate((data_positive_valid, data_negative_valid))"
   ]
  },
  {
   "cell_type": "code",
   "execution_count": 42,
   "id": "a8f27a36",
   "metadata": {},
   "outputs": [],
   "source": [
    "np.random.shuffle(data_test)\n",
    "np.random.shuffle(data_train)\n",
    "np.random.shuffle(data_valid)"
   ]
  },
  {
   "cell_type": "code",
   "execution_count": 43,
   "id": "f879e92f",
   "metadata": {},
   "outputs": [
    {
     "name": "stdout",
     "output_type": "stream",
     "text": [
      "shape of train data(2400, 21)\n",
      "shape of test data(800, 21)\n",
      "shape of validation data(800, 21)\n"
     ]
    }
   ],
   "source": [
    "print(f'shape of train data{data_train.shape}')\n",
    "print(f'shape of test data{data_test.shape}')\n",
    "print(f'shape of validation data{data_valid.shape}')"
   ]
  },
  {
   "cell_type": "markdown",
   "id": "62d50338",
   "metadata": {},
   "source": [
    "save the test and train and validation data to the repository"
   ]
  },
  {
   "cell_type": "code",
   "execution_count": 44,
   "id": "c8106cba",
   "metadata": {},
   "outputs": [],
   "source": [
    "np.savetxt('DS2_train.csv', data_train, delimiter=',')\n",
    "np.savetxt('DS2_test.csv', data_test, delimiter=',')\n",
    "np.savetxt('DS2_valid.csv', data_valid, delimiter=',')"
   ]
  },
  {
   "cell_type": "markdown",
   "id": "bb0203f0",
   "metadata": {},
   "source": [
    "save the entire datasets to the repository and save it as DS1"
   ]
  },
  {
   "cell_type": "code",
   "execution_count": 45,
   "id": "7ea920a3",
   "metadata": {},
   "outputs": [],
   "source": [
    "data = np.concatenate((data_train, data_test, data_valid))\n",
    "np.savetxt('DS2.csv', data, delimiter=',')"
   ]
  },
  {
   "cell_type": "code",
   "execution_count": 46,
   "id": "498c7f35",
   "metadata": {},
   "outputs": [
    {
     "data": {
      "text/html": [
       "<div>\n",
       "<style scoped>\n",
       "    .dataframe tbody tr th:only-of-type {\n",
       "        vertical-align: middle;\n",
       "    }\n",
       "\n",
       "    .dataframe tbody tr th {\n",
       "        vertical-align: top;\n",
       "    }\n",
       "\n",
       "    .dataframe thead th {\n",
       "        text-align: right;\n",
       "    }\n",
       "</style>\n",
       "<table border=\"1\" class=\"dataframe\">\n",
       "  <thead>\n",
       "    <tr style=\"text-align: right;\">\n",
       "      <th></th>\n",
       "      <th>0</th>\n",
       "      <th>1</th>\n",
       "      <th>2</th>\n",
       "      <th>3</th>\n",
       "      <th>4</th>\n",
       "      <th>5</th>\n",
       "      <th>6</th>\n",
       "      <th>7</th>\n",
       "      <th>8</th>\n",
       "      <th>9</th>\n",
       "      <th>...</th>\n",
       "      <th>11</th>\n",
       "      <th>12</th>\n",
       "      <th>13</th>\n",
       "      <th>14</th>\n",
       "      <th>15</th>\n",
       "      <th>16</th>\n",
       "      <th>17</th>\n",
       "      <th>18</th>\n",
       "      <th>19</th>\n",
       "      <th>20</th>\n",
       "    </tr>\n",
       "  </thead>\n",
       "  <tbody>\n",
       "    <tr>\n",
       "      <td>0</td>\n",
       "      <td>1.135183</td>\n",
       "      <td>1.002957</td>\n",
       "      <td>2.204475</td>\n",
       "      <td>2.234593</td>\n",
       "      <td>1.718117</td>\n",
       "      <td>1.579917</td>\n",
       "      <td>3.185297</td>\n",
       "      <td>2.610832</td>\n",
       "      <td>1.552993</td>\n",
       "      <td>2.526851</td>\n",
       "      <td>...</td>\n",
       "      <td>-1.234818</td>\n",
       "      <td>0.808853</td>\n",
       "      <td>-0.266035</td>\n",
       "      <td>0.049918</td>\n",
       "      <td>0.539747</td>\n",
       "      <td>-0.164770</td>\n",
       "      <td>0.594459</td>\n",
       "      <td>3.441934</td>\n",
       "      <td>1.872095</td>\n",
       "      <td>1.0</td>\n",
       "    </tr>\n",
       "    <tr>\n",
       "      <td>1</td>\n",
       "      <td>4.134915</td>\n",
       "      <td>5.070674</td>\n",
       "      <td>5.743357</td>\n",
       "      <td>4.823102</td>\n",
       "      <td>4.003875</td>\n",
       "      <td>4.113020</td>\n",
       "      <td>4.716796</td>\n",
       "      <td>3.940880</td>\n",
       "      <td>4.916695</td>\n",
       "      <td>3.768333</td>\n",
       "      <td>...</td>\n",
       "      <td>3.673463</td>\n",
       "      <td>4.337357</td>\n",
       "      <td>5.376726</td>\n",
       "      <td>4.758728</td>\n",
       "      <td>4.070818</td>\n",
       "      <td>3.900327</td>\n",
       "      <td>3.104892</td>\n",
       "      <td>4.999454</td>\n",
       "      <td>4.574333</td>\n",
       "      <td>1.0</td>\n",
       "    </tr>\n",
       "    <tr>\n",
       "      <td>2</td>\n",
       "      <td>0.589231</td>\n",
       "      <td>-3.333033</td>\n",
       "      <td>0.373499</td>\n",
       "      <td>0.584210</td>\n",
       "      <td>-2.327226</td>\n",
       "      <td>-1.253408</td>\n",
       "      <td>0.858874</td>\n",
       "      <td>-0.933623</td>\n",
       "      <td>1.220143</td>\n",
       "      <td>-0.033987</td>\n",
       "      <td>...</td>\n",
       "      <td>1.242410</td>\n",
       "      <td>0.339465</td>\n",
       "      <td>-0.497557</td>\n",
       "      <td>-0.262457</td>\n",
       "      <td>-0.914020</td>\n",
       "      <td>-0.114639</td>\n",
       "      <td>0.816679</td>\n",
       "      <td>-1.872823</td>\n",
       "      <td>0.604071</td>\n",
       "      <td>1.0</td>\n",
       "    </tr>\n",
       "    <tr>\n",
       "      <td>3</td>\n",
       "      <td>1.615361</td>\n",
       "      <td>4.232913</td>\n",
       "      <td>3.421192</td>\n",
       "      <td>1.973526</td>\n",
       "      <td>2.802039</td>\n",
       "      <td>4.034054</td>\n",
       "      <td>4.015263</td>\n",
       "      <td>3.580293</td>\n",
       "      <td>2.536173</td>\n",
       "      <td>3.141107</td>\n",
       "      <td>...</td>\n",
       "      <td>4.452235</td>\n",
       "      <td>2.117597</td>\n",
       "      <td>2.821531</td>\n",
       "      <td>1.752671</td>\n",
       "      <td>3.122594</td>\n",
       "      <td>2.183314</td>\n",
       "      <td>4.915613</td>\n",
       "      <td>3.956169</td>\n",
       "      <td>4.886782</td>\n",
       "      <td>0.0</td>\n",
       "    </tr>\n",
       "    <tr>\n",
       "      <td>4</td>\n",
       "      <td>-0.339204</td>\n",
       "      <td>0.800596</td>\n",
       "      <td>1.563569</td>\n",
       "      <td>2.380164</td>\n",
       "      <td>2.127669</td>\n",
       "      <td>0.281610</td>\n",
       "      <td>-0.174989</td>\n",
       "      <td>-1.384316</td>\n",
       "      <td>-0.323583</td>\n",
       "      <td>2.554605</td>\n",
       "      <td>...</td>\n",
       "      <td>-0.659739</td>\n",
       "      <td>2.241526</td>\n",
       "      <td>-1.900959</td>\n",
       "      <td>0.387279</td>\n",
       "      <td>0.991670</td>\n",
       "      <td>0.930648</td>\n",
       "      <td>1.304879</td>\n",
       "      <td>1.235094</td>\n",
       "      <td>0.116769</td>\n",
       "      <td>1.0</td>\n",
       "    </tr>\n",
       "  </tbody>\n",
       "</table>\n",
       "<p>5 rows × 21 columns</p>\n",
       "</div>"
      ],
      "text/plain": [
       "         0         1         2         3         4         5         6   \\\n",
       "0  1.135183  1.002957  2.204475  2.234593  1.718117  1.579917  3.185297   \n",
       "1  4.134915  5.070674  5.743357  4.823102  4.003875  4.113020  4.716796   \n",
       "2  0.589231 -3.333033  0.373499  0.584210 -2.327226 -1.253408  0.858874   \n",
       "3  1.615361  4.232913  3.421192  1.973526  2.802039  4.034054  4.015263   \n",
       "4 -0.339204  0.800596  1.563569  2.380164  2.127669  0.281610 -0.174989   \n",
       "\n",
       "         7         8         9   ...        11        12        13        14  \\\n",
       "0  2.610832  1.552993  2.526851  ... -1.234818  0.808853 -0.266035  0.049918   \n",
       "1  3.940880  4.916695  3.768333  ...  3.673463  4.337357  5.376726  4.758728   \n",
       "2 -0.933623  1.220143 -0.033987  ...  1.242410  0.339465 -0.497557 -0.262457   \n",
       "3  3.580293  2.536173  3.141107  ...  4.452235  2.117597  2.821531  1.752671   \n",
       "4 -1.384316 -0.323583  2.554605  ... -0.659739  2.241526 -1.900959  0.387279   \n",
       "\n",
       "         15        16        17        18        19   20  \n",
       "0  0.539747 -0.164770  0.594459  3.441934  1.872095  1.0  \n",
       "1  4.070818  3.900327  3.104892  4.999454  4.574333  1.0  \n",
       "2 -0.914020 -0.114639  0.816679 -1.872823  0.604071  1.0  \n",
       "3  3.122594  2.183314  4.915613  3.956169  4.886782  0.0  \n",
       "4  0.991670  0.930648  1.304879  1.235094  0.116769  1.0  \n",
       "\n",
       "[5 rows x 21 columns]"
      ]
     },
     "execution_count": 46,
     "metadata": {},
     "output_type": "execute_result"
    }
   ],
   "source": [
    "data_pd = pd.DataFrame(data)\n",
    "data_pd.head()"
   ]
  },
  {
   "cell_type": "markdown",
   "id": "13a79a8b",
   "metadata": {},
   "source": [
    "write the data in text file follow the instruction"
   ]
  },
  {
   "cell_type": "code",
   "execution_count": 47,
   "id": "e5c94a9a",
   "metadata": {},
   "outputs": [],
   "source": [
    "np.savetxt('Assignment2_2122841_1_4_DS2.txt', data, newline='\\n', delimiter=',')\n",
    "np.savetxt('Assignment2_2122841_1_4_DS2_train.txt', data_train, newline='\\n', delimiter=',')\n",
    "np.savetxt('Assignment2_2122841_1_4_DS2_test.txt', data_test, newline='\\n', delimiter=',')\n",
    "np.savetxt('Assignment2_2122841_1_4_DS2_valid.txt', data_valid, newline='\\n', delimiter=',')"
   ]
  },
  {
   "cell_type": "code",
   "execution_count": null,
   "id": "9934a56d",
   "metadata": {},
   "outputs": [],
   "source": []
  }
 ],
 "metadata": {
  "kernelspec": {
   "display_name": "Python 3",
   "language": "python",
   "name": "python3"
  },
  "language_info": {
   "codemirror_mode": {
    "name": "ipython",
    "version": 3
   },
   "file_extension": ".py",
   "mimetype": "text/x-python",
   "name": "python",
   "nbconvert_exporter": "python",
   "pygments_lexer": "ipython3",
   "version": "3.7.4"
  }
 },
 "nbformat": 4,
 "nbformat_minor": 5
}
