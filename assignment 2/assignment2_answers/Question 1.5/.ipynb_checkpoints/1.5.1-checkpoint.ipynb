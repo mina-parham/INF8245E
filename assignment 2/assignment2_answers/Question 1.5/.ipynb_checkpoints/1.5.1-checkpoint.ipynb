{
 "cells": [
  {
   "cell_type": "code",
   "execution_count": 1,
   "id": "a4423a8a",
   "metadata": {},
   "outputs": [],
   "source": [
    "import matplotlib.pyplot as plt\n",
    "import numpy as np\n",
    "import pandas as pd"
   ]
  },
  {
   "cell_type": "markdown",
   "id": "3e123a07",
   "metadata": {},
   "source": [
    "import the data that we generated from 1.4"
   ]
  },
  {
   "cell_type": "code",
   "execution_count": 3,
   "id": "ec5cced1",
   "metadata": {},
   "outputs": [],
   "source": [
    "data_train = pd.read_csv('DS2_train.csv', header=None)\n",
    "data_test = pd.read_csv('DS2_test.csv', header=None)\n",
    "data_valid = pd.read_csv('DS2_valid.csv', header=None)"
   ]
  },
  {
   "cell_type": "markdown",
   "id": "f5ef49d5",
   "metadata": {},
   "source": [
    "convert data from pandas to numpy:"
   ]
  },
  {
   "cell_type": "code",
   "execution_count": 4,
   "id": "cbdbde8a",
   "metadata": {},
   "outputs": [],
   "source": [
    "data_train = data_train.to_numpy()\n",
    "data_test = data_test.to_numpy()\n",
    "data_valid = data_valid.to_numpy()"
   ]
  },
  {
   "cell_type": "markdown",
   "id": "41bdcc15",
   "metadata": {},
   "source": [
    "GDA function:"
   ]
  },
  {
   "cell_type": "code",
   "execution_count": 5,
   "id": "4ade69cb",
   "metadata": {},
   "outputs": [],
   "source": [
    "#calculate the mean for each classes\n",
    "def mean_calculator(data):\n",
    "    \n",
    "    m_p = np.where(data[:,20] == 1) \n",
    "    m_n = np.where(data[:,20] == 0)\n",
    "    mean_positive = np.mean(data[m_p], axis = 0)[:20]\n",
    "    mean_negative = np.mean(data[m_n], axis = 0)[:20]\n",
    "    return mean_positive, mean_negative\n",
    "    \n",
    "#calculate sigma for each classes\n",
    "def sigma_df(data, mean_p, mean_n):\n",
    "    r = np.zeros((len(data), 20))\n",
    "    for i in range(len(data)):\n",
    "        if data[i, 20] == 1:\n",
    "            r[i] = data[i,:20] - mean_p\n",
    "        elif data[i,20] == 0:\n",
    "            r[i] = data[i,:20] - mean_n\n",
    "    return (1/len(data)) * (np.dot(np.transpose(r), r))\n",
    "\n",
    "def coefficient(sigma, mean_positive, mean_negative, pi):\n",
    "    \n",
    "    sigma_inv = np.linalg.inv(sigma)\n",
    "    w = np.dot(sigma_inv, (mean_positive - mean_negative))\n",
    "    w0 = (-1/2) * np.dot(np.dot(np.transpose(mean_positive), sigma_inv), mean_positive) + (1/2) * np.dot(np.dot(np.transpose(mean_negative), sigma_inv), mean_negative) + np.log(pi/ (1-pi))\n",
    "    return w, w0\n",
    "\n",
    "# def sigmoid(a):\n",
    "#     return 1 / (1 + np.exp(-a))\n",
    "\n",
    "def predict(x, w, w0):\n",
    "    \n",
    "    dot_product = np.dot(x,w) + w0\n",
    "    sigmoid = 1/ (1+ np.exp( - dot_product))\n",
    "    y_hat =[1 if i> 0.5 else 0 for i in sigmoid]\n",
    "    return y_hat\n",
    "\n",
    "def accuracy_df(data, y_hat):\n",
    "    beta = np.sum(abs(data[:,20] - y_hat))/ len(data) * 100\n",
    "    return 100 - beta\n",
    "\n"
   ]
  },
  {
   "cell_type": "code",
   "execution_count": 6,
   "id": "20bdfe07",
   "metadata": {},
   "outputs": [],
   "source": [
    "mean_positive, mean_negative = mean_calculator(data_train)\n",
    "sigma = sigma_df(data_train, mean_positive, mean_negative)\n",
    "pi = len(np.where(data_train[:,20] == 1)[0]) / len(data_train)\n",
    "w, w0 = coefficient(sigma, mean_positive, mean_negative, pi)\n",
    "y_hat = predict(data_test[:,0:20], w, w0)\n",
    "accuracy = accuracy_df(data_test, y_hat)"
   ]
  },
  {
   "cell_type": "code",
   "execution_count": 7,
   "id": "7a8f9fc5",
   "metadata": {},
   "outputs": [
    {
     "data": {
      "text/plain": [
       "53.125"
      ]
     },
     "execution_count": 7,
     "metadata": {},
     "output_type": "execute_result"
    }
   ],
   "source": [
    "accuracy"
   ]
  },
  {
   "cell_type": "markdown",
   "id": "50045aa0",
   "metadata": {},
   "source": [
    "### 5.a"
   ]
  },
  {
   "cell_type": "code",
   "execution_count": 8,
   "id": "14da76eb",
   "metadata": {},
   "outputs": [
    {
     "name": "stdout",
     "output_type": "stream",
     "text": [
      "the best accuracy which is obtained from test data : 53.125 %\n"
     ]
    }
   ],
   "source": [
    "print(f'the best accuracy which is obtained from test data : {accuracy} %')"
   ]
  },
  {
   "cell_type": "markdown",
   "id": "64b3e871",
   "metadata": {},
   "source": [
    "### 2.b"
   ]
  },
  {
   "cell_type": "code",
   "execution_count": 9,
   "id": "195bc744",
   "metadata": {},
   "outputs": [
    {
     "name": "stdout",
     "output_type": "stream",
     "text": [
      "the coefficients: \n",
      " \n",
      " W: \n",
      " \n",
      " [-0.01477806  0.08812504  0.05462724 -0.03620929 -0.13729712  0.02569758\n",
      "  0.03158517 -0.03190441 -0.09910052  0.02377519  0.06182258 -0.06146903\n",
      " -0.03351293 -0.0809642   0.06672574  0.03365209  0.02585048  0.02596038\n",
      "  0.01378598 -0.01928984] \n",
      "  \n",
      " W0 : 0.06408193955440583 \n"
     ]
    }
   ],
   "source": [
    "print(f'the coefficients: \\n \\n W: \\n \\n {w} \\n  \\n W0 : {w0} ')"
   ]
  },
  {
   "cell_type": "markdown",
   "id": "ed2a42a2",
   "metadata": {},
   "source": [
    "save the parameter in text file"
   ]
  },
  {
   "cell_type": "code",
   "execution_count": 10,
   "id": "2de07cee",
   "metadata": {},
   "outputs": [],
   "source": [
    "np.savetxt('Assignment2_2122841_5a_Accuracy.txt', [accuracy], newline='\\n', delimiter=',')\n",
    "np.savetxt('Assignment2_2122841_5b_coefficients.txt', w , newline='\\n', delimiter=',')\n",
    "np.savetxt('Assignment2_2122841_5b_coefficients0.txt', [w0], newline='\\n', delimiter=',')"
   ]
  }
 ],
 "metadata": {
  "kernelspec": {
   "display_name": "Python 3",
   "language": "python",
   "name": "python3"
  },
  "language_info": {
   "codemirror_mode": {
    "name": "ipython",
    "version": 3
   },
   "file_extension": ".py",
   "mimetype": "text/x-python",
   "name": "python",
   "nbconvert_exporter": "python",
   "pygments_lexer": "ipython3",
   "version": "3.7.4"
  }
 },
 "nbformat": 4,
 "nbformat_minor": 5
}
