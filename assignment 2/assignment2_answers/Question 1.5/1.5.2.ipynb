{
 "cells": [
  {
   "cell_type": "code",
   "execution_count": 1,
   "id": "70aa3b20",
   "metadata": {},
   "outputs": [],
   "source": [
    "import matplotlib.pyplot as plt\n",
    "import numpy as np\n",
    "import pandas as pd\n",
    "from statistics import mode"
   ]
  },
  {
   "cell_type": "markdown",
   "id": "c622cf00",
   "metadata": {},
   "source": [
    "import the data that we generated from 1.4"
   ]
  },
  {
   "cell_type": "code",
   "execution_count": 2,
   "id": "cfd6721a",
   "metadata": {},
   "outputs": [],
   "source": [
    "data_train = pd.read_csv('DS2_train.csv', header=None)\n",
    "data_test = pd.read_csv('DS2_test.csv', header=None)\n",
    "data_valid = pd.read_csv('DS2_valid.csv', header=None)"
   ]
  },
  {
   "cell_type": "markdown",
   "id": "7c6d57a5",
   "metadata": {},
   "source": [
    "convert data from pandas to numpy:"
   ]
  },
  {
   "cell_type": "code",
   "execution_count": 3,
   "id": "8fbb33ab",
   "metadata": {},
   "outputs": [],
   "source": [
    "data_train = data_train.to_numpy()\n",
    "data_test = data_test.to_numpy()\n",
    "data_valid = data_valid.to_numpy()"
   ]
  },
  {
   "cell_type": "markdown",
   "id": "237ee66d",
   "metadata": {},
   "source": [
    "Knn function"
   ]
  },
  {
   "cell_type": "code",
   "execution_count": 5,
   "id": "7c6b2c77",
   "metadata": {},
   "outputs": [],
   "source": [
    "def euclidean_distance(row1, row2):\n",
    "    distance = 0.0\n",
    "    for i in range(len(row1)):\n",
    "        distance += (row1[i] - row2[i])**2\n",
    "    return np.sqrt(distance)\n",
    "\n",
    "def calculate_distance(data_test, data_train):\n",
    "    distance = np.zeros((len(data_test), len(data_train)))\n",
    "    for i in range(len(data_test)):\n",
    "        for j in range(len(data_train)):\n",
    "            euclidean = euclidean_distance(data_test[i,0:20], data_train[j,0:20])\n",
    "            distance[i, j] =euclidean\n",
    "    return distance\n",
    "\n",
    "def knn(distance, k, data_train):\n",
    "    \n",
    "    k_nearest_y = []\n",
    "    final = np.zeros(len(distance))\n",
    "    final_distance = np.argsort(distance)   \n",
    "    distance_k = final_distance[:,0:k]\n",
    "    for i in range(800):\n",
    "        knn_index = distance_k[i]\n",
    "        k_nearest_y = (data_train[knn_index,20])\n",
    "        final[i] = mode(k_nearest_y)\n",
    "    return final\n",
    "    \n",
    "def accuracy_df(data, y_hat):\n",
    "    beta = np.sum(abs(data[:,20] - y_hat))/ len(data) * 100\n",
    "    return 100 - beta\n",
    "    "
   ]
  },
  {
   "cell_type": "code",
   "execution_count": 6,
   "id": "803c4169",
   "metadata": {},
   "outputs": [],
   "source": [
    "distance = calculate_distance(data_valid, data_train)"
   ]
  },
  {
   "cell_type": "code",
   "execution_count": 7,
   "id": "04da1fb9",
   "metadata": {},
   "outputs": [
    {
     "name": "stdout",
     "output_type": "stream",
     "text": [
      "k value = 1 ======> accuracy = 53.5\n",
      "k value = 3 ======> accuracy = 53.125\n",
      "k value = 5 ======> accuracy = 55.125\n",
      "k value = 7 ======> accuracy = 54.5\n",
      "k value = 9 ======> accuracy = 54.625\n",
      "k value = 11 ======> accuracy = 55.125\n",
      "k value = 13 ======> accuracy = 53.5\n",
      "k value = 15 ======> accuracy = 53.5\n",
      "k value = 17 ======> accuracy = 54.75\n",
      "k value = 19 ======> accuracy = 54.25\n",
      "k value = 21 ======> accuracy = 53.625\n",
      "k value = 23 ======> accuracy = 53.75\n",
      "k value = 25 ======> accuracy = 55.25\n",
      "k value = 27 ======> accuracy = 54.25\n",
      "k value = 29 ======> accuracy = 53.5\n",
      "k value = 31 ======> accuracy = 53.25\n",
      "k value = 33 ======> accuracy = 52.75\n",
      "k value = 35 ======> accuracy = 52.75\n",
      "k value = 37 ======> accuracy = 53.5\n",
      "k value = 39 ======> accuracy = 53.375\n",
      "k value = 41 ======> accuracy = 52.25\n",
      "k value = 43 ======> accuracy = 54.0\n",
      "k value = 45 ======> accuracy = 54.0\n",
      "k value = 47 ======> accuracy = 53.875\n",
      "k value = 49 ======> accuracy = 55.125\n",
      "k value = 51 ======> accuracy = 54.0\n",
      "k value = 53 ======> accuracy = 53.875\n",
      "k value = 55 ======> accuracy = 54.625\n",
      "k value = 57 ======> accuracy = 55.0\n",
      "k value = 59 ======> accuracy = 55.5\n",
      "k value = 61 ======> accuracy = 54.0\n",
      "k value = 63 ======> accuracy = 52.375\n",
      "k value = 65 ======> accuracy = 53.375\n",
      "k value = 67 ======> accuracy = 53.625\n",
      "k value = 69 ======> accuracy = 52.125\n",
      "k value = 71 ======> accuracy = 53.0\n",
      "k value = 73 ======> accuracy = 53.75\n",
      "k value = 75 ======> accuracy = 52.125\n",
      "k value = 77 ======> accuracy = 52.75\n",
      "k value = 79 ======> accuracy = 52.5\n",
      "k value = 81 ======> accuracy = 53.125\n",
      "k value = 83 ======> accuracy = 52.25\n",
      "k value = 85 ======> accuracy = 53.5\n",
      "k value = 87 ======> accuracy = 53.875\n",
      "k value = 89 ======> accuracy = 53.125\n",
      "k value = 91 ======> accuracy = 52.5\n",
      "k value = 93 ======> accuracy = 52.75\n",
      "k value = 95 ======> accuracy = 53.5\n",
      "k value = 97 ======> accuracy = 52.625\n",
      "k value = 99 ======> accuracy = 52.75\n",
      "k value = 101 ======> accuracy = 52.125\n",
      "k value = 103 ======> accuracy = 54.0\n",
      "k value = 105 ======> accuracy = 53.375\n",
      "k value = 107 ======> accuracy = 53.25\n",
      "k value = 109 ======> accuracy = 53.5\n",
      "k value = 111 ======> accuracy = 51.625\n",
      "k value = 113 ======> accuracy = 51.875\n",
      "k value = 115 ======> accuracy = 52.0\n",
      "k value = 117 ======> accuracy = 52.625\n",
      "k value = 119 ======> accuracy = 53.0\n",
      "k value = 121 ======> accuracy = 53.25\n",
      "k value = 123 ======> accuracy = 52.75\n",
      "k value = 125 ======> accuracy = 53.375\n",
      "k value = 127 ======> accuracy = 52.0\n",
      "k value = 129 ======> accuracy = 52.5\n",
      "k value = 131 ======> accuracy = 52.875\n",
      "k value = 133 ======> accuracy = 52.25\n",
      "k value = 135 ======> accuracy = 53.375\n",
      "k value = 137 ======> accuracy = 54.0\n",
      "k value = 139 ======> accuracy = 52.875\n",
      "k value = 141 ======> accuracy = 51.25\n",
      "k value = 143 ======> accuracy = 51.125\n",
      "k value = 145 ======> accuracy = 50.25\n",
      "k value = 147 ======> accuracy = 50.375\n",
      "k value = 149 ======> accuracy = 50.75\n",
      "k value = 151 ======> accuracy = 50.5\n",
      "k value = 153 ======> accuracy = 50.75\n",
      "k value = 155 ======> accuracy = 50.75\n",
      "k value = 157 ======> accuracy = 51.125\n",
      "k value = 159 ======> accuracy = 50.25\n",
      "the best k is : 59 and the best accuracy is : 55.5\n"
     ]
    }
   ],
   "source": [
    "best_accuracy = -100\n",
    "k=0\n",
    "for i in range(1,  160 , 2):\n",
    "    y_hat = knn(distance, i, data_train)\n",
    "    accuracy = accuracy_df(data_valid, y_hat)\n",
    "    print(f'k value = {i} ======> accuracy = {accuracy}')\n",
    "    \n",
    "    if (accuracy > best_accuracy):\n",
    "        best_accuracy = accuracy\n",
    "        k = i\n",
    "\n",
    "print(f'the best k is : {k} and the best accuracy is : {best_accuracy}')"
   ]
  },
  {
   "cell_type": "markdown",
   "id": "74da29ec",
   "metadata": {},
   "source": [
    "This classifier performs worse than the GDA.\n",
    "\n",
    "for k = 59 it performe better than the other K\n"
   ]
  },
  {
   "cell_type": "markdown",
   "metadata": {},
   "source": [
    "### 5.3"
   ]
  },
  {
   "cell_type": "code",
   "execution_count": 16,
   "metadata": {},
   "outputs": [
    {
     "name": "stdout",
     "output_type": "stream",
     "text": [
      "for the best k which is : 59 the accuracy is : 53.75\n"
     ]
    }
   ],
   "source": [
    "distance_test = calculate_distance(data_test, data_train)\n",
    "y_hat = knn(distance_test, 59, data_train)\n",
    "accuracy = accuracy_df(data_test, y_hat)\n",
    "\n",
    "print(f'for the best k which is : 59 the accuracy is : {accuracy}')\n"
   ]
  },
  {
   "cell_type": "code",
   "execution_count": 13,
   "id": "d9bfcafc",
   "metadata": {},
   "outputs": [
    {
     "name": "stdout",
     "output_type": "stream",
     "text": [
      "k value = 1 ======> accuracy = 56.875\n",
      "k value = 3 ======> accuracy = 55.125\n",
      "k value = 5 ======> accuracy = 57.375\n",
      "k value = 7 ======> accuracy = 59.125\n",
      "k value = 9 ======> accuracy = 59.375\n",
      "k value = 11 ======> accuracy = 58.5\n",
      "k value = 13 ======> accuracy = 57.625\n",
      "k value = 15 ======> accuracy = 57.375\n",
      "k value = 17 ======> accuracy = 58.375\n",
      "k value = 19 ======> accuracy = 56.5\n",
      "k value = 21 ======> accuracy = 56.75\n",
      "k value = 23 ======> accuracy = 57.375\n",
      "k value = 25 ======> accuracy = 55.5\n",
      "k value = 27 ======> accuracy = 56.375\n",
      "k value = 29 ======> accuracy = 56.25\n",
      "k value = 31 ======> accuracy = 56.75\n",
      "k value = 33 ======> accuracy = 55.5\n",
      "k value = 35 ======> accuracy = 56.75\n",
      "k value = 37 ======> accuracy = 56.875\n",
      "k value = 39 ======> accuracy = 55.25\n",
      "k value = 41 ======> accuracy = 54.875\n",
      "k value = 43 ======> accuracy = 54.125\n",
      "k value = 45 ======> accuracy = 53.5\n",
      "k value = 47 ======> accuracy = 54.625\n",
      "k value = 49 ======> accuracy = 55.875\n",
      "k value = 51 ======> accuracy = 54.75\n",
      "k value = 53 ======> accuracy = 54.875\n",
      "k value = 55 ======> accuracy = 54.125\n",
      "k value = 57 ======> accuracy = 55.0\n",
      "k value = 59 ======> accuracy = 53.75\n",
      "k value = 61 ======> accuracy = 53.375\n",
      "k value = 63 ======> accuracy = 53.875\n",
      "k value = 65 ======> accuracy = 54.5\n",
      "k value = 67 ======> accuracy = 53.875\n",
      "k value = 69 ======> accuracy = 53.75\n",
      "k value = 71 ======> accuracy = 53.625\n",
      "k value = 73 ======> accuracy = 54.375\n",
      "k value = 75 ======> accuracy = 55.0\n",
      "k value = 77 ======> accuracy = 55.125\n",
      "k value = 79 ======> accuracy = 54.375\n",
      "k value = 81 ======> accuracy = 54.875\n",
      "k value = 83 ======> accuracy = 55.375\n",
      "k value = 85 ======> accuracy = 53.625\n",
      "k value = 87 ======> accuracy = 53.625\n",
      "k value = 89 ======> accuracy = 54.5\n",
      "k value = 91 ======> accuracy = 55.0\n",
      "k value = 93 ======> accuracy = 55.125\n",
      "k value = 95 ======> accuracy = 54.625\n",
      "k value = 97 ======> accuracy = 54.375\n",
      "k value = 99 ======> accuracy = 53.625\n",
      "k value = 101 ======> accuracy = 55.0\n",
      "k value = 103 ======> accuracy = 54.25\n",
      "k value = 105 ======> accuracy = 54.25\n",
      "k value = 107 ======> accuracy = 53.5\n",
      "k value = 109 ======> accuracy = 54.125\n",
      "k value = 111 ======> accuracy = 54.5\n",
      "k value = 113 ======> accuracy = 55.0\n",
      "k value = 115 ======> accuracy = 54.5\n",
      "k value = 117 ======> accuracy = 55.625\n",
      "k value = 119 ======> accuracy = 55.5\n",
      "k value = 121 ======> accuracy = 55.375\n",
      "k value = 123 ======> accuracy = 54.875\n",
      "k value = 125 ======> accuracy = 56.0\n",
      "k value = 127 ======> accuracy = 55.75\n",
      "k value = 129 ======> accuracy = 56.125\n",
      "k value = 131 ======> accuracy = 56.125\n",
      "k value = 133 ======> accuracy = 56.0\n",
      "k value = 135 ======> accuracy = 55.875\n",
      "k value = 137 ======> accuracy = 54.375\n",
      "k value = 139 ======> accuracy = 54.875\n",
      "k value = 141 ======> accuracy = 54.875\n",
      "k value = 143 ======> accuracy = 54.75\n",
      "k value = 145 ======> accuracy = 54.25\n",
      "k value = 147 ======> accuracy = 53.375\n",
      "k value = 149 ======> accuracy = 53.625\n",
      "k value = 151 ======> accuracy = 53.75\n",
      "k value = 153 ======> accuracy = 54.75\n",
      "k value = 155 ======> accuracy = 55.5\n",
      "k value = 157 ======> accuracy = 55.0\n",
      "k value = 159 ======> accuracy = 54.75\n",
      "the best k is : 9 and the best accuracy is : 59.375\n"
     ]
    }
   ],
   "source": [
    "distance_test = calculate_distance(data_test, data_train)\n",
    "best_accuracy = -100\n",
    "k=0\n",
    "for i in range(1,  160 , 2):\n",
    "    y_hat = knn(distance_test, i, data_train)\n",
    "    accuracy = accuracy_df(data_test, y_hat)\n",
    "    print(f'k value = {i} ======> accuracy = {accuracy}')\n",
    "    \n",
    "    if (accuracy > best_accuracy):\n",
    "        best_accuracy = accuracy\n",
    "        k = i\n",
    "\n",
    "print(f'the best k is : {k} and the best accuracy is : {best_accuracy}')"
   ]
  },
  {
   "cell_type": "code",
   "execution_count": 14,
   "id": "c9d3e81a",
   "metadata": {},
   "outputs": [],
   "source": [
    "np.savetxt(\"Assignment2_2122841_5.3_Bestaccuracy.txt\", [best_accuracy], newline='\\n', delimiter=',')"
   ]
  },
  {
   "cell_type": "markdown",
   "id": "bf4b082a",
   "metadata": {},
   "source": [
    "### 5.6"
   ]
  }
 ],
 "metadata": {
  "interpreter": {
   "hash": "aee8b7b246df8f9039afb4144a1f6fd8d2ca17a180786b69acc140d282b71a49"
  },
  "kernelspec": {
   "display_name": "Python 3.9.6 64-bit",
   "name": "python3"
  },
  "language_info": {
   "codemirror_mode": {
    "name": "ipython",
    "version": 3
   },
   "file_extension": ".py",
   "mimetype": "text/x-python",
   "name": "python",
   "nbconvert_exporter": "python",
   "pygments_lexer": "ipython3",
   "version": "3.9.6"
  }
 },
 "nbformat": 4,
 "nbformat_minor": 5
}
